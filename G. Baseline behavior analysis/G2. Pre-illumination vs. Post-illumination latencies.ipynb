{
 "cells": [
  {
   "cell_type": "code",
   "execution_count": 1,
   "id": "prospective-agriculture",
   "metadata": {},
   "outputs": [],
   "source": [
    "import pandas as pd\n",
    "import numpy as np\n",
    "import seaborn as sns\n",
    "import matplotlib.pyplot as plt\n",
    "import matplotlib.lines as mlines\n",
    "import matplotlib.patches as mpatches\n",
    "from file_lists import get_file_list\n",
    "from scipy.stats import wilcoxon\n",
    "from scipy.stats import mannwhitneyu\n",
    "%matplotlib inline\n",
    "%run data_prep_functions.ipynb"
   ]
  },
  {
   "cell_type": "markdown",
   "id": "trying-powell",
   "metadata": {},
   "source": [
    "### <font color='royalblue'> Read the data (test runs below 15 seconds)"
   ]
  },
  {
   "cell_type": "code",
   "execution_count": 2,
   "id": "bulgarian-terrace",
   "metadata": {
    "slideshow": {
     "slide_type": "skip"
    }
   },
   "outputs": [],
   "source": [
    "file_path = \"E:\\POSITION DATA\\PRE PROCESSED/below15_runs.csv\"\n",
    "below15 = pd.read_csv(file_path)"
   ]
  },
  {
   "cell_type": "code",
   "execution_count": 3,
   "id": "architectural-metropolitan",
   "metadata": {
    "scrolled": true
   },
   "outputs": [
    {
     "data": {
      "text/html": [
       "<div>\n",
       "<style scoped>\n",
       "    .dataframe tbody tr th:only-of-type {\n",
       "        vertical-align: middle;\n",
       "    }\n",
       "\n",
       "    .dataframe tbody tr th {\n",
       "        vertical-align: top;\n",
       "    }\n",
       "\n",
       "    .dataframe thead th {\n",
       "        text-align: right;\n",
       "    }\n",
       "</style>\n",
       "<table border=\"1\" class=\"dataframe\">\n",
       "  <thead>\n",
       "    <tr style=\"text-align: right;\">\n",
       "      <th></th>\n",
       "      <th>session</th>\n",
       "      <th>rat</th>\n",
       "      <th>run_nr</th>\n",
       "      <th>start_timestamp</th>\n",
       "      <th>run_type</th>\n",
       "      <th>stim_condition</th>\n",
       "      <th>outcome</th>\n",
       "      <th>group</th>\n",
       "      <th>cp_entry_timestamp</th>\n",
       "      <th>cp_exit_timestamp</th>\n",
       "      <th>latency_to_cp_entry</th>\n",
       "      <th>latency_to_cp_exit</th>\n",
       "      <th>time_in_cp</th>\n",
       "    </tr>\n",
       "  </thead>\n",
       "  <tbody>\n",
       "    <tr>\n",
       "      <th>0</th>\n",
       "      <td>2019-08-08T12_41_07</td>\n",
       "      <td>NPHR1</td>\n",
       "      <td>6.0</td>\n",
       "      <td>368.579635</td>\n",
       "      <td>T</td>\n",
       "      <td>1</td>\n",
       "      <td>1.0</td>\n",
       "      <td>NPHR</td>\n",
       "      <td>371.569088</td>\n",
       "      <td>372.640947</td>\n",
       "      <td>2.989453</td>\n",
       "      <td>4.061312</td>\n",
       "      <td>1.071859</td>\n",
       "    </tr>\n",
       "    <tr>\n",
       "      <th>1</th>\n",
       "      <td>2019-08-08T12_41_07</td>\n",
       "      <td>NPHR1</td>\n",
       "      <td>10.0</td>\n",
       "      <td>751.518003</td>\n",
       "      <td>T</td>\n",
       "      <td>3</td>\n",
       "      <td>1.0</td>\n",
       "      <td>NPHR</td>\n",
       "      <td>755.435469</td>\n",
       "      <td>756.431386</td>\n",
       "      <td>3.917466</td>\n",
       "      <td>4.913382</td>\n",
       "      <td>0.995917</td>\n",
       "    </tr>\n",
       "    <tr>\n",
       "      <th>2</th>\n",
       "      <td>2019-08-08T12_41_07</td>\n",
       "      <td>NPHR1</td>\n",
       "      <td>14.0</td>\n",
       "      <td>954.084992</td>\n",
       "      <td>T</td>\n",
       "      <td>3</td>\n",
       "      <td>0.0</td>\n",
       "      <td>NPHR</td>\n",
       "      <td>957.866982</td>\n",
       "      <td>958.900954</td>\n",
       "      <td>3.781990</td>\n",
       "      <td>4.815962</td>\n",
       "      <td>1.033971</td>\n",
       "    </tr>\n",
       "    <tr>\n",
       "      <th>3</th>\n",
       "      <td>2019-08-08T12_41_07</td>\n",
       "      <td>NPHR1</td>\n",
       "      <td>18.0</td>\n",
       "      <td>1151.446016</td>\n",
       "      <td>T</td>\n",
       "      <td>0</td>\n",
       "      <td>1.0</td>\n",
       "      <td>NPHR</td>\n",
       "      <td>1153.832614</td>\n",
       "      <td>1154.563149</td>\n",
       "      <td>2.386598</td>\n",
       "      <td>3.117133</td>\n",
       "      <td>0.730534</td>\n",
       "    </tr>\n",
       "    <tr>\n",
       "      <th>4</th>\n",
       "      <td>2019-08-08T12_41_07</td>\n",
       "      <td>NPHR1</td>\n",
       "      <td>22.0</td>\n",
       "      <td>1375.846490</td>\n",
       "      <td>T</td>\n",
       "      <td>3</td>\n",
       "      <td>1.0</td>\n",
       "      <td>NPHR</td>\n",
       "      <td>1378.606669</td>\n",
       "      <td>1379.300582</td>\n",
       "      <td>2.760179</td>\n",
       "      <td>3.454093</td>\n",
       "      <td>0.693914</td>\n",
       "    </tr>\n",
       "  </tbody>\n",
       "</table>\n",
       "</div>"
      ],
      "text/plain": [
       "               session    rat  run_nr  start_timestamp run_type  \\\n",
       "0  2019-08-08T12_41_07  NPHR1     6.0       368.579635        T   \n",
       "1  2019-08-08T12_41_07  NPHR1    10.0       751.518003        T   \n",
       "2  2019-08-08T12_41_07  NPHR1    14.0       954.084992        T   \n",
       "3  2019-08-08T12_41_07  NPHR1    18.0      1151.446016        T   \n",
       "4  2019-08-08T12_41_07  NPHR1    22.0      1375.846490        T   \n",
       "\n",
       "   stim_condition  outcome group  cp_entry_timestamp  cp_exit_timestamp  \\\n",
       "0               1      1.0  NPHR          371.569088         372.640947   \n",
       "1               3      1.0  NPHR          755.435469         756.431386   \n",
       "2               3      0.0  NPHR          957.866982         958.900954   \n",
       "3               0      1.0  NPHR         1153.832614        1154.563149   \n",
       "4               3      1.0  NPHR         1378.606669        1379.300582   \n",
       "\n",
       "   latency_to_cp_entry  latency_to_cp_exit  time_in_cp  \n",
       "0             2.989453            4.061312    1.071859  \n",
       "1             3.917466            4.913382    0.995917  \n",
       "2             3.781990            4.815962    1.033971  \n",
       "3             2.386598            3.117133    0.730534  \n",
       "4             2.760179            3.454093    0.693914  "
      ]
     },
     "execution_count": 3,
     "metadata": {},
     "output_type": "execute_result"
    }
   ],
   "source": [
    "below15.head()"
   ]
  },
  {
   "cell_type": "code",
   "execution_count": 4,
   "id": "imperial-airfare",
   "metadata": {},
   "outputs": [
    {
     "data": {
      "text/plain": [
       "array([3, 0], dtype=int64)"
      ]
     },
     "execution_count": 4,
     "metadata": {},
     "output_type": "execute_result"
    }
   ],
   "source": [
    "preillum_runs = below15[below15['stim_condition']==-1]\n",
    "below15 = below15[(below15['stim_condition']==0) | (below15['stim_condition']==3)]                 \n",
    "below15['stim_condition'].unique()"
   ]
  },
  {
   "cell_type": "code",
   "execution_count": 5,
   "id": "interior-football",
   "metadata": {},
   "outputs": [
    {
     "data": {
      "text/plain": [
       "array([-1], dtype=int64)"
      ]
     },
     "execution_count": 5,
     "metadata": {},
     "output_type": "execute_result"
    }
   ],
   "source": [
    "preillum_runs['stim_condition'].unique()"
   ]
  },
  {
   "cell_type": "code",
   "execution_count": 6,
   "id": "adjacent-tomato",
   "metadata": {},
   "outputs": [
    {
     "data": {
      "text/plain": [
       "group  stim_condition\n",
       "CTRL   0                  954\n",
       "       3                  937\n",
       "NPHR   0                 1196\n",
       "       3                 1164\n",
       "Name: session, dtype: int64"
      ]
     },
     "execution_count": 6,
     "metadata": {},
     "output_type": "execute_result"
    }
   ],
   "source": [
    "counts=below15.groupby(['group','stim_condition']).count()['session']\n",
    "counts"
   ]
  },
  {
   "cell_type": "code",
   "execution_count": 7,
   "id": "quarterly-walker",
   "metadata": {},
   "outputs": [
    {
     "data": {
      "text/plain": [
       "group  stim_condition\n",
       "CTRL   -1                544\n",
       "NPHR   -1                641\n",
       "Name: session, dtype: int64"
      ]
     },
     "execution_count": 7,
     "metadata": {},
     "output_type": "execute_result"
    }
   ],
   "source": [
    "preillum_runs.groupby(['group','stim_condition']).count()['session']"
   ]
  },
  {
   "cell_type": "markdown",
   "id": "progressive-concern",
   "metadata": {},
   "source": [
    "## <font color='royalblue'> Latency to choice point across sessions"
   ]
  },
  {
   "cell_type": "code",
   "execution_count": 8,
   "id": "infrared-individual",
   "metadata": {},
   "outputs": [],
   "source": [
    "# Add session numbers to each session timestamp\n",
    "def add_session_nr(group,i):\n",
    "    \n",
    "    session_list = np.sort(group['session'].unique())\n",
    "    for session in session_list:\n",
    "        group.loc[group['session']==session,'session_nr']=i\n",
    "        i+=1\n",
    "    return group\n",
    "\n",
    "below15= below15.groupby(['group', 'rat']).apply(add_session_nr, 1).reset_index(drop=True)\n",
    "preillum_runs = preillum_runs.groupby(['group','rat']).apply(add_session_nr, -2).reset_index(drop=True)"
   ]
  },
  {
   "cell_type": "code",
   "execution_count": 9,
   "id": "unexpected-dayton",
   "metadata": {},
   "outputs": [],
   "source": [
    "# Calculate the median latencies across sessions\n",
    "medians = below15.groupby(['group','stim_condition','rat','session_nr'])['latency_to_cp_entry'].apply(np.median)\n",
    "medians = medians.reset_index()\n",
    "\n",
    "#Remove two extra sessions from NPHR6\n",
    "medians = medians[medians['session_nr'].between(-2,15)]"
   ]
  },
  {
   "cell_type": "code",
   "execution_count": 10,
   "id": "collect-antique",
   "metadata": {},
   "outputs": [],
   "source": [
    "below15 = pd.concat([below15, preillum_runs])\n",
    "below15=below15[below15['session_nr']<=15]"
   ]
  },
  {
   "cell_type": "code",
   "execution_count": 11,
   "id": "alive-visiting",
   "metadata": {
    "scrolled": false
   },
   "outputs": [
    {
     "data": {
      "text/plain": [
       "<Figure size 6000x3000 with 0 Axes>"
      ]
     },
     "metadata": {},
     "output_type": "display_data"
    },
    {
     "data": {
      "image/png": "[encoded data removed]",
      "text/plain": [
       "<Figure size 970.15x432 with 1 Axes>"
      ]
     },
     "metadata": {},
     "output_type": "display_data"
    }
   ],
   "source": [
    "plt.figure(figsize=(20,10),dpi=300)\n",
    "sns.set(style='white', context='talk')\n",
    "g = sns.catplot(kind='box',data=below15,\n",
    "                x='session_nr', y='latency_to_cp_entry', hue='group', hue_order=['CTRL','NPHR'],\n",
    "                height=6, aspect=2, palette=['lightseagreen', 'orange']\n",
    "                )\n",
    "sns.despine()"
   ]
  },
  {
   "cell_type": "code",
   "execution_count": null,
   "id": "nominated-candle",
   "metadata": {},
   "outputs": [],
   "source": []
  }
 ],
 "metadata": {
  "kernelspec": {
   "display_name": "Python 3",
   "language": "python",
   "name": "python3"
  },
  "language_info": {
   "codemirror_mode": {
    "name": "ipython",
    "version": 3
   },
   "file_extension": ".py",
   "mimetype": "text/x-python",
   "name": "python",
   "nbconvert_exporter": "python",
   "pygments_lexer": "ipython3",
   "version": "3.8.8"
  }
 },
 "nbformat": 4,
 "nbformat_minor": 5
}
