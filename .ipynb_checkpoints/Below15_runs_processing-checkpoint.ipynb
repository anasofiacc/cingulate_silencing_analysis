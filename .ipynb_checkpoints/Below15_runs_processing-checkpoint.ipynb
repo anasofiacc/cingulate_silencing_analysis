{
 "cells": [
  {
   "cell_type": "markdown",
   "metadata": {},
   "source": [
    "### Below15 runs processing\n",
    "\n",
    "##### In this notebook, we will calculate new columns that will later on be used in the data analysis.\n",
    "##### Removal of outliers is also achieved in this step"
   ]
  },
  {
   "cell_type": "code",
   "execution_count": 237,
   "metadata": {},
   "outputs": [],
   "source": [
    "import pandas as pd\n",
    "import numpy as np\n",
    "import seaborn as sns\n",
    "import matplotlib.pyplot as plt\n",
    "%matplotlib inline\n",
    "%run \"C:\\Users\\anasofiaccruz\\Desktop\\cingulate_silencing_repo\\general_purpose_functions.ipynb\""
   ]
  },
  {
   "cell_type": "markdown",
   "metadata": {},
   "source": [
    "#### Read data with below 15 runs"
   ]
  },
  {
   "cell_type": "code",
   "execution_count": 238,
   "metadata": {},
   "outputs": [],
   "source": [
    "file_path='C:/Users/anasofiaccruz/Desktop/Optogenetics processed data/below15_runs_no_baseline.csv'\n",
    "below15 = pd.read_csv(file_path)"
   ]
  },
  {
   "cell_type": "markdown",
   "metadata": {},
   "source": [
    "#### Add session numbers columns"
   ]
  },
  {
   "cell_type": "code",
   "execution_count": 239,
   "metadata": {},
   "outputs": [],
   "source": [
    "below15= below15.groupby(['group', 'rat']).apply(add_session_nr).reset_index(drop=True)\n",
    "below15 = below15[below15['session_nr']<16]"
   ]
  },
  {
   "cell_type": "markdown",
   "metadata": {},
   "source": [
    "#### Add previous trial (i-1) variables"
   ]
  },
  {
   "cell_type": "code",
   "execution_count": 240,
   "metadata": {},
   "outputs": [],
   "source": [
    "cols_to_shift=['outcome', 'stim_condition', 'latency_to_cp_entry', 'time_in_cp']\n",
    "\n",
    "for col in cols_to_shift:\n",
    "    below15 = create_var_shifted_column(below15, col, 1)"
   ]
  },
  {
   "cell_type": "code",
   "execution_count": 241,
   "metadata": {},
   "outputs": [
    {
     "data": {
      "text/plain": [
       "Index(['Unnamed: 0', 'session', 'rat', 'run_nr', 'start_timestamp', 'run_type',\n",
       "       'stim_condition', 'outcome', 'group', 'cp_entry_timestamp',\n",
       "       'cp_exit_timestamp', 'latency_to_cp_entry', 'latency_to_cp_exit',\n",
       "       'time_in_cp', 'session_nr', 'outcome_shifted', 'stim_condition_shifted',\n",
       "       'latency_to_cp_entry_shifted', 'time_in_cp_shifted'],\n",
       "      dtype='object')"
      ]
     },
     "execution_count": 241,
     "metadata": {},
     "output_type": "execute_result"
    }
   ],
   "source": [
    "# Check df columns\n",
    "below15.columns"
   ]
  },
  {
   "cell_type": "markdown",
   "metadata": {},
   "source": [
    "#### Transforming variables"
   ]
  },
  {
   "cell_type": "code",
   "execution_count": 242,
   "metadata": {},
   "outputs": [],
   "source": [
    "# Transform latency and time in cp variables using their inverse\n",
    "below15['inv_latency_to_cp_entry']=1/(below15['latency_to_cp_entry'])\n",
    "below15['inv_time_in_cp']=1/(below15['time_in_cp'])"
   ]
  },
  {
   "cell_type": "code",
   "execution_count": 243,
   "metadata": {},
   "outputs": [
    {
     "name": "stdout",
     "output_type": "stream",
     "text": [
      "inv_latency_to_cp_entry: skew=-0.1748103582007054, kurtosis=-0.8325378887152262\n",
      "inv_time_in_cp: skew=0.5693962224892745, kurtosis=1.7420739637085658\n"
     ]
    },
    {
     "data": {
      "image/png": "[encoded data removed]",
      "text/plain": [
       "<Figure size 360x360 with 1 Axes>"
      ]
     },
     "metadata": {},
     "output_type": "display_data"
    },
    {
     "data": {
      "image/png": "[encoded data removed]",
      "text/plain": [
       "<Figure size 360x360 with 1 Axes>"
      ]
     },
     "metadata": {},
     "output_type": "display_data"
    }
   ],
   "source": [
    "cols=['inv_latency_to_cp_entry', 'inv_time_in_cp']\n",
    "for col in cols:\n",
    "    check_variables_distribution_parameters(below15, col) "
   ]
  },
  {
   "cell_type": "markdown",
   "metadata": {},
   "source": [
    "#### Outlier removal (> 1.5IQR on the inverse transform of latency to cp entry and time in cp)"
   ]
  },
  {
   "cell_type": "code",
   "execution_count": 244,
   "metadata": {},
   "outputs": [],
   "source": [
    "#Calculate the upper limits for time in CP and latency_to_cp_entry\n",
    "to_cp_upper_lim=calculate_upper_limit_using_iqr(below15,'inv_latency_to_cp_entry')\n",
    "in_cp_upper_lim=calculate_upper_limit_using_iqr(below15,'inv_time_in_cp')"
   ]
  },
  {
   "cell_type": "code",
   "execution_count": 245,
   "metadata": {},
   "outputs": [],
   "source": [
    "no_outliers=below15.groupby(['group','rat', 'stim_condition']).apply(\n",
    "    remove_outliers, \n",
    "    'inv_latency_to_cp_entry',\n",
    "    to_cp_upper_lim\n",
    ").reset_index(drop=True)\n",
    "\n",
    "no_outliers=no_outliers.groupby(['group','rat', 'stim_condition']).apply(\n",
    "    remove_outliers,\n",
    "    'inv_time_in_cp',\n",
    "    in_cp_upper_lim\n",
    ").reset_index(drop=True)"
   ]
  },
  {
   "cell_type": "code",
   "execution_count": 246,
   "metadata": {},
   "outputs": [
    {
     "name": "stdout",
     "output_type": "stream",
     "text": [
      "% of removed outliers: 0.9916115502500403\n"
     ]
    }
   ],
   "source": [
    "#Check the % of removed outliers in the whole dataframe\n",
    "print('% of removed outliers: {}'.format(len(no_outliers)/len(below15)))"
   ]
  },
  {
   "cell_type": "code",
   "execution_count": 247,
   "metadata": {},
   "outputs": [
    {
     "data": {
      "text/plain": [
       "rat\n",
       "CTRL2     1.000000\n",
       "CTRL3     1.000000\n",
       "CTRL4     0.997653\n",
       "CTRL5     0.982456\n",
       "CTRL6     0.994286\n",
       "CTRL7     0.990930\n",
       "CTRL8     0.988318\n",
       "NPHR1     0.993289\n",
       "NPHR10    0.993182\n",
       "NPHR11    0.988764\n",
       "NPHR2     1.000000\n",
       "NPHR4     0.986413\n",
       "NPHR5     1.000000\n",
       "NPHR6     0.997297\n",
       "NPHR7     0.967059\n",
       "NPHR8     0.989247\n",
       "NPHR9     1.000000\n",
       "Name: run_nr, dtype: float64"
      ]
     },
     "execution_count": 247,
     "metadata": {},
     "output_type": "execute_result"
    }
   ],
   "source": [
    "#Check the % of removed outliers per rat\n",
    "no_outliers.groupby(['rat'])['run_nr'].count()/below15.groupby(['rat'])['run_nr'].count()"
   ]
  },
  {
   "cell_type": "markdown",
   "metadata": {},
   "source": [
    "#### Save data into a .csv file"
   ]
  },
  {
   "cell_type": "code",
   "execution_count": 236,
   "metadata": {},
   "outputs": [],
   "source": [
    "no_outliers.to_csv('C:/Users/anasofiaccruz/Desktop/Optogenetics processed data/no_outliers_no_baseline.csv',\n",
    "                  index=False)"
   ]
  },
  {
   "cell_type": "code",
   "execution_count": null,
   "metadata": {},
   "outputs": [],
   "source": []
  }
 ],
 "metadata": {
  "kernelspec": {
   "display_name": "Python 3",
   "language": "python",
   "name": "python3"
  },
  "language_info": {
   "codemirror_mode": {
    "name": "ipython",
    "version": 3
   },
   "file_extension": ".py",
   "mimetype": "text/x-python",
   "name": "python",
   "nbconvert_exporter": "python",
   "pygments_lexer": "ipython3",
   "version": "3.8.8"
  }
 },
 "nbformat": 4,
 "nbformat_minor": 4
}
