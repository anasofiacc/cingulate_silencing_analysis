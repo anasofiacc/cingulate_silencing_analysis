{
 "cells": [
  {
   "cell_type": "markdown",
   "metadata": {},
   "source": [
    "# <font color=dodgerblue> Add run specifications and prune post-reward data points"
   ]
  },
  {
   "cell_type": "markdown",
   "metadata": {},
   "source": [
    "## <font color=firebrick> Imports\n",
    "***"
   ]
  },
  {
   "cell_type": "code",
   "execution_count": 75,
   "metadata": {},
   "outputs": [],
   "source": [
    "import pandas as pd\n",
    "import numpy as np\n",
    "import os\n",
    "import re\n",
    "import matplotlib.pyplot as plt\n",
    "import seaborn as sns\n",
    "\n",
    "from file_lists import get_file_list"
   ]
  },
  {
   "cell_type": "markdown",
   "metadata": {},
   "source": [
    "##  <font color=firebrick> Inputs\n",
    "    \n",
    "***"
   ]
  },
  {
   "cell_type": "code",
   "execution_count": 151,
   "metadata": {},
   "outputs": [],
   "source": [
    "files_path=\"E:\\POSITION DATA/PRE PROCESSED\\ZEUS_NPHR5\""
   ]
  },
  {
   "cell_type": "markdown",
   "metadata": {},
   "source": [
    "##  <font color=firebrick> Functions\n",
    "***"
   ]
  },
  {
   "cell_type": "code",
   "execution_count": 152,
   "metadata": {},
   "outputs": [],
   "source": [
    "def find_session_match_in_roi_df(roi_df, session):\n",
    "    \n",
    "    '''\n",
    "    Returns ROI limits from roi_df according to the given session.\n",
    "    '''\n",
    "    mask = roi_df['session'].str.contains(session[0:15], regex=False)    \n",
    "    roi_df = roi_df[mask]\n",
    "\n",
    "    return roi_df\n",
    "\n",
    "\n",
    "def find_session_roi_limits_to_plot(b, session): \n",
    "    \n",
    "    '''\n",
    "    Returns an x and y list of coordinate to draw the ROI on top of the position data.S\n",
    "    '''\n",
    "    b = find_session_match_in_roi_df(b, session)\n",
    "\n",
    "    x = [b['xlim1'].iloc[0], b['xlim1'].iloc[0], b['xlim2'].iloc[0], b['xlim2'].iloc[0], b['xlim1'].iloc[0]]\n",
    "    y = [b['ylim1'].iloc[0], b['ylim2'].iloc[0], b['ylim2'].iloc[0], b['ylim1'].iloc[0], b['ylim1'].iloc[0]]\n",
    "        \n",
    "    return x,y \n",
    "\n",
    "\n",
    "def prune_runs(group, rw1_rois, rw2_rois):\n",
    "    \n",
    "    '''\n",
    "    Returns the run data pruned by removing the position data after the rat is detected past the 4 cm until the RW port\n",
    "    '''  \n",
    "    # Get RW1 andS RW2 limits according to session\n",
    "    session = group['session'].iloc[0]\n",
    "    run_nr = group['run_nr'].iloc[0]\n",
    "    \n",
    "  \n",
    "    if group['stim_condition'].iloc[0] == 2 or group['stim_condition'].iloc[0] == 4:\n",
    "        \n",
    "        group.loc[:,:] = np.nan\n",
    "    \n",
    "    else:\n",
    "  \n",
    "        rw1_session = find_session_match_in_roi_df(rw1_rois, session)\n",
    "        rw2_session = find_session_match_in_roi_df(rw2_rois, session)\n",
    "   \n",
    "        # Create a mask to keep only data inside these ROIS\n",
    "        rw1_mask = ((group['x'] <= rw1_session['xlim2'].iloc[0]) & \n",
    "                   (group['y'].between(rw1_session['ylim1'].iloc[0], rw1_session['ylim2'].iloc[0])))                                                              \n",
    "        rw2_mask = ((group['x'] <= rw2_session['xlim2'].iloc[0]) & \n",
    "                   (group['y'].between(rw2_session['ylim1'].iloc[0], rw2_session['ylim2'].iloc[0])))\n",
    "\n",
    "        # Apply the mask to the run and collect the first timestamp (1st detected point in either ROIs)\n",
    "        group_masked = group[((rw2_mask) | (rw1_mask))]\n",
    "\n",
    "        # Drop data in the run past timestamp\n",
    "        try:\n",
    "            timestamp = group_masked['timestamp'].iloc[0]\n",
    "            group = group[group['timestamp'] <= timestamp]\n",
    "        except:\n",
    "            print('removed group: %s, %s'%(session, run_nr))\n",
    "            group.loc[:,:] = np.nan\n",
    "\n",
    "    return group"
   ]
  },
  {
   "cell_type": "markdown",
   "metadata": {},
   "source": [
    "## <font color=mediumseagreen> Open the timestamped position DataFrame\n",
    "***"
   ]
  },
  {
   "cell_type": "code",
   "execution_count": 153,
   "metadata": {},
   "outputs": [],
   "source": [
    "# Find rat code in files_path.\n",
    "match = re.search(r\"_(\\w+\\d+)\", files_path)\n",
    "rat = match.group(1)\n",
    "\n",
    "# Open raw data from step2 \n",
    "path = os.path.join(files_path, \"Timestamped_position\", \"%s_timestamped_position_df_raw.csv\"%rat)\n",
    "df1 = pd.read_csv(path, header=0, index_col=0)"
   ]
  },
  {
   "cell_type": "markdown",
   "metadata": {},
   "source": [
    "## <font color=mediumseagreen> Add the run specifications to each run\n",
    "***"
   ]
  },
  {
   "cell_type": "code",
   "execution_count": 160,
   "metadata": {
    "scrolled": false
   },
   "outputs": [
    {
     "name": "stdout",
     "output_type": "stream",
     "text": [
      "2020-08-04T14_20_52\n",
      "2020-08-05T13_36_39\n",
      "2020-08-06T11_02_12\n"
     ]
    },
    {
     "ename": "KeyError",
     "evalue": "1",
     "output_type": "error",
     "traceback": [
      "\u001b[1;31m---------------------------------------------------------------------------\u001b[0m",
      "\u001b[1;31mKeyError\u001b[0m                                  Traceback (most recent call last)",
      "\u001b[1;32m~\\Anaconda3\\envs\\data_analysis\\lib\\site-packages\\pandas\\core\\indexes\\base.py\u001b[0m in \u001b[0;36mget_loc\u001b[1;34m(self, key, method, tolerance)\u001b[0m\n\u001b[0;32m   2894\u001b[0m             \u001b[1;32mtry\u001b[0m\u001b[1;33m:\u001b[0m\u001b[1;33m\u001b[0m\u001b[1;33m\u001b[0m\u001b[0m\n\u001b[1;32m-> 2895\u001b[1;33m                 \u001b[1;32mreturn\u001b[0m \u001b[0mself\u001b[0m\u001b[1;33m.\u001b[0m\u001b[0m_engine\u001b[0m\u001b[1;33m.\u001b[0m\u001b[0mget_loc\u001b[0m\u001b[1;33m(\u001b[0m\u001b[0mcasted_key\u001b[0m\u001b[1;33m)\u001b[0m\u001b[1;33m\u001b[0m\u001b[1;33m\u001b[0m\u001b[0m\n\u001b[0m\u001b[0;32m   2896\u001b[0m             \u001b[1;32mexcept\u001b[0m \u001b[0mKeyError\u001b[0m \u001b[1;32mas\u001b[0m \u001b[0merr\u001b[0m\u001b[1;33m:\u001b[0m\u001b[1;33m\u001b[0m\u001b[1;33m\u001b[0m\u001b[0m\n",
      "\u001b[1;32mpandas\\_libs\\index.pyx\u001b[0m in \u001b[0;36mpandas._libs.index.IndexEngine.get_loc\u001b[1;34m()\u001b[0m\n",
      "\u001b[1;32mpandas\\_libs\\index.pyx\u001b[0m in \u001b[0;36mpandas._libs.index.IndexEngine.get_loc\u001b[1;34m()\u001b[0m\n",
      "\u001b[1;32mpandas\\_libs\\hashtable_class_helper.pxi\u001b[0m in \u001b[0;36mpandas._libs.hashtable.Int64HashTable.get_item\u001b[1;34m()\u001b[0m\n",
      "\u001b[1;32mpandas\\_libs\\hashtable_class_helper.pxi\u001b[0m in \u001b[0;36mpandas._libs.hashtable.Int64HashTable.get_item\u001b[1;34m()\u001b[0m\n",
      "\u001b[1;31mKeyError\u001b[0m: 1",
      "\nThe above exception was the direct cause of the following exception:\n",
      "\u001b[1;31mKeyError\u001b[0m                                  Traceback (most recent call last)",
      "\u001b[1;32m<ipython-input-160-dbf7841e0a1d>\u001b[0m in \u001b[0;36m<module>\u001b[1;34m\u001b[0m\n\u001b[0;32m     26\u001b[0m     \u001b[0mpoints_per_run\u001b[0m \u001b[1;33m=\u001b[0m \u001b[1;33m(\u001b[0m\u001b[0mdf\u001b[0m\u001b[1;33m.\u001b[0m\u001b[0mloc\u001b[0m\u001b[1;33m[\u001b[0m\u001b[0msession_mask\u001b[0m\u001b[1;33m,\u001b[0m \u001b[1;34m'run_nr'\u001b[0m\u001b[1;33m]\u001b[0m\u001b[1;33m)\u001b[0m\u001b[1;33m.\u001b[0m\u001b[0mvalue_counts\u001b[0m\u001b[1;33m(\u001b[0m\u001b[1;33m)\u001b[0m\u001b[1;33m.\u001b[0m\u001b[0msort_index\u001b[0m\u001b[1;33m(\u001b[0m\u001b[1;33m)\u001b[0m\u001b[1;33m\u001b[0m\u001b[1;33m\u001b[0m\u001b[0m\n\u001b[0;32m     27\u001b[0m \u001b[1;33m\u001b[0m\u001b[0m\n\u001b[1;32m---> 28\u001b[1;33m     \u001b[0mdf\u001b[0m\u001b[1;33m.\u001b[0m\u001b[0mloc\u001b[0m\u001b[1;33m[\u001b[0m\u001b[0msession_mask\u001b[0m\u001b[1;33m,\u001b[0m \u001b[1;34m'run_type'\u001b[0m\u001b[1;33m]\u001b[0m \u001b[1;33m=\u001b[0m \u001b[0mrun_specs\u001b[0m\u001b[1;33m[\u001b[0m\u001b[1;36m1\u001b[0m\u001b[1;33m]\u001b[0m\u001b[1;33m.\u001b[0m\u001b[0mrepeat\u001b[0m\u001b[1;33m(\u001b[0m\u001b[0mpoints_per_run\u001b[0m\u001b[1;33m)\u001b[0m\u001b[1;33m.\u001b[0m\u001b[0mtolist\u001b[0m\u001b[1;33m(\u001b[0m\u001b[1;33m)\u001b[0m\u001b[1;33m\u001b[0m\u001b[1;33m\u001b[0m\u001b[0m\n\u001b[0m\u001b[0;32m     29\u001b[0m     \u001b[0mdf\u001b[0m\u001b[1;33m.\u001b[0m\u001b[0mloc\u001b[0m\u001b[1;33m[\u001b[0m\u001b[0msession_mask\u001b[0m\u001b[1;33m,\u001b[0m \u001b[1;34m'stim_condition'\u001b[0m\u001b[1;33m]\u001b[0m \u001b[1;33m=\u001b[0m \u001b[0mrun_specs\u001b[0m\u001b[1;33m[\u001b[0m\u001b[1;36m2\u001b[0m\u001b[1;33m]\u001b[0m\u001b[1;33m.\u001b[0m\u001b[0mrepeat\u001b[0m\u001b[1;33m(\u001b[0m\u001b[0mpoints_per_run\u001b[0m\u001b[1;33m)\u001b[0m\u001b[1;33m.\u001b[0m\u001b[0mtolist\u001b[0m\u001b[1;33m(\u001b[0m\u001b[1;33m)\u001b[0m\u001b[1;33m\u001b[0m\u001b[1;33m\u001b[0m\u001b[0m\n\u001b[0;32m     30\u001b[0m     \u001b[0mdf\u001b[0m\u001b[1;33m.\u001b[0m\u001b[0mloc\u001b[0m\u001b[1;33m[\u001b[0m\u001b[0msession_mask\u001b[0m\u001b[1;33m,\u001b[0m \u001b[1;34m'outcome'\u001b[0m\u001b[1;33m]\u001b[0m \u001b[1;33m=\u001b[0m \u001b[0mrun_specs\u001b[0m\u001b[1;33m[\u001b[0m\u001b[1;36m3\u001b[0m\u001b[1;33m]\u001b[0m\u001b[1;33m.\u001b[0m\u001b[0mrepeat\u001b[0m\u001b[1;33m(\u001b[0m\u001b[0mpoints_per_run\u001b[0m\u001b[1;33m)\u001b[0m\u001b[1;33m.\u001b[0m\u001b[0mtolist\u001b[0m\u001b[1;33m(\u001b[0m\u001b[1;33m)\u001b[0m\u001b[1;33m\u001b[0m\u001b[1;33m\u001b[0m\u001b[0m\n",
      "\u001b[1;32m~\\Anaconda3\\envs\\data_analysis\\lib\\site-packages\\pandas\\core\\frame.py\u001b[0m in \u001b[0;36m__getitem__\u001b[1;34m(self, key)\u001b[0m\n\u001b[0;32m   2900\u001b[0m             \u001b[1;32mif\u001b[0m \u001b[0mself\u001b[0m\u001b[1;33m.\u001b[0m\u001b[0mcolumns\u001b[0m\u001b[1;33m.\u001b[0m\u001b[0mnlevels\u001b[0m \u001b[1;33m>\u001b[0m \u001b[1;36m1\u001b[0m\u001b[1;33m:\u001b[0m\u001b[1;33m\u001b[0m\u001b[1;33m\u001b[0m\u001b[0m\n\u001b[0;32m   2901\u001b[0m                 \u001b[1;32mreturn\u001b[0m \u001b[0mself\u001b[0m\u001b[1;33m.\u001b[0m\u001b[0m_getitem_multilevel\u001b[0m\u001b[1;33m(\u001b[0m\u001b[0mkey\u001b[0m\u001b[1;33m)\u001b[0m\u001b[1;33m\u001b[0m\u001b[1;33m\u001b[0m\u001b[0m\n\u001b[1;32m-> 2902\u001b[1;33m             \u001b[0mindexer\u001b[0m \u001b[1;33m=\u001b[0m \u001b[0mself\u001b[0m\u001b[1;33m.\u001b[0m\u001b[0mcolumns\u001b[0m\u001b[1;33m.\u001b[0m\u001b[0mget_loc\u001b[0m\u001b[1;33m(\u001b[0m\u001b[0mkey\u001b[0m\u001b[1;33m)\u001b[0m\u001b[1;33m\u001b[0m\u001b[1;33m\u001b[0m\u001b[0m\n\u001b[0m\u001b[0;32m   2903\u001b[0m             \u001b[1;32mif\u001b[0m \u001b[0mis_integer\u001b[0m\u001b[1;33m(\u001b[0m\u001b[0mindexer\u001b[0m\u001b[1;33m)\u001b[0m\u001b[1;33m:\u001b[0m\u001b[1;33m\u001b[0m\u001b[1;33m\u001b[0m\u001b[0m\n\u001b[0;32m   2904\u001b[0m                 \u001b[0mindexer\u001b[0m \u001b[1;33m=\u001b[0m \u001b[1;33m[\u001b[0m\u001b[0mindexer\u001b[0m\u001b[1;33m]\u001b[0m\u001b[1;33m\u001b[0m\u001b[1;33m\u001b[0m\u001b[0m\n",
      "\u001b[1;32m~\\Anaconda3\\envs\\data_analysis\\lib\\site-packages\\pandas\\core\\indexes\\base.py\u001b[0m in \u001b[0;36mget_loc\u001b[1;34m(self, key, method, tolerance)\u001b[0m\n\u001b[0;32m   2895\u001b[0m                 \u001b[1;32mreturn\u001b[0m \u001b[0mself\u001b[0m\u001b[1;33m.\u001b[0m\u001b[0m_engine\u001b[0m\u001b[1;33m.\u001b[0m\u001b[0mget_loc\u001b[0m\u001b[1;33m(\u001b[0m\u001b[0mcasted_key\u001b[0m\u001b[1;33m)\u001b[0m\u001b[1;33m\u001b[0m\u001b[1;33m\u001b[0m\u001b[0m\n\u001b[0;32m   2896\u001b[0m             \u001b[1;32mexcept\u001b[0m \u001b[0mKeyError\u001b[0m \u001b[1;32mas\u001b[0m \u001b[0merr\u001b[0m\u001b[1;33m:\u001b[0m\u001b[1;33m\u001b[0m\u001b[1;33m\u001b[0m\u001b[0m\n\u001b[1;32m-> 2897\u001b[1;33m                 \u001b[1;32mraise\u001b[0m \u001b[0mKeyError\u001b[0m\u001b[1;33m(\u001b[0m\u001b[0mkey\u001b[0m\u001b[1;33m)\u001b[0m \u001b[1;32mfrom\u001b[0m \u001b[0merr\u001b[0m\u001b[1;33m\u001b[0m\u001b[1;33m\u001b[0m\u001b[0m\n\u001b[0m\u001b[0;32m   2898\u001b[0m \u001b[1;33m\u001b[0m\u001b[0m\n\u001b[0;32m   2899\u001b[0m         \u001b[1;32mif\u001b[0m \u001b[0mtolerance\u001b[0m \u001b[1;32mis\u001b[0m \u001b[1;32mnot\u001b[0m \u001b[1;32mNone\u001b[0m\u001b[1;33m:\u001b[0m\u001b[1;33m\u001b[0m\u001b[1;33m\u001b[0m\u001b[0m\n",
      "\u001b[1;31mKeyError\u001b[0m: 1"
     ]
    }
   ],
   "source": [
    "# Add three new columns to df\n",
    "df2 = pd.DataFrame(columns=['run_type', 'stim_condition', 'outcome'])\n",
    "df = pd.concat([df1, df2], axis=1)\n",
    "\n",
    "# Collect list of file names within files_path containing the given string pattern\n",
    "run_specs_path = os.path.join(files_path, \"Run_specs\")\n",
    "run_specs_files = pd.Series(get_file_list(run_specs_path, \"*.csv\"))\n",
    "\n",
    "# Collect list of session codes from data\n",
    "sessions = df['session'].unique().tolist()\n",
    "\n",
    "for session in sessions:\n",
    "    print(session)\n",
    "    contain_match_mask = run_specs_files.str.contains(session) \n",
    "    run_specs_file = (run_specs_files[contain_match_mask]).iloc[0]\n",
    "   \n",
    "    path = os.path.join(run_specs_path, run_specs_file)\n",
    "    \n",
    "    try:\n",
    "        run_specs = pd.read_csv(path, header=None, delimiter=',')\n",
    "    except:\n",
    "        print('a')\n",
    "        run_specs = pd.read_csv(path, header=None, delimiter=';')\n",
    "        \n",
    "    \n",
    "    # Collect number of position points per each run within the session\n",
    "    session_mask = (df['session'] == session)    \n",
    "    points_per_run = (df.loc[session_mask, 'run_nr']).value_counts().sort_index()\n",
    "    \n",
    "    df.loc[session_mask, 'run_type'] = run_specs[1].repeat(points_per_run).tolist()\n",
    "    df.loc[session_mask, 'stim_condition'] = run_specs[2].repeat(points_per_run).tolist()\n",
    "    df.loc[session_mask, 'outcome'] = run_specs[3].repeat(points_per_run).tolist()\n",
    "\n",
    "df = df.dropna(axis=0)"
   ]
  },
  {
   "cell_type": "markdown",
   "metadata": {},
   "source": [
    "## <font color=mediumseagreen> Prune runs by removing backward movements after reward delivery\n",
    "***"
   ]
  },
  {
   "cell_type": "code",
   "execution_count": null,
   "metadata": {},
   "outputs": [],
   "source": [
    "# Open RW1 and RW2 limits .csv files\n",
    "rw1_rois_path = os.path.join(files_path, \"ROIS\", \"%s_rw1_rois_converted.csv\"%rat)\n",
    "rw2_rois_path = os.path.join(files_path, \"ROIS\", \"%s_rw2_rois_converted.csv\"%rat)\n",
    "\n",
    "rw1_rois = pd.read_csv(rw1_rois_path, header=0, index_col=0)\n",
    "rw2_rois = pd.read_csv(rw2_rois_path, header=0, index_col=0)"
   ]
  },
  {
   "cell_type": "code",
   "execution_count": null,
   "metadata": {},
   "outputs": [],
   "source": [
    "# Create a rw limit box for detection\n",
    "for rois in [rw1_rois, rw2_rois]:\n",
    "    \n",
    "    rois['ylim1'] = rois['y'] - 25\n",
    "    rois['ylim2'] = rois['y'] + 25\n",
    "    rois['xlim1'] = rois['x'] - 5\n",
    "    rois['xlim2'] = rois['x'] + 5\n",
    "    \n",
    "rw1_rois.to_csv(os.path.join(files_path, \"ROIS\", \"%s_rw1_rois_final.csv\"%rat))\n",
    "rw2_rois.to_csv(os.path.join(files_path,\"ROIS\", \"%s_rw2_rois_final.csv\"%rat))"
   ]
  },
  {
   "cell_type": "code",
   "execution_count": null,
   "metadata": {},
   "outputs": [],
   "source": [
    "# Drop backward movements after reward by removing datapoints after the arrival to 3 cm before the reward port\n",
    "df_pruned = df.groupby([\"session\",\"run_nr\"]).apply(prune_runs, rw1_rois, rw2_rois).dropna()"
   ]
  },
  {
   "cell_type": "code",
   "execution_count": null,
   "metadata": {},
   "outputs": [],
   "source": [
    "df_pruned['stim_condition'].value_counts()"
   ]
  },
  {
   "cell_type": "code",
   "execution_count": 150,
   "metadata": {},
   "outputs": [
    {
     "name": "stdout",
     "output_type": "stream",
     "text": [
      "2020-08-04T14_20_52\n"
     ]
    },
    {
     "ename": "IndexError",
     "evalue": "single positional indexer is out-of-bounds",
     "output_type": "error",
     "traceback": [
      "\u001b[1;31m---------------------------------------------------------------------------\u001b[0m",
      "\u001b[1;31mIndexError\u001b[0m                                Traceback (most recent call last)",
      "\u001b[1;32m<ipython-input-150-06e662376b5a>\u001b[0m in \u001b[0;36m<module>\u001b[1;34m\u001b[0m\n\u001b[0;32m      4\u001b[0m     \u001b[0msession_df_pruned\u001b[0m \u001b[1;33m=\u001b[0m \u001b[0mdf_pruned\u001b[0m\u001b[1;33m[\u001b[0m\u001b[0mdf_pruned\u001b[0m\u001b[1;33m[\u001b[0m\u001b[1;34m'session'\u001b[0m\u001b[1;33m]\u001b[0m \u001b[1;33m==\u001b[0m \u001b[0msession\u001b[0m\u001b[1;33m]\u001b[0m\u001b[1;33m\u001b[0m\u001b[1;33m\u001b[0m\u001b[0m\n\u001b[0;32m      5\u001b[0m \u001b[1;33m\u001b[0m\u001b[0m\n\u001b[1;32m----> 6\u001b[1;33m     \u001b[0mrw1_x\u001b[0m\u001b[1;33m,\u001b[0m \u001b[0mrw1_y\u001b[0m \u001b[1;33m=\u001b[0m \u001b[0mfind_session_roi_limits_to_plot\u001b[0m\u001b[1;33m(\u001b[0m\u001b[0mrw1_rois\u001b[0m\u001b[1;33m,\u001b[0m \u001b[0msession\u001b[0m\u001b[1;33m)\u001b[0m\u001b[1;33m\u001b[0m\u001b[1;33m\u001b[0m\u001b[0m\n\u001b[0m\u001b[0;32m      7\u001b[0m     \u001b[0mrw2_x\u001b[0m\u001b[1;33m,\u001b[0m \u001b[0mrw2_y\u001b[0m \u001b[1;33m=\u001b[0m \u001b[0mfind_session_roi_limits_to_plot\u001b[0m\u001b[1;33m(\u001b[0m\u001b[0mrw2_rois\u001b[0m\u001b[1;33m,\u001b[0m \u001b[0msession\u001b[0m\u001b[1;33m)\u001b[0m\u001b[1;33m\u001b[0m\u001b[1;33m\u001b[0m\u001b[0m\n\u001b[0;32m      8\u001b[0m \u001b[1;33m\u001b[0m\u001b[0m\n",
      "\u001b[1;32m<ipython-input-147-4b1e9eba8945>\u001b[0m in \u001b[0;36mfind_session_roi_limits_to_plot\u001b[1;34m(b, session)\u001b[0m\n\u001b[0;32m     17\u001b[0m     \u001b[0mb\u001b[0m \u001b[1;33m=\u001b[0m \u001b[0mfind_session_match_in_roi_df\u001b[0m\u001b[1;33m(\u001b[0m\u001b[0mb\u001b[0m\u001b[1;33m,\u001b[0m \u001b[0msession\u001b[0m\u001b[1;33m)\u001b[0m\u001b[1;33m\u001b[0m\u001b[1;33m\u001b[0m\u001b[0m\n\u001b[0;32m     18\u001b[0m \u001b[1;33m\u001b[0m\u001b[0m\n\u001b[1;32m---> 19\u001b[1;33m     \u001b[0mx\u001b[0m \u001b[1;33m=\u001b[0m \u001b[1;33m[\u001b[0m\u001b[0mb\u001b[0m\u001b[1;33m[\u001b[0m\u001b[1;34m'xlim1'\u001b[0m\u001b[1;33m]\u001b[0m\u001b[1;33m.\u001b[0m\u001b[0miloc\u001b[0m\u001b[1;33m[\u001b[0m\u001b[1;36m0\u001b[0m\u001b[1;33m]\u001b[0m\u001b[1;33m,\u001b[0m \u001b[0mb\u001b[0m\u001b[1;33m[\u001b[0m\u001b[1;34m'xlim1'\u001b[0m\u001b[1;33m]\u001b[0m\u001b[1;33m.\u001b[0m\u001b[0miloc\u001b[0m\u001b[1;33m[\u001b[0m\u001b[1;36m0\u001b[0m\u001b[1;33m]\u001b[0m\u001b[1;33m,\u001b[0m \u001b[0mb\u001b[0m\u001b[1;33m[\u001b[0m\u001b[1;34m'xlim2'\u001b[0m\u001b[1;33m]\u001b[0m\u001b[1;33m.\u001b[0m\u001b[0miloc\u001b[0m\u001b[1;33m[\u001b[0m\u001b[1;36m0\u001b[0m\u001b[1;33m]\u001b[0m\u001b[1;33m,\u001b[0m \u001b[0mb\u001b[0m\u001b[1;33m[\u001b[0m\u001b[1;34m'xlim2'\u001b[0m\u001b[1;33m]\u001b[0m\u001b[1;33m.\u001b[0m\u001b[0miloc\u001b[0m\u001b[1;33m[\u001b[0m\u001b[1;36m0\u001b[0m\u001b[1;33m]\u001b[0m\u001b[1;33m,\u001b[0m \u001b[0mb\u001b[0m\u001b[1;33m[\u001b[0m\u001b[1;34m'xlim1'\u001b[0m\u001b[1;33m]\u001b[0m\u001b[1;33m.\u001b[0m\u001b[0miloc\u001b[0m\u001b[1;33m[\u001b[0m\u001b[1;36m0\u001b[0m\u001b[1;33m]\u001b[0m\u001b[1;33m]\u001b[0m\u001b[1;33m\u001b[0m\u001b[1;33m\u001b[0m\u001b[0m\n\u001b[0m\u001b[0;32m     20\u001b[0m     \u001b[0my\u001b[0m \u001b[1;33m=\u001b[0m \u001b[1;33m[\u001b[0m\u001b[0mb\u001b[0m\u001b[1;33m[\u001b[0m\u001b[1;34m'ylim1'\u001b[0m\u001b[1;33m]\u001b[0m\u001b[1;33m.\u001b[0m\u001b[0miloc\u001b[0m\u001b[1;33m[\u001b[0m\u001b[1;36m0\u001b[0m\u001b[1;33m]\u001b[0m\u001b[1;33m,\u001b[0m \u001b[0mb\u001b[0m\u001b[1;33m[\u001b[0m\u001b[1;34m'ylim2'\u001b[0m\u001b[1;33m]\u001b[0m\u001b[1;33m.\u001b[0m\u001b[0miloc\u001b[0m\u001b[1;33m[\u001b[0m\u001b[1;36m0\u001b[0m\u001b[1;33m]\u001b[0m\u001b[1;33m,\u001b[0m \u001b[0mb\u001b[0m\u001b[1;33m[\u001b[0m\u001b[1;34m'ylim2'\u001b[0m\u001b[1;33m]\u001b[0m\u001b[1;33m.\u001b[0m\u001b[0miloc\u001b[0m\u001b[1;33m[\u001b[0m\u001b[1;36m0\u001b[0m\u001b[1;33m]\u001b[0m\u001b[1;33m,\u001b[0m \u001b[0mb\u001b[0m\u001b[1;33m[\u001b[0m\u001b[1;34m'ylim1'\u001b[0m\u001b[1;33m]\u001b[0m\u001b[1;33m.\u001b[0m\u001b[0miloc\u001b[0m\u001b[1;33m[\u001b[0m\u001b[1;36m0\u001b[0m\u001b[1;33m]\u001b[0m\u001b[1;33m,\u001b[0m \u001b[0mb\u001b[0m\u001b[1;33m[\u001b[0m\u001b[1;34m'ylim1'\u001b[0m\u001b[1;33m]\u001b[0m\u001b[1;33m.\u001b[0m\u001b[0miloc\u001b[0m\u001b[1;33m[\u001b[0m\u001b[1;36m0\u001b[0m\u001b[1;33m]\u001b[0m\u001b[1;33m]\u001b[0m\u001b[1;33m\u001b[0m\u001b[1;33m\u001b[0m\u001b[0m\n\u001b[0;32m     21\u001b[0m \u001b[1;33m\u001b[0m\u001b[0m\n",
      "\u001b[1;32m~\\Anaconda3\\envs\\data_analysis\\lib\\site-packages\\pandas\\core\\indexing.py\u001b[0m in \u001b[0;36m__getitem__\u001b[1;34m(self, key)\u001b[0m\n\u001b[0;32m    877\u001b[0m \u001b[1;33m\u001b[0m\u001b[0m\n\u001b[0;32m    878\u001b[0m             \u001b[0mmaybe_callable\u001b[0m \u001b[1;33m=\u001b[0m \u001b[0mcom\u001b[0m\u001b[1;33m.\u001b[0m\u001b[0mapply_if_callable\u001b[0m\u001b[1;33m(\u001b[0m\u001b[0mkey\u001b[0m\u001b[1;33m,\u001b[0m \u001b[0mself\u001b[0m\u001b[1;33m.\u001b[0m\u001b[0mobj\u001b[0m\u001b[1;33m)\u001b[0m\u001b[1;33m\u001b[0m\u001b[1;33m\u001b[0m\u001b[0m\n\u001b[1;32m--> 879\u001b[1;33m             \u001b[1;32mreturn\u001b[0m \u001b[0mself\u001b[0m\u001b[1;33m.\u001b[0m\u001b[0m_getitem_axis\u001b[0m\u001b[1;33m(\u001b[0m\u001b[0mmaybe_callable\u001b[0m\u001b[1;33m,\u001b[0m \u001b[0maxis\u001b[0m\u001b[1;33m=\u001b[0m\u001b[0maxis\u001b[0m\u001b[1;33m)\u001b[0m\u001b[1;33m\u001b[0m\u001b[1;33m\u001b[0m\u001b[0m\n\u001b[0m\u001b[0;32m    880\u001b[0m \u001b[1;33m\u001b[0m\u001b[0m\n\u001b[0;32m    881\u001b[0m     \u001b[1;32mdef\u001b[0m \u001b[0m_is_scalar_access\u001b[0m\u001b[1;33m(\u001b[0m\u001b[0mself\u001b[0m\u001b[1;33m,\u001b[0m \u001b[0mkey\u001b[0m\u001b[1;33m:\u001b[0m \u001b[0mTuple\u001b[0m\u001b[1;33m)\u001b[0m\u001b[1;33m:\u001b[0m\u001b[1;33m\u001b[0m\u001b[1;33m\u001b[0m\u001b[0m\n",
      "\u001b[1;32m~\\Anaconda3\\envs\\data_analysis\\lib\\site-packages\\pandas\\core\\indexing.py\u001b[0m in \u001b[0;36m_getitem_axis\u001b[1;34m(self, key, axis)\u001b[0m\n\u001b[0;32m   1494\u001b[0m \u001b[1;33m\u001b[0m\u001b[0m\n\u001b[0;32m   1495\u001b[0m             \u001b[1;31m# validate the location\u001b[0m\u001b[1;33m\u001b[0m\u001b[1;33m\u001b[0m\u001b[1;33m\u001b[0m\u001b[0m\n\u001b[1;32m-> 1496\u001b[1;33m             \u001b[0mself\u001b[0m\u001b[1;33m.\u001b[0m\u001b[0m_validate_integer\u001b[0m\u001b[1;33m(\u001b[0m\u001b[0mkey\u001b[0m\u001b[1;33m,\u001b[0m \u001b[0maxis\u001b[0m\u001b[1;33m)\u001b[0m\u001b[1;33m\u001b[0m\u001b[1;33m\u001b[0m\u001b[0m\n\u001b[0m\u001b[0;32m   1497\u001b[0m \u001b[1;33m\u001b[0m\u001b[0m\n\u001b[0;32m   1498\u001b[0m             \u001b[1;32mreturn\u001b[0m \u001b[0mself\u001b[0m\u001b[1;33m.\u001b[0m\u001b[0mobj\u001b[0m\u001b[1;33m.\u001b[0m\u001b[0m_ixs\u001b[0m\u001b[1;33m(\u001b[0m\u001b[0mkey\u001b[0m\u001b[1;33m,\u001b[0m \u001b[0maxis\u001b[0m\u001b[1;33m=\u001b[0m\u001b[0maxis\u001b[0m\u001b[1;33m)\u001b[0m\u001b[1;33m\u001b[0m\u001b[1;33m\u001b[0m\u001b[0m\n",
      "\u001b[1;32m~\\Anaconda3\\envs\\data_analysis\\lib\\site-packages\\pandas\\core\\indexing.py\u001b[0m in \u001b[0;36m_validate_integer\u001b[1;34m(self, key, axis)\u001b[0m\n\u001b[0;32m   1435\u001b[0m         \u001b[0mlen_axis\u001b[0m \u001b[1;33m=\u001b[0m \u001b[0mlen\u001b[0m\u001b[1;33m(\u001b[0m\u001b[0mself\u001b[0m\u001b[1;33m.\u001b[0m\u001b[0mobj\u001b[0m\u001b[1;33m.\u001b[0m\u001b[0m_get_axis\u001b[0m\u001b[1;33m(\u001b[0m\u001b[0maxis\u001b[0m\u001b[1;33m)\u001b[0m\u001b[1;33m)\u001b[0m\u001b[1;33m\u001b[0m\u001b[1;33m\u001b[0m\u001b[0m\n\u001b[0;32m   1436\u001b[0m         \u001b[1;32mif\u001b[0m \u001b[0mkey\u001b[0m \u001b[1;33m>=\u001b[0m \u001b[0mlen_axis\u001b[0m \u001b[1;32mor\u001b[0m \u001b[0mkey\u001b[0m \u001b[1;33m<\u001b[0m \u001b[1;33m-\u001b[0m\u001b[0mlen_axis\u001b[0m\u001b[1;33m:\u001b[0m\u001b[1;33m\u001b[0m\u001b[1;33m\u001b[0m\u001b[0m\n\u001b[1;32m-> 1437\u001b[1;33m             \u001b[1;32mraise\u001b[0m \u001b[0mIndexError\u001b[0m\u001b[1;33m(\u001b[0m\u001b[1;34m\"single positional indexer is out-of-bounds\"\u001b[0m\u001b[1;33m)\u001b[0m\u001b[1;33m\u001b[0m\u001b[1;33m\u001b[0m\u001b[0m\n\u001b[0m\u001b[0;32m   1438\u001b[0m \u001b[1;33m\u001b[0m\u001b[0m\n\u001b[0;32m   1439\u001b[0m     \u001b[1;31m# -------------------------------------------------------------------\u001b[0m\u001b[1;33m\u001b[0m\u001b[1;33m\u001b[0m\u001b[1;33m\u001b[0m\u001b[0m\n",
      "\u001b[1;31mIndexError\u001b[0m: single positional indexer is out-of-bounds"
     ]
    }
   ],
   "source": [
    "for session in sessions:\n",
    "    print(session)\n",
    "    session_df = df[df['session'] == session]\n",
    "    session_df_pruned = df_pruned[df_pruned['session'] == session]\n",
    "    \n",
    "    rw1_x, rw1_y = find_session_roi_limits_to_plot(rw1_rois, session)\n",
    "    rw2_x, rw2_y = find_session_roi_limits_to_plot(rw2_rois, session)\n",
    "    \n",
    "    sns.set(style='white', context='talk')\n",
    "    a = sns.scatterplot(data=session_df, x='x', y='y', color='orange')\n",
    "    a.plot(rw1_x, rw1_y, 'b')\n",
    "    a.plot(rw2_x, rw2_y, 'b')\n",
    "\n",
    "    sns.set(style='white', context='talk')\n",
    "    a = sns.scatterplot(data=session_df_pruned, x='x', y='y', color='green')\n",
    "    a.plot(rw1_x, rw1_y, 'b')\n",
    "    a.plot(rw2_x, rw2_y, 'b')\n",
    "    \n",
    "    sns.despine()      \n",
    "    plt.show()"
   ]
  },
  {
   "cell_type": "markdown",
   "metadata": {},
   "source": [
    "## <font color=mediumseagreen> Save pruned data into a DataFrame"
   ]
  },
  {
   "cell_type": "code",
   "execution_count": 143,
   "metadata": {},
   "outputs": [],
   "source": [
    "df_pruned = df_pruned.drop(['session', 'run_nr'], axis=1).reset_index().drop(['level_2'], axis=1)"
   ]
  },
  {
   "cell_type": "code",
   "execution_count": 144,
   "metadata": {},
   "outputs": [
    {
     "data": {
      "text/html": [
       "<div>\n",
       "<style scoped>\n",
       "    .dataframe tbody tr th:only-of-type {\n",
       "        vertical-align: middle;\n",
       "    }\n",
       "\n",
       "    .dataframe tbody tr th {\n",
       "        vertical-align: top;\n",
       "    }\n",
       "\n",
       "    .dataframe thead th {\n",
       "        text-align: right;\n",
       "    }\n",
       "</style>\n",
       "<table border=\"1\" class=\"dataframe\">\n",
       "  <thead>\n",
       "    <tr style=\"text-align: right;\">\n",
       "      <th></th>\n",
       "      <th>session</th>\n",
       "      <th>run_nr</th>\n",
       "      <th>timestamp</th>\n",
       "      <th>x</th>\n",
       "      <th>y</th>\n",
       "      <th>x_diff</th>\n",
       "      <th>run_type</th>\n",
       "      <th>stim_condition</th>\n",
       "      <th>outcome</th>\n",
       "    </tr>\n",
       "  </thead>\n",
       "  <tbody>\n",
       "    <tr>\n",
       "      <th>0</th>\n",
       "      <td>2020-06-16T15_58_55</td>\n",
       "      <td>1.0</td>\n",
       "      <td>39.121754</td>\n",
       "      <td>37.55686</td>\n",
       "      <td>75.189420</td>\n",
       "      <td>0.00000</td>\n",
       "      <td>S</td>\n",
       "      <td>-1</td>\n",
       "      <td>1</td>\n",
       "    </tr>\n",
       "    <tr>\n",
       "      <th>1</th>\n",
       "      <td>2020-06-16T15_58_55</td>\n",
       "      <td>1.0</td>\n",
       "      <td>39.154944</td>\n",
       "      <td>38.47850</td>\n",
       "      <td>74.703740</td>\n",
       "      <td>0.92164</td>\n",
       "      <td>S</td>\n",
       "      <td>-1</td>\n",
       "      <td>1</td>\n",
       "    </tr>\n",
       "    <tr>\n",
       "      <th>2</th>\n",
       "      <td>2020-06-16T15_58_55</td>\n",
       "      <td>1.0</td>\n",
       "      <td>39.188749</td>\n",
       "      <td>39.44148</td>\n",
       "      <td>74.279460</td>\n",
       "      <td>0.96298</td>\n",
       "      <td>S</td>\n",
       "      <td>-1</td>\n",
       "      <td>1</td>\n",
       "    </tr>\n",
       "    <tr>\n",
       "      <th>3</th>\n",
       "      <td>2020-06-16T15_58_55</td>\n",
       "      <td>1.0</td>\n",
       "      <td>39.221146</td>\n",
       "      <td>40.61372</td>\n",
       "      <td>73.902480</td>\n",
       "      <td>1.17224</td>\n",
       "      <td>S</td>\n",
       "      <td>-1</td>\n",
       "      <td>1</td>\n",
       "    </tr>\n",
       "    <tr>\n",
       "      <th>4</th>\n",
       "      <td>2020-06-16T15_58_55</td>\n",
       "      <td>1.0</td>\n",
       "      <td>39.253965</td>\n",
       "      <td>42.30378</td>\n",
       "      <td>73.767200</td>\n",
       "      <td>1.69006</td>\n",
       "      <td>S</td>\n",
       "      <td>-1</td>\n",
       "      <td>1</td>\n",
       "    </tr>\n",
       "    <tr>\n",
       "      <th>...</th>\n",
       "      <td>...</td>\n",
       "      <td>...</td>\n",
       "      <td>...</td>\n",
       "      <td>...</td>\n",
       "      <td>...</td>\n",
       "      <td>...</td>\n",
       "      <td>...</td>\n",
       "      <td>...</td>\n",
       "      <td>...</td>\n",
       "    </tr>\n",
       "    <tr>\n",
       "      <th>276962</th>\n",
       "      <td>2020-07-10T15_58_24</td>\n",
       "      <td>44.0</td>\n",
       "      <td>2316.041216</td>\n",
       "      <td>161.70000</td>\n",
       "      <td>8.200000</td>\n",
       "      <td>-1.19630</td>\n",
       "      <td>T</td>\n",
       "      <td>1</td>\n",
       "      <td>1</td>\n",
       "    </tr>\n",
       "    <tr>\n",
       "      <th>276963</th>\n",
       "      <td>2020-07-10T15_58_24</td>\n",
       "      <td>44.0</td>\n",
       "      <td>2316.075251</td>\n",
       "      <td>161.20854</td>\n",
       "      <td>7.688888</td>\n",
       "      <td>-0.49146</td>\n",
       "      <td>T</td>\n",
       "      <td>1</td>\n",
       "      <td>1</td>\n",
       "    </tr>\n",
       "    <tr>\n",
       "      <th>276964</th>\n",
       "      <td>2020-07-10T15_58_24</td>\n",
       "      <td>44.0</td>\n",
       "      <td>2316.107341</td>\n",
       "      <td>160.68234</td>\n",
       "      <td>6.822222</td>\n",
       "      <td>-0.52620</td>\n",
       "      <td>T</td>\n",
       "      <td>1</td>\n",
       "      <td>1</td>\n",
       "    </tr>\n",
       "    <tr>\n",
       "      <th>276965</th>\n",
       "      <td>2020-07-10T15_58_24</td>\n",
       "      <td>44.0</td>\n",
       "      <td>2316.140928</td>\n",
       "      <td>159.87802</td>\n",
       "      <td>5.971632</td>\n",
       "      <td>-0.80432</td>\n",
       "      <td>T</td>\n",
       "      <td>1</td>\n",
       "      <td>1</td>\n",
       "    </tr>\n",
       "    <tr>\n",
       "      <th>276966</th>\n",
       "      <td>2020-07-10T15_58_24</td>\n",
       "      <td>44.0</td>\n",
       "      <td>2316.173952</td>\n",
       "      <td>159.61334</td>\n",
       "      <td>4.975758</td>\n",
       "      <td>-0.26468</td>\n",
       "      <td>T</td>\n",
       "      <td>1</td>\n",
       "      <td>1</td>\n",
       "    </tr>\n",
       "  </tbody>\n",
       "</table>\n",
       "<p>276967 rows × 9 columns</p>\n",
       "</div>"
      ],
      "text/plain": [
       "                    session  run_nr    timestamp          x          y  \\\n",
       "0       2020-06-16T15_58_55     1.0    39.121754   37.55686  75.189420   \n",
       "1       2020-06-16T15_58_55     1.0    39.154944   38.47850  74.703740   \n",
       "2       2020-06-16T15_58_55     1.0    39.188749   39.44148  74.279460   \n",
       "3       2020-06-16T15_58_55     1.0    39.221146   40.61372  73.902480   \n",
       "4       2020-06-16T15_58_55     1.0    39.253965   42.30378  73.767200   \n",
       "...                     ...     ...          ...        ...        ...   \n",
       "276962  2020-07-10T15_58_24    44.0  2316.041216  161.70000   8.200000   \n",
       "276963  2020-07-10T15_58_24    44.0  2316.075251  161.20854   7.688888   \n",
       "276964  2020-07-10T15_58_24    44.0  2316.107341  160.68234   6.822222   \n",
       "276965  2020-07-10T15_58_24    44.0  2316.140928  159.87802   5.971632   \n",
       "276966  2020-07-10T15_58_24    44.0  2316.173952  159.61334   4.975758   \n",
       "\n",
       "         x_diff run_type stim_condition outcome  \n",
       "0       0.00000        S             -1       1  \n",
       "1       0.92164        S             -1       1  \n",
       "2       0.96298        S             -1       1  \n",
       "3       1.17224        S             -1       1  \n",
       "4       1.69006        S             -1       1  \n",
       "...         ...      ...            ...     ...  \n",
       "276962 -1.19630        T              1       1  \n",
       "276963 -0.49146        T              1       1  \n",
       "276964 -0.52620        T              1       1  \n",
       "276965 -0.80432        T              1       1  \n",
       "276966 -0.26468        T              1       1  \n",
       "\n",
       "[276967 rows x 9 columns]"
      ]
     },
     "execution_count": 144,
     "metadata": {},
     "output_type": "execute_result"
    }
   ],
   "source": [
    "df_pruned"
   ]
  },
  {
   "cell_type": "code",
   "execution_count": 145,
   "metadata": {},
   "outputs": [],
   "source": [
    "path = os.path.join(files_path, \"Timestamped_position\", \"%s_timestamped_position_df_pruned.csv\"%rat)\n",
    "df_pruned.to_csv(path, header=df_pruned.columns)"
   ]
  },
  {
   "cell_type": "code",
   "execution_count": null,
   "metadata": {},
   "outputs": [],
   "source": []
  },
  {
   "cell_type": "code",
   "execution_count": null,
   "metadata": {},
   "outputs": [],
   "source": []
  }
 ],
 "metadata": {
  "kernelspec": {
   "display_name": "Python 3",
   "language": "python",
   "name": "python3"
  },
  "language_info": {
   "codemirror_mode": {
    "name": "ipython",
    "version": 3
   },
   "file_extension": ".py",
   "mimetype": "text/x-python",
   "name": "python",
   "nbconvert_exporter": "python",
   "pygments_lexer": "ipython3",
   "version": "3.8.5"
  }
 },
 "nbformat": 4,
 "nbformat_minor": 4
}
