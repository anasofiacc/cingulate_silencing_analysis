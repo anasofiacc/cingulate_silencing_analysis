{
 "cells": [
  {
   "cell_type": "markdown",
   "id": "accredited-thumbnail",
   "metadata": {},
   "source": [
    "#### <font color='crimson'>  Inference - Normality testing with shapiro"
   ]
  },
  {
   "cell_type": "code",
   "execution_count": 2,
   "id": "efficient-offset",
   "metadata": {},
   "outputs": [],
   "source": [
    "from scipy.stats import shapiro\n",
    "def normality_testing_shapiro(df, groupby_cols, var):\n",
    "    \"\"\"\n",
    "    Groups df according to groupby_cols and for given var, tests the normality of the \n",
    "    distribution using the Shapiro-Wilkes test.\n",
    "    \n",
    "    arg1, df <Pandas DataFrame>: the dataframe where the data to test is stored\n",
    "    arg2, groupby_cols <list>: list of columns to group df by\n",
    "    arg3, var <str>: name of column in df to test\n",
    "    \"\"\"\n",
    "    normality_testing = {}\n",
    "    \n",
    "    for group, data in df.groupby(groupby_cols)[var]:\n",
    "        stat, p = shapiro(data)\n",
    "        normality_testing[group] = (stat, p)\n",
    "\n",
    "    return pd.Series(normality_testing)\n"
   ]
  },
  {
   "cell_type": "markdown",
   "id": "acquired-tenant",
   "metadata": {},
   "source": [
    "#### <font color='crimson'> Inference -  Testing with mannwhitneyu"
   ]
  },
  {
   "cell_type": "code",
   "execution_count": 4,
   "id": "introductory-intent",
   "metadata": {},
   "outputs": [],
   "source": [
    "from scipy.stats import mannwhitneyu\n",
    "def inference_testing_mannwhitneyu(a, b, var):\n",
    "    \n",
    "    \"\"\"\n",
    "    \"\"\"\n",
    "    results = pd.DataFrame()\n",
    "    i=0\n",
    "    for dfa,dfb in zip(a,b):    \n",
    "        results.loc[i, 'a_group'] = dfa['group'].iloc[0]\n",
    "        results.loc[i, 'b_group'] = dfb['group'].iloc[0]\n",
    "        results.loc[i, 'a_condition'] = dfa['stim_condition'].iloc[0]  \n",
    "        results.loc[i, 'b_condition'] = dfb['stim_condition'].iloc[0]\n",
    "        results.loc[i, 'a_outcome'] = dfa['outcome'].iloc[0]\n",
    "        results.loc[i, 'b_outcome'] = dfb['outcome'].iloc[0]\n",
    "        u, p = mannwhitneyu(x=dfa[var], y=dfb[var], alternative='two-sided')\n",
    "        results.loc[i,'u']=u\n",
    "        results.loc[i,'p']=p\n",
    "        i+=1    \n",
    "    return results"
   ]
  },
  {
   "cell_type": "markdown",
   "id": "suitable-gardening",
   "metadata": {},
   "source": [
    "#### <font color='crimson'> Inference testing within group with kruskal Wallis test"
   ]
  },
  {
   "cell_type": "code",
   "execution_count": null,
   "id": "blank-rebel",
   "metadata": {},
   "outputs": [],
   "source": [
    " from scipy.stats import kruskal\n",
    "def inference_testing_kruskal_within_group(df, var):\n",
    "    \n",
    "    \"\"\"\n",
    "    Inference testing within groups. Tests ull hypothesis that the \n",
    "    population median of all of the groups are equal. In this case,\n",
    "    the compares the effect of the illumination condition within experimental group on a given \n",
    "    variable.\n",
    "    arg1, df, Pandas DataFrame - DataFrame containing the data\n",
    "    arg2, var, str - Column name of the dependent variable\n",
    "    \"\"\"\n",
    "    results = pd.DataFrame()\n",
    "    \n",
    "    ctrl = df[df['group']=='CTRL']\n",
    "    nphr = df[df['group']=='NPHR']\n",
    "    i=0\n",
    "    for x in [ctrl,nphr]:    \n",
    "        n = x.loc[x['stim_condition']==0, var]\n",
    "        s = x.loc[x['stim_condition']==1, var]\n",
    "        t = x.loc[x['stim_condition']==3, var]\n",
    "        \n",
    "        results.loc[i, 'group'] = x['group'].iloc[0]\n",
    "        h, p = kruskal(n,s,t)\n",
    "        results.loc[i,'h']=h\n",
    "        results.loc[i,'p']=p\n",
    "        i+=1    \n",
    "    return results"
   ]
  },
  {
   "cell_type": "markdown",
   "id": "moral-pearl",
   "metadata": {},
   "source": [
    "#### <font color='skyblue'> Visualization - Plot IQR and median across sessions"
   ]
  },
  {
   "cell_type": "code",
   "execution_count": 3,
   "id": "exterior-holder",
   "metadata": {},
   "outputs": [],
   "source": [
    "def plot_iqr_and_median_across_sessions(df):\n",
    "    \"\"\"\n",
    "    Plots the average IQR limits and median across sessions, subdivided by group (row) and \n",
    "    stim_condition (column). \n",
    "    arg1, df, Pandas DataFrame - Contains the data to plot.\n",
    "    \"\"\"\n",
    "    sns.set(style='white', context='talk')\n",
    "    g=sns.relplot(kind='line', data=df, col='stim_condition',x='session_nr', y='iqr_25', hue='stim_condition',\n",
    "                  palette=['black', 'royalblue', 'orangered'], ci=None,\n",
    "                  row='group', legend=False)\n",
    "\n",
    "    for group, ax in g.axes_dict.items():\n",
    "            colors={0:'black', 1:'royalblue', 3:'orangered'}\n",
    "            color=colors[group[1]]\n",
    "\n",
    "            group_data = df[(df['group']==group[0]) & (df['stim_condition']==group[1])]                 \n",
    "            sns.lineplot(ax=ax, data=group_data, \n",
    "                         x='session_nr', y='median', linestyle=':',\n",
    "                         color=color, legend=False, ci=None)\n",
    "\n",
    "            sns.lineplot(ax=ax, data=group_data, x='session_nr', y='iqr_75',\n",
    "                         color=color, legend=False, ci=None)\n",
    "    plt.ylim([1,5.5])\n",
    "    sns.despine()\n",
    "    return g"
   ]
  },
  {
   "cell_type": "markdown",
   "id": "established-prompt",
   "metadata": {},
   "source": [
    "#### <font color='skyblue'> Visualization - Plot individual medians and IQRs across sessions"
   ]
  },
  {
   "cell_type": "code",
   "execution_count": null,
   "id": "musical-technology",
   "metadata": {},
   "outputs": [],
   "source": [
    "def plot_individual_metrics_across_sessions(df, var):\n",
    "    '''\n",
    "    Plots a given metric per rat across sessions\n",
    "    arg1, df, Pandas DataFrame - Contains the data to plot\n",
    "    arg2, df, str - Column name of the variable to plot\n",
    "    '''\n",
    "    plt.figure(dpi=300)\n",
    "    sns.set(style='white', context='talk')\n",
    "    g = sns.relplot(kind='line', data=df, row='group', col='stim_condition',\n",
    "                x='session_nr', y=var, hue='rat', ci=None, legend=False,\n",
    "                height=4, aspect=1.3, linewidth=1, palette=['lightgray']*17)\n",
    "    \n",
    "    colors={0:'black', 1:'royalblue', 3:'orangered'}\n",
    "    for group, ax in g.axes_dict.items():\n",
    "        print(group)\n",
    "        data = df[(df['stim_condition']==group[1]) & (df['group']==group[0])]\n",
    "        color=colors[group[1]]\n",
    "        sns.lineplot(ax=ax, data=data, x='session_nr', y=var, estimator=np.median,\n",
    "                     ci=None, color=color, legend=False)\n",
    "\n",
    "    #g.legend_.remove()\n",
    "    sns.despine()\n",
    "    return g "
   ]
  },
  {
   "cell_type": "markdown",
   "id": "acquired-williams",
   "metadata": {},
   "source": [
    "#### <font color='skyblue'>  Visualization - Plot distributions"
   ]
  },
  {
   "cell_type": "code",
   "execution_count": 4,
   "id": "bottom-embassy",
   "metadata": {},
   "outputs": [],
   "source": [
    "def plot_latency_distributions_within_group(df, plot_type, var, colors):\n",
    "    '''\n",
    "    Plot the distributions of latencies within each experimental group.\n",
    "    arg1, df, Pandas DataFrame - contains the data;\n",
    "    arg2, plot_type, str - Type of distribution plot;\n",
    "    arg3, var, str - The column name of the variable to be plotted;\n",
    "    arg4, colors, list - List of colors to use in hue\n",
    "    '''\n",
    "    sns.set(style='white', context='talk')\n",
    "    plt.figure(dpi=300)\n",
    "\n",
    "    #Plot histograms (8 bins per seconds)\n",
    "    if plot_type == 'hist':\n",
    "        g = sns.displot(kind=plot_type, data=df, col='group', \n",
    "                        x=var, stat='probability', \n",
    "                        hue='stim_condition', \n",
    "                        col_order=['CTRL', 'NPHR'], element='step', \n",
    "                        palette=colors, \n",
    "                        bins=np.arange(0,15,.1), alpha=0, height=5, linewidth=2, aspect=1.3)\n",
    "    elif plot_type == 'kde':\n",
    "        g = sns.displot(kind=plot_type, data=df, col='group', \n",
    "                        x=var,  \n",
    "                        hue='stim_condition', \n",
    "                        col_order=['CTRL', 'NPHR'], \n",
    "                        palette=colors, alpha=.5,\n",
    "                        height=5, linewidth=2, aspect=1.3)\n",
    "\n",
    "    g._legend.set(bbox_to_anchor=(.9,.7), title='Condition')\n",
    "    g.tight_layout()\n",
    "    sns.despine()    \n",
    "    return g\n",
    "\n",
    "def plot_latency_distributions_within_condition(df, plot_type, var):\n",
    "    \n",
    "    sns.set(style='white', context='poster')\n",
    "    plt.figure(dpi=300)\n",
    "\n",
    "    # Plot histogram ( 8 bins per second)\n",
    "    if plot_type=='hist':\n",
    "        g = sns.displot(\n",
    "            kind=plot_type, data=df, \n",
    "            col='stim_condition', col_order=[0, 1, 3],\n",
    "            x=var, stat='probability', \n",
    "            hue=below15['group'].map({'CTRL':'NPHR- ', 'NPHR':'NpHR+'}),  \n",
    "            palette=['orange','lightseagreen'], \n",
    "            alpha=.1, linewidth=2,\n",
    "            element='step', bins=np.arange(0,15,.125), \n",
    "            height=6, aspect=1.2\n",
    "        )\n",
    "    \n",
    "    elif plot_type=='kde':\n",
    "        g = sns.displot(\n",
    "            kind=plot_type, data=df, \n",
    "            col='stim_condition', col_order=[0, 1, 3],\n",
    "            x=var, \n",
    "            hue=below15['group'].map({'CTRL':'NPHR- ', 'NPHR':'NpHR+'}),  \n",
    "            palette=['orange','lightseagreen'], \n",
    "            alpha=.1, linewidth=2,\n",
    "            height=6, aspect=1.2\n",
    "        )\n",
    "    \n",
    "        \n",
    "    # subplot specifications\n",
    "    axes = g.axes.flatten()\n",
    "    axes[0].set(title=\"None\")\n",
    "    axes[1].set(title=\"Sample\")\n",
    "    axes[2].set(title=\"Test\")\n",
    "\n",
    "    #Legend \n",
    "    g._legend.set(bbox_to_anchor=(.95,.5), title='Group')\n",
    "    g.tight_layout()\n",
    "    sns.despine()\n",
    "    \n",
    "    return g"
   ]
  },
  {
   "cell_type": "markdown",
   "id": "possible-mayor",
   "metadata": {},
   "source": [
    "#### <font color='skyblue'> Visualization - Plot time cumulative distributions"
   ]
  },
  {
   "cell_type": "code",
   "execution_count": 1,
   "id": "romantic-anchor",
   "metadata": {},
   "outputs": [],
   "source": [
    "def plot_cumulative_distributions_within_group(df, var):\n",
    "    sns.set(style='white', context='poster')\n",
    "    plt.figure(dpi=300)\n",
    "\n",
    "    g = sns.displot(\n",
    "        kind='ecdf', data=df, col='group', \n",
    "        x=var, stat='proportion',\n",
    "        hue=df['stim_condition'].map({0:'None ', 1:'Sample', 3:'Test'}),\n",
    "        col_order=['CTRL','NPHR'], palette=['orangered','royalblue','black'], \n",
    "        linewidth=2, alpha=.8, height=6, aspect=1.1\n",
    "    )\n",
    "    #Legend \n",
    "    g._legend.set(bbox_to_anchor=(.98,.7), title='Condition')\n",
    "    g.tight_layout()\n",
    "    sns.despine\n",
    "    \n",
    "    return g    \n",
    "    \n",
    "def plot_cumulative_distributions_within_condition(df, var):\n",
    "        \n",
    "    sns.set(style='white', context='poster')\n",
    "    plt.figure(dpi=300)\n",
    "\n",
    "    g = sns.displot(\n",
    "        kind='ecdf', data=df, \n",
    "        col='stim_condition', \n",
    "        col_order=[0,1,3],\n",
    "        x=var, stat='proportion',\n",
    "        hue=df['group'].map({'CTRL':'NpHR- ', 'NPHR':'NpHR+'}),\n",
    "        palette=['orange','lightseagreen'], \n",
    "        linewidth=1.5, legend=False\n",
    "    )\n",
    "\n",
    "    # subplot specs\n",
    "    axes = g.axes.flatten()\n",
    "    axes[0].set(title=\"None\")\n",
    "    axes[0].axhline(0.5, linestyle='dashed', c='black', linewidth=1.5)\n",
    "    axes[1].set(title=\"Sample\")\n",
    "    axes[1].axhline(0.5, linestyle='dashed', c='black', linewidth=1.5)\n",
    "    axes[2].set(title=\"Test\")\n",
    "    axes[2].axhline(0.5, linestyle='dashed', c='black', linewidth=1.5)\n",
    "    g.tight_layout()\n",
    "    sns.despine()\n",
    "    \n",
    "    return g"
   ]
  },
  {
   "cell_type": "markdown",
   "id": "ordinary-grade",
   "metadata": {},
   "source": [
    "## QQ plot"
   ]
  },
  {
   "cell_type": "code",
   "execution_count": 5,
   "id": "bacterial-march",
   "metadata": {},
   "outputs": [],
   "source": [
    "def qqplot_within_condition(q1, q2, color):\n",
    "    sns.set(style='white', context='talk')\n",
    "    plt.figure(dpi=300, figsize=(4,4))\n",
    "    g = sns.scatterplot(x=q1, y=q2, s=50, alpha=.6, color=color)\n",
    "    sns.despine()\n",
    "    return g"
   ]
  },
  {
   "cell_type": "code",
   "execution_count": 7,
   "id": "ahead-board",
   "metadata": {},
   "outputs": [],
   "source": [
    "def qqplot_within_group(q1, q2, q3, colors):\n",
    "    sns.set(style='white', context='talk')\n",
    "    plt.figure(dpi=300, figsize=(3,3))\n",
    "    g = sns.scatterplot(x=q1, y=q2, s=50, alpha=.6, color=colors[0])\n",
    "    sns.scatterplot(x=q1, y=q3, s=50, alpha=.6, color=colors[1])\n",
    "    sns.despine()\n",
    "    return g"
   ]
  },
  {
   "cell_type": "markdown",
   "id": "reasonable-editor",
   "metadata": {},
   "source": [
    "## Calculate session performances differences ( Illumin. vs. No Illumin.)"
   ]
  },
  {
   "cell_type": "code",
   "execution_count": null,
   "id": "nuclear-camel",
   "metadata": {},
   "outputs": [],
   "source": [
    "def calc_session_performance_diffs(df):\n",
    "\n",
    "    df_none = df[df['stim_condition']==0].sort_values(by='session_nr').reset_index(drop=True)\n",
    "    df_sample = df[df['stim_condition']==1].sort_values(by='session_nr').reset_index(drop=True)\n",
    "    df_test = df[df['stim_condition']==3].sort_values(by='session_nr').reset_index(drop=True) \n",
    "    \n",
    "    df_test['test_none_diff']=df_test['performance']-df_none['performance']\n",
    "    \n",
    "    if df['rat'].iloc[0]=='CTRL2':\n",
    "        df_test['sample_none_diff']=np.nan\n",
    "    else:\n",
    "        df_test['sample_none_diff']=df_sample['performance']-df_none['performance']\n",
    "    \n",
    "    final_df = df_test.drop(columns=['performance', 'stim_condition'])\n",
    "    return final_df"
   ]
  },
  {
   "cell_type": "markdown",
   "id": "chicken-soviet",
   "metadata": {},
   "source": [
    "####  <font color='violet'> Add session number"
   ]
  },
  {
   "cell_type": "code",
   "execution_count": 1,
   "id": "completed-distinction",
   "metadata": {},
   "outputs": [],
   "source": [
    "def add_session_nr(group):\n",
    "    \"\"\"\n",
    "    Add a session number label to each session in group.\n",
    "    arg1, group, Pandas DataFrame - contains the data to add the session number to.\n",
    "    \"\"\"\n",
    "    session_list = np.sort(group['session'].unique())\n",
    "    i=1  \n",
    "    for session in session_list:\n",
    "        group.loc[group['session']==session,'session_nr']=i\n",
    "        i+=1\n",
    "    return group"
   ]
  },
  {
   "cell_type": "markdown",
   "id": "stretch-retail",
   "metadata": {},
   "source": [
    "####  <font color='violet'>Linear regression slopes"
   ]
  },
  {
   "cell_type": "code",
   "execution_count": null,
   "id": "frozen-terry",
   "metadata": {},
   "outputs": [],
   "source": [
    "from sklearn.linear_model import LinearRegression\n",
    "\n",
    "def get_linear_regression_slopes(df, targetcol):\n",
    "    \"\"\"\n",
    "    Collects the slopes after performing a linear regression. Session nr as the feature \n",
    "    and targetcol as the target.\n",
    "    arg1, df, Pandas DataFrame - contains the data on which to perform the regression\n",
    "    arg2, targetcol, str - Name of the target column\n",
    "    \"\"\"\n",
    "    lm = LinearRegression().fit(df[['session_nr']], df[[targetcol]])\n",
    "    return lm.coef_[0][0]"
   ]
  },
  {
   "cell_type": "markdown",
   "id": "continent-shadow",
   "metadata": {},
   "source": [
    "####  <font color='violet'> Calculate the IQR values"
   ]
  },
  {
   "cell_type": "code",
   "execution_count": 1,
   "id": "twenty-header",
   "metadata": {},
   "outputs": [],
   "source": [
    "def calculate_iqr(df, var): \n",
    "    \"\"\"\n",
    "    Calculates the IQR limits, the median and the IQR.\n",
    "    arg1, df, Pandas DataFrame - DataFrame that contains the data;\n",
    "    arg2, var, str - Name of the column from which to calculate the metrics.\n",
    "    \"\"\"\n",
    "    iqr_values = np.percentile(df[var], [25,50,75])\n",
    "    df['iqr_25']=iqr_values[0]\n",
    "    df['median']=iqr_values[1]\n",
    "    df['iqr_75']=iqr_values[2]\n",
    "    df['iqr']=iqr_values[2]-iqr_values[0]\n",
    "    cols_to_keep = ['group', 'rat', 'outcome', 'stim_condition',\n",
    "                    'session_nr','iqr_25', 'median', 'iqr_75', 'iqr']\n",
    "    return df[cols_to_keep]\n",
    "    "
   ]
  },
  {
   "cell_type": "code",
   "execution_count": null,
   "id": "diverse-twins",
   "metadata": {},
   "outputs": [],
   "source": []
  }
 ],
 "metadata": {
  "kernelspec": {
   "display_name": "Python 3",
   "language": "python",
   "name": "python3"
  },
  "language_info": {
   "codemirror_mode": {
    "name": "ipython",
    "version": 3
   },
   "file_extension": ".py",
   "mimetype": "text/x-python",
   "name": "python",
   "nbconvert_exporter": "python",
   "pygments_lexer": "ipython3",
   "version": "3.8.8"
  }
 },
 "nbformat": 4,
 "nbformat_minor": 5
}
