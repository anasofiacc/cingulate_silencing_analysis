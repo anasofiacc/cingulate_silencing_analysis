{
 "cells": [
  {
   "cell_type": "code",
   "execution_count": null,
   "metadata": {},
   "outputs": [],
   "source": [
    "# imports\n",
    "import seaborn as sns\n",
    "import matlotlib.pyplot as plt"
   ]
  },
  {
   "cell_type": "code",
   "execution_count": null,
   "metadata": {},
   "outputs": [],
   "source": [
    "def plot_dist_latencies(df, latency_col, y, color_list, ylabel1, ylabel2):\n",
    "    \n",
    "    # Df - DataFrame where the data is stored;\n",
    "    # Latency_col - Latency column name to plot\n",
    "    # y - variable to be compared (yy axis)\n",
    "    # color_list - list of two colors \n",
    "    # ylabel1 - y tick label 1\n",
    "    # ylabel2 - y tick label 2\n",
    "\n",
    "# Plot distribution of latency to CP points (swarm plot)\n",
    "sns.set(style='white', context='poster')\n",
    "\n",
    "fig = plt.Figure(figsize=(6, 10), dpi=300)\n",
    "ax1 = sns.catplot(\n",
    "        kind='swarm',\n",
    "        y=y,\n",
    "        x=latency_col,\n",
    "        data=df,\n",
    "        palette=color_list,\n",
    "        orient='h',\n",
    "        dodge=False,\n",
    "        legend=False,\n",
    "        height=5,\n",
    "        aspect=1.6\n",
    ")\n",
    "\n",
    "ax1.set(\n",
    "        ylim=(-0.5, 1.5),\n",
    "        xlim=(0, 15),\n",
    "        xticks=range(0,16,2),\n",
    "        ylabel='Group',\n",
    "        xlabel='Latency(s)',\n",
    "        yticklabels=[label1, label2]\n",
    ")\n",
    "\n",
    "plt.show()"
   ]
  }
 ],
 "metadata": {
  "kernelspec": {
   "display_name": "Python 3",
   "language": "python",
   "name": "python3"
  },
  "language_info": {
   "codemirror_mode": {
    "name": "ipython",
    "version": 3
   },
   "file_extension": ".py",
   "mimetype": "text/x-python",
   "name": "python",
   "nbconvert_exporter": "python",
   "pygments_lexer": "ipython3",
   "version": "3.6.4"
  }
 },
 "nbformat": 4,
 "nbformat_minor": 4
}
