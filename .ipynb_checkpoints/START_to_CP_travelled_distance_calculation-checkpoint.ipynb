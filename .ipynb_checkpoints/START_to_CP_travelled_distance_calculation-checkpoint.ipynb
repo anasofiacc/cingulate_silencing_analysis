{
 "cells": [
  {
   "cell_type": "code",
   "execution_count": 1,
   "metadata": {
    "pycharm": {
     "is_executing": true
    }
   },
   "outputs": [
    {
     "ename": "NameError",
     "evalue": "name 'collect_and_organize_data_for_velocity_analysis' is not defined",
     "output_type": "error",
     "traceback": [
      "\u001b[1;31m---------------------------------------------------------------------------\u001b[0m",
      "\u001b[1;31mNameError\u001b[0m                                 Traceback (most recent call last)",
      "\u001b[1;32m<ipython-input-1-89cdb991a63a>\u001b[0m in \u001b[0;36m<module>\u001b[1;34m\u001b[0m\n\u001b[0;32m      1\u001b[0m \u001b[0mfiles_path\u001b[0m\u001b[1;33m=\u001b[0m\u001b[1;34m\"F:\\DENGOSO_CTRL#2\"\u001b[0m\u001b[1;33m\u001b[0m\u001b[0m\n\u001b[0;32m      2\u001b[0m \u001b[1;33m\u001b[0m\u001b[0m\n\u001b[1;32m----> 3\u001b[1;33m \u001b[0mdata\u001b[0m \u001b[1;33m=\u001b[0m \u001b[0mcollect_and_organize_data_for_velocity_analysis\u001b[0m\u001b[1;33m(\u001b[0m\u001b[0mfiles_path\u001b[0m\u001b[1;33m)\u001b[0m\u001b[1;33m\u001b[0m\u001b[0m\n\u001b[0m\u001b[0;32m      4\u001b[0m \u001b[0mdata\u001b[0m\u001b[1;33m.\u001b[0m\u001b[0mpipe\u001b[0m\u001b[1;33m(\u001b[0m\u001b[0mcreate_xy_bins\u001b[0m\u001b[1;33m)\u001b[0m\u001b[1;33m\u001b[0m\u001b[0m\n\u001b[0;32m      5\u001b[0m \u001b[1;33m\u001b[0m\u001b[0m\n",
      "\u001b[1;31mNameError\u001b[0m: name 'collect_and_organize_data_for_velocity_analysis' is not defined"
     ]
    }
   ],
   "source": [
    "import matplotlib.pyplot as plt\n",
    "from velocity_analysis_optogenetics import \\\n",
    "    collect_and_organize_data_for_velocity_analysis,\\\n",
    "    filter_start_to_cp, \\\n",
    "    calculate_mean_v_component_and_std_per_pooled_group, create_xy_bins\n",
    "from collect_and_organize_position_data_optogenetics import get_position_and_run_info_in_multi_index_df\n",
    "\n",
    "\n",
    "files_path=\"F:\\DENGOSO_CTRL#2\"\n",
    "\n",
    "data = collect_and_organize_data_for_velocity_analysis(files_path)\n",
    "data.pipe(create_xy_bins)\n",
    "\n",
    "fig = plt.figure(figsize=(6, 6), dpi=300)\n",
    "fig.patch.set_facecolor('white')\n",
    "\n",
    "# PLOT DATA POINTS\n",
    "plt.scatter(data['x'], data['y'], s=1, color='darkgrey', label='data points')\n",
    "\n",
    "# CP\n",
    "plt.hlines(70, 182, 192, linewidth=2, color='navy')\n",
    "plt.hlines(80, 182, 192, linewidth=2, color='navy')\n",
    "plt.vlines(192, 70, 80, linewidth=2, color='navy')\n",
    "plt.vlines(182, 70, 80, linewidth=2, color='navy')\n",
    "\n",
    "# MEAN TRAVELLED DISTANCE CP + 0\n",
    "mask1 = ((data['y'].between(69.5, 70.5) | data['y'].between(79.5, 80.5))\n",
    "        & (data['x'].between(182, 192)))\n",
    "\n",
    "data_masked1 = data[mask1]\n",
    "mean_distance_travelled1 = data_masked1['x'].mean()\n",
    "\n",
    "plt.scatter(\n",
    "    data_masked1['x'],\n",
    "    data_masked1['y'],\n",
    "    s=3,\n",
    "    color='orange',\n",
    "    label='points within 1 cm of y barriers: '+str(len(data_masked1))\n",
    "    )\n",
    "\n",
    "plt.vlines(\n",
    "    mean_distance_travelled1,\n",
    "    0,\n",
    "    160,\n",
    "    linewidth=2,\n",
    "    color='navy',\n",
    "    label='mean distance travelled, x='+str(mean_distance_travelled1)\n",
    "    )\n",
    "\n",
    "plt.legend(loc='upper right')\n",
    "plt.xlim((165, 205))\n",
    "plt.ylim((50, 100))\n",
    "plt.xlabel('x', fontsize=16)\n",
    "plt.ylabel('y', fontsize=16)\n",
    "\n",
    "plt.show()"
   ]
  },
  {
   "cell_type": "markdown",
   "metadata": {
    "pycharm": {
     "is_executing": true
    }
   },
   "source": [
    "### This corresponds to the real CP square in the maze. \n",
    "### However, the light that allows the tracking of the rat's position is not in his head but taped to the patch. \n",
    "### Therefore, the recorded position is slightly off in regards to the real maze landmarks.\n",
    "### Only a portion of the detected runs is being captured in the reall CP square.\n",
    "### To calculate the mean distance travelled by the rat once he reaches the y limits of the square, \n",
    "### all data points within 1 cm distance are collected and the average x coordinate is calculated.\n",
    "### Because some position points are not being captured here, I will increase the CP square x limits by 2 cm"
   ]
  },
  {
   "cell_type": "code",
   "execution_count": null,
   "metadata": {
    "pycharm": {
     "is_executing": true
    }
   },
   "outputs": [],
   "source": []
  },
  {
   "cell_type": "code",
   "execution_count": null,
   "metadata": {},
   "outputs": [],
   "source": []
  }
 ],
 "metadata": {
  "anaconda-cloud": {},
  "kernelspec": {
   "display_name": "PyCharm (opto_bhv_analysis)",
   "language": "python",
   "name": "pycharm-27e0379a"
  },
  "language_info": {
   "codemirror_mode": {
    "name": "ipython",
    "version": 3
   },
   "file_extension": ".py",
   "mimetype": "text/x-python",
   "name": "python",
   "nbconvert_exporter": "python",
   "pygments_lexer": "ipython3",
   "version": "3.6.4"
  },
  "pycharm": {
   "stem_cell": {
    "cell_type": "raw",
    "metadata": {
     "collapsed": false
    },
    "source": []
   }
  }
 },
 "nbformat": 4,
 "nbformat_minor": 1
}
