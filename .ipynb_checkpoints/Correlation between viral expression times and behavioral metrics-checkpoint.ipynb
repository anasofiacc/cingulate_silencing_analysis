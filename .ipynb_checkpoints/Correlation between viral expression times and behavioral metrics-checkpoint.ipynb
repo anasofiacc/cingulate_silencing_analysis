{
 "cells": [
  {
   "cell_type": "code",
   "execution_count": 246,
   "id": "equipped-turkish",
   "metadata": {},
   "outputs": [],
   "source": [
    "import pandas as pd\n",
    "import numpy as np\n",
    "import seaborn as sns\n",
    "import os\n",
    "import re\n",
    "import matplotlib.pyplot as plt\n",
    "from file_lists import get_file_list\n",
    "%matplotlib inline\n",
    "%run data_prep_functions.ipynb"
   ]
  },
  {
   "cell_type": "markdown",
   "id": "gentle-appreciation",
   "metadata": {},
   "source": [
    "### <font color='royalblue'> Read the data (test runs below 15 seconds)"
   ]
  },
  {
   "cell_type": "code",
   "execution_count": 247,
   "id": "saved-panic",
   "metadata": {},
   "outputs": [
    {
     "data": {
      "text/html": [
       "<div>\n",
       "<style scoped>\n",
       "    .dataframe tbody tr th:only-of-type {\n",
       "        vertical-align: middle;\n",
       "    }\n",
       "\n",
       "    .dataframe tbody tr th {\n",
       "        vertical-align: top;\n",
       "    }\n",
       "\n",
       "    .dataframe thead th {\n",
       "        text-align: right;\n",
       "    }\n",
       "</style>\n",
       "<table border=\"1\" class=\"dataframe\">\n",
       "  <thead>\n",
       "    <tr style=\"text-align: right;\">\n",
       "      <th></th>\n",
       "      <th>session</th>\n",
       "      <th>rat</th>\n",
       "      <th>run_nr</th>\n",
       "      <th>start_timestamp</th>\n",
       "      <th>run_type</th>\n",
       "      <th>stim_condition</th>\n",
       "      <th>outcome</th>\n",
       "      <th>group</th>\n",
       "      <th>cp_entry_timestamp</th>\n",
       "      <th>cp_exit_timestamp</th>\n",
       "      <th>latency_to_cp_entry</th>\n",
       "      <th>latency_to_cp_exit</th>\n",
       "      <th>time_in_cp</th>\n",
       "    </tr>\n",
       "  </thead>\n",
       "  <tbody>\n",
       "    <tr>\n",
       "      <th>0</th>\n",
       "      <td>2019-08-08T12_41_07</td>\n",
       "      <td>NPHR1</td>\n",
       "      <td>6.0</td>\n",
       "      <td>368.579635</td>\n",
       "      <td>T</td>\n",
       "      <td>1</td>\n",
       "      <td>1.0</td>\n",
       "      <td>NPHR</td>\n",
       "      <td>371.569088</td>\n",
       "      <td>372.640947</td>\n",
       "      <td>2.989453</td>\n",
       "      <td>4.061312</td>\n",
       "      <td>1.071859</td>\n",
       "    </tr>\n",
       "    <tr>\n",
       "      <th>1</th>\n",
       "      <td>2019-08-08T12_41_07</td>\n",
       "      <td>NPHR1</td>\n",
       "      <td>10.0</td>\n",
       "      <td>751.518003</td>\n",
       "      <td>T</td>\n",
       "      <td>3</td>\n",
       "      <td>1.0</td>\n",
       "      <td>NPHR</td>\n",
       "      <td>755.435469</td>\n",
       "      <td>756.431386</td>\n",
       "      <td>3.917466</td>\n",
       "      <td>4.913382</td>\n",
       "      <td>0.995917</td>\n",
       "    </tr>\n",
       "    <tr>\n",
       "      <th>2</th>\n",
       "      <td>2019-08-08T12_41_07</td>\n",
       "      <td>NPHR1</td>\n",
       "      <td>14.0</td>\n",
       "      <td>954.084992</td>\n",
       "      <td>T</td>\n",
       "      <td>3</td>\n",
       "      <td>0.0</td>\n",
       "      <td>NPHR</td>\n",
       "      <td>957.866982</td>\n",
       "      <td>958.900954</td>\n",
       "      <td>3.781990</td>\n",
       "      <td>4.815962</td>\n",
       "      <td>1.033971</td>\n",
       "    </tr>\n",
       "  </tbody>\n",
       "</table>\n",
       "</div>"
      ],
      "text/plain": [
       "               session    rat  run_nr  start_timestamp run_type  \\\n",
       "0  2019-08-08T12_41_07  NPHR1     6.0       368.579635        T   \n",
       "1  2019-08-08T12_41_07  NPHR1    10.0       751.518003        T   \n",
       "2  2019-08-08T12_41_07  NPHR1    14.0       954.084992        T   \n",
       "\n",
       "   stim_condition  outcome group  cp_entry_timestamp  cp_exit_timestamp  \\\n",
       "0               1      1.0  NPHR          371.569088         372.640947   \n",
       "1               3      1.0  NPHR          755.435469         756.431386   \n",
       "2               3      0.0  NPHR          957.866982         958.900954   \n",
       "\n",
       "   latency_to_cp_entry  latency_to_cp_exit  time_in_cp  \n",
       "0             2.989453            4.061312    1.071859  \n",
       "1             3.917466            4.913382    0.995917  \n",
       "2             3.781990            4.815962    1.033971  "
      ]
     },
     "execution_count": 247,
     "metadata": {},
     "output_type": "execute_result"
    }
   ],
   "source": [
    "file_path = \"E:\\POSITION DATA\\PRE PROCESSED/below15_runs.csv\"\n",
    "below15 = pd.read_csv(file_path)\n",
    "below15.head(3)"
   ]
  },
  {
   "cell_type": "markdown",
   "id": "weird-fundamental",
   "metadata": {},
   "source": [
    "### <font color='royalblue'>Remove pre-illuminated and sample illuminated trials\n"
   ]
  },
  {
   "cell_type": "code",
   "execution_count": 248,
   "id": "reflected-matthew",
   "metadata": {},
   "outputs": [
    {
     "data": {
      "text/plain": [
       "array([3, 0], dtype=int64)"
      ]
     },
     "execution_count": 248,
     "metadata": {},
     "output_type": "execute_result"
    }
   ],
   "source": [
    "below15 = below15[(below15['stim_condition']==0)|(below15['stim_condition']==3)]\n",
    "below15['stim_condition'].unique()"
   ]
  },
  {
   "cell_type": "markdown",
   "id": "advance-problem",
   "metadata": {},
   "source": [
    "### <font color='royalblue'> Collect the viral expression times of each rat"
   ]
  },
  {
   "cell_type": "code",
   "execution_count": 249,
   "id": "external-chemical",
   "metadata": {},
   "outputs": [],
   "source": [
    "file_path = \"E:\\expression_times.csv\"\n",
    "expression_times = pd.read_csv(file_path)"
   ]
  },
  {
   "cell_type": "code",
   "execution_count": 250,
   "id": "accomplished-bubble",
   "metadata": {},
   "outputs": [
    {
     "data": {
      "text/html": [
       "<div>\n",
       "<style scoped>\n",
       "    .dataframe tbody tr th:only-of-type {\n",
       "        vertical-align: middle;\n",
       "    }\n",
       "\n",
       "    .dataframe tbody tr th {\n",
       "        vertical-align: top;\n",
       "    }\n",
       "\n",
       "    .dataframe thead th {\n",
       "        text-align: right;\n",
       "    }\n",
       "</style>\n",
       "<table border=\"1\" class=\"dataframe\">\n",
       "  <thead>\n",
       "    <tr style=\"text-align: right;\">\n",
       "      <th></th>\n",
       "      <th>group</th>\n",
       "      <th>rat</th>\n",
       "      <th>total_time</th>\n",
       "      <th>stim_time</th>\n",
       "    </tr>\n",
       "  </thead>\n",
       "  <tbody>\n",
       "    <tr>\n",
       "      <th>0</th>\n",
       "      <td>CTRL</td>\n",
       "      <td>CTRL1</td>\n",
       "      <td>12</td>\n",
       "      <td>9</td>\n",
       "    </tr>\n",
       "    <tr>\n",
       "      <th>1</th>\n",
       "      <td>CTRL</td>\n",
       "      <td>CTRL2</td>\n",
       "      <td>13</td>\n",
       "      <td>10</td>\n",
       "    </tr>\n",
       "    <tr>\n",
       "      <th>2</th>\n",
       "      <td>CTRL</td>\n",
       "      <td>CTRL3</td>\n",
       "      <td>8</td>\n",
       "      <td>5</td>\n",
       "    </tr>\n",
       "    <tr>\n",
       "      <th>3</th>\n",
       "      <td>CTRL</td>\n",
       "      <td>CTRL4</td>\n",
       "      <td>10</td>\n",
       "      <td>7</td>\n",
       "    </tr>\n",
       "    <tr>\n",
       "      <th>4</th>\n",
       "      <td>CTRL</td>\n",
       "      <td>CTRL5</td>\n",
       "      <td>8</td>\n",
       "      <td>5</td>\n",
       "    </tr>\n",
       "  </tbody>\n",
       "</table>\n",
       "</div>"
      ],
      "text/plain": [
       "  group    rat  total_time  stim_time\n",
       "0  CTRL  CTRL1          12          9\n",
       "1  CTRL  CTRL2          13         10\n",
       "2  CTRL  CTRL3           8          5\n",
       "3  CTRL  CTRL4          10          7\n",
       "4  CTRL  CTRL5           8          5"
      ]
     },
     "execution_count": 250,
     "metadata": {},
     "output_type": "execute_result"
    }
   ],
   "source": [
    "expression_times.head()"
   ]
  },
  {
   "cell_type": "markdown",
   "id": "warming-cycle",
   "metadata": {},
   "source": [
    "### <font color='royalblue'> Calculate the performances"
   ]
  },
  {
   "cell_type": "code",
   "execution_count": 261,
   "id": "minimal-campus",
   "metadata": {},
   "outputs": [],
   "source": [
    "# Calculate performances for each rat, session and stimulation condition\n",
    "session_perfs = below15.groupby(['group','rat','session', 'stim_condition']).apply(calc_performance_in_group)"
   ]
  },
  {
   "cell_type": "code",
   "execution_count": 262,
   "id": "surgical-fields",
   "metadata": {
    "scrolled": true
   },
   "outputs": [],
   "source": [
    "session_perfs = session_perfs.reset_index().rename(columns={0:'performance'})"
   ]
  },
  {
   "cell_type": "code",
   "execution_count": 253,
   "id": "heard-black",
   "metadata": {},
   "outputs": [],
   "source": [
    "pooled_perfs = session_perfs.groupby(['group', 'rat', 'stim_condition'])['performance'].mean().reset_index()"
   ]
  },
  {
   "cell_type": "markdown",
   "id": "becoming-edward",
   "metadata": {},
   "source": [
    "### <font color='royalblue'> Calculate the median latencies"
   ]
  },
  {
   "cell_type": "code",
   "execution_count": 293,
   "id": "cardiac-steps",
   "metadata": {},
   "outputs": [],
   "source": [
    "median_latencies = below15.groupby(['group','rat','session', 'stim_condition'])['latency_to_cp_entry'].median().reset_index()"
   ]
  },
  {
   "cell_type": "code",
   "execution_count": 295,
   "id": "divine-cinema",
   "metadata": {},
   "outputs": [
    {
     "data": {
      "text/html": [
       "<div>\n",
       "<style scoped>\n",
       "    .dataframe tbody tr th:only-of-type {\n",
       "        vertical-align: middle;\n",
       "    }\n",
       "\n",
       "    .dataframe tbody tr th {\n",
       "        vertical-align: top;\n",
       "    }\n",
       "\n",
       "    .dataframe thead th {\n",
       "        text-align: right;\n",
       "    }\n",
       "</style>\n",
       "<table border=\"1\" class=\"dataframe\">\n",
       "  <thead>\n",
       "    <tr style=\"text-align: right;\">\n",
       "      <th></th>\n",
       "      <th>group</th>\n",
       "      <th>rat</th>\n",
       "      <th>session</th>\n",
       "      <th>stim_condition</th>\n",
       "      <th>latency_to_cp_entry</th>\n",
       "    </tr>\n",
       "  </thead>\n",
       "  <tbody>\n",
       "    <tr>\n",
       "      <th>0</th>\n",
       "      <td>CTRL</td>\n",
       "      <td>CTRL2</td>\n",
       "      <td>2020-02-07T14_40_27</td>\n",
       "      <td>0</td>\n",
       "      <td>3.637888</td>\n",
       "    </tr>\n",
       "    <tr>\n",
       "      <th>1</th>\n",
       "      <td>CTRL</td>\n",
       "      <td>CTRL2</td>\n",
       "      <td>2020-02-07T14_40_27</td>\n",
       "      <td>3</td>\n",
       "      <td>3.343014</td>\n",
       "    </tr>\n",
       "    <tr>\n",
       "      <th>2</th>\n",
       "      <td>CTRL</td>\n",
       "      <td>CTRL2</td>\n",
       "      <td>2020-02-08T10_24_17</td>\n",
       "      <td>0</td>\n",
       "      <td>1.854938</td>\n",
       "    </tr>\n",
       "    <tr>\n",
       "      <th>3</th>\n",
       "      <td>CTRL</td>\n",
       "      <td>CTRL2</td>\n",
       "      <td>2020-02-08T10_24_17</td>\n",
       "      <td>3</td>\n",
       "      <td>2.712755</td>\n",
       "    </tr>\n",
       "    <tr>\n",
       "      <th>4</th>\n",
       "      <td>CTRL</td>\n",
       "      <td>CTRL2</td>\n",
       "      <td>2020-02-09T10_17_11</td>\n",
       "      <td>0</td>\n",
       "      <td>1.914150</td>\n",
       "    </tr>\n",
       "  </tbody>\n",
       "</table>\n",
       "</div>"
      ],
      "text/plain": [
       "  group    rat              session  stim_condition  latency_to_cp_entry\n",
       "0  CTRL  CTRL2  2020-02-07T14_40_27               0             3.637888\n",
       "1  CTRL  CTRL2  2020-02-07T14_40_27               3             3.343014\n",
       "2  CTRL  CTRL2  2020-02-08T10_24_17               0             1.854938\n",
       "3  CTRL  CTRL2  2020-02-08T10_24_17               3             2.712755\n",
       "4  CTRL  CTRL2  2020-02-09T10_17_11               0             1.914150"
      ]
     },
     "execution_count": 295,
     "metadata": {},
     "output_type": "execute_result"
    }
   ],
   "source": [
    "median_latencies.head()"
   ]
  },
  {
   "cell_type": "markdown",
   "id": "basic-warrior",
   "metadata": {},
   "source": [
    "### <font color='royalblue'> Concatentate the viral expression times and the performances"
   ]
  },
  {
   "cell_type": "code",
   "execution_count": 298,
   "id": "completed-female",
   "metadata": {},
   "outputs": [
    {
     "data": {
      "text/html": [
       "<div>\n",
       "<style scoped>\n",
       "    .dataframe tbody tr th:only-of-type {\n",
       "        vertical-align: middle;\n",
       "    }\n",
       "\n",
       "    .dataframe tbody tr th {\n",
       "        vertical-align: top;\n",
       "    }\n",
       "\n",
       "    .dataframe thead th {\n",
       "        text-align: right;\n",
       "    }\n",
       "</style>\n",
       "<table border=\"1\" class=\"dataframe\">\n",
       "  <thead>\n",
       "    <tr style=\"text-align: right;\">\n",
       "      <th></th>\n",
       "      <th>group</th>\n",
       "      <th>rat</th>\n",
       "      <th>session</th>\n",
       "      <th>stim_condition</th>\n",
       "      <th>latency_to_cp_entry</th>\n",
       "      <th>expression_stim_time</th>\n",
       "    </tr>\n",
       "  </thead>\n",
       "  <tbody>\n",
       "    <tr>\n",
       "      <th>0</th>\n",
       "      <td>CTRL</td>\n",
       "      <td>CTRL2</td>\n",
       "      <td>2020-02-07T14_40_27</td>\n",
       "      <td>0</td>\n",
       "      <td>3.637888</td>\n",
       "      <td>10.0</td>\n",
       "    </tr>\n",
       "    <tr>\n",
       "      <th>1</th>\n",
       "      <td>CTRL</td>\n",
       "      <td>CTRL2</td>\n",
       "      <td>2020-02-07T14_40_27</td>\n",
       "      <td>3</td>\n",
       "      <td>3.343014</td>\n",
       "      <td>10.0</td>\n",
       "    </tr>\n",
       "    <tr>\n",
       "      <th>2</th>\n",
       "      <td>CTRL</td>\n",
       "      <td>CTRL2</td>\n",
       "      <td>2020-02-08T10_24_17</td>\n",
       "      <td>0</td>\n",
       "      <td>1.854938</td>\n",
       "      <td>10.0</td>\n",
       "    </tr>\n",
       "    <tr>\n",
       "      <th>3</th>\n",
       "      <td>CTRL</td>\n",
       "      <td>CTRL2</td>\n",
       "      <td>2020-02-08T10_24_17</td>\n",
       "      <td>3</td>\n",
       "      <td>2.712755</td>\n",
       "      <td>10.0</td>\n",
       "    </tr>\n",
       "    <tr>\n",
       "      <th>4</th>\n",
       "      <td>CTRL</td>\n",
       "      <td>CTRL2</td>\n",
       "      <td>2020-02-09T10_17_11</td>\n",
       "      <td>0</td>\n",
       "      <td>1.914150</td>\n",
       "      <td>10.0</td>\n",
       "    </tr>\n",
       "  </tbody>\n",
       "</table>\n",
       "</div>"
      ],
      "text/plain": [
       "  group    rat              session  stim_condition  latency_to_cp_entry  \\\n",
       "0  CTRL  CTRL2  2020-02-07T14_40_27               0             3.637888   \n",
       "1  CTRL  CTRL2  2020-02-07T14_40_27               3             3.343014   \n",
       "2  CTRL  CTRL2  2020-02-08T10_24_17               0             1.854938   \n",
       "3  CTRL  CTRL2  2020-02-08T10_24_17               3             2.712755   \n",
       "4  CTRL  CTRL2  2020-02-09T10_17_11               0             1.914150   \n",
       "\n",
       "   expression_stim_time  \n",
       "0                  10.0  \n",
       "1                  10.0  \n",
       "2                  10.0  \n",
       "3                  10.0  \n",
       "4                  10.0  "
      ]
     },
     "execution_count": 298,
     "metadata": {},
     "output_type": "execute_result"
    }
   ],
   "source": [
    "session_perfs['expression_stim_time']=\"\"\n",
    "\n",
    "for rat in expression_times['rat'].unique():\n",
    "    \n",
    "    stim_time = expression_times.loc[expression_times['rat']==rat,'stim_time']\n",
    "    session_perfs.loc[session_perfs['rat']==rat, 'expression_stim_time']=stim_time.iloc[0]\n",
    "    median_latencies.loc[median_latencies['rat']==rat, 'expression_stim_time']=stim_time.iloc[0]"
   ]
  },
  {
   "cell_type": "markdown",
   "id": "thousand-development",
   "metadata": {},
   "source": [
    "### <font color='royalblue'> Add the session number"
   ]
  },
  {
   "cell_type": "code",
   "execution_count": 300,
   "id": "matched-edinburgh",
   "metadata": {},
   "outputs": [
    {
     "data": {
      "text/html": [
       "<div>\n",
       "<style scoped>\n",
       "    .dataframe tbody tr th:only-of-type {\n",
       "        vertical-align: middle;\n",
       "    }\n",
       "\n",
       "    .dataframe tbody tr th {\n",
       "        vertical-align: top;\n",
       "    }\n",
       "\n",
       "    .dataframe thead th {\n",
       "        text-align: right;\n",
       "    }\n",
       "</style>\n",
       "<table border=\"1\" class=\"dataframe\">\n",
       "  <thead>\n",
       "    <tr style=\"text-align: right;\">\n",
       "      <th></th>\n",
       "      <th>rat</th>\n",
       "      <th>session</th>\n",
       "    </tr>\n",
       "  </thead>\n",
       "  <tbody>\n",
       "    <tr>\n",
       "      <th>0</th>\n",
       "      <td>NPHR1</td>\n",
       "      <td>2019-08-08T12_41_07</td>\n",
       "    </tr>\n",
       "    <tr>\n",
       "      <th>1</th>\n",
       "      <td>NPHR1</td>\n",
       "      <td>2019-08-09T11_26_15</td>\n",
       "    </tr>\n",
       "    <tr>\n",
       "      <th>2</th>\n",
       "      <td>NPHR1</td>\n",
       "      <td>2019-08-09T13_46_49</td>\n",
       "    </tr>\n",
       "    <tr>\n",
       "      <th>3</th>\n",
       "      <td>NPHR1</td>\n",
       "      <td>2019-08-12T13_00_22</td>\n",
       "    </tr>\n",
       "    <tr>\n",
       "      <th>4</th>\n",
       "      <td>NPHR1</td>\n",
       "      <td>2019-08-13T13_10_33</td>\n",
       "    </tr>\n",
       "    <tr>\n",
       "      <th>5</th>\n",
       "      <td>NPHR1</td>\n",
       "      <td>2019-08-14T09_26_24</td>\n",
       "    </tr>\n",
       "    <tr>\n",
       "      <th>6</th>\n",
       "      <td>NPHR1</td>\n",
       "      <td>2019-08-15T13_29_37</td>\n",
       "    </tr>\n",
       "    <tr>\n",
       "      <th>7</th>\n",
       "      <td>NPHR1</td>\n",
       "      <td>2019-08-16T13_32_30</td>\n",
       "    </tr>\n",
       "    <tr>\n",
       "      <th>8</th>\n",
       "      <td>NPHR1</td>\n",
       "      <td>2019-08-19T13_34_00</td>\n",
       "    </tr>\n",
       "    <tr>\n",
       "      <th>9</th>\n",
       "      <td>NPHR10</td>\n",
       "      <td>2021-03-08T10_06_47</td>\n",
       "    </tr>\n",
       "  </tbody>\n",
       "</table>\n",
       "</div>"
      ],
      "text/plain": [
       "      rat              session\n",
       "0   NPHR1  2019-08-08T12_41_07\n",
       "1   NPHR1  2019-08-09T11_26_15\n",
       "2   NPHR1  2019-08-09T13_46_49\n",
       "3   NPHR1  2019-08-12T13_00_22\n",
       "4   NPHR1  2019-08-13T13_10_33\n",
       "5   NPHR1  2019-08-14T09_26_24\n",
       "6   NPHR1  2019-08-15T13_29_37\n",
       "7   NPHR1  2019-08-16T13_32_30\n",
       "8   NPHR1  2019-08-19T13_34_00\n",
       "9  NPHR10  2021-03-08T10_06_47"
      ]
     },
     "execution_count": 300,
     "metadata": {},
     "output_type": "execute_result"
    }
   ],
   "source": [
    "#Create a rat-to-session labels mapping\n",
    "nphrs = session_perfs[session_perfs['group']=='NPHR']\n",
    "rat_to_session_map= nphrs.sort_values(by=['rat','session']).groupby(['rat','session']).nth(0).reset_index()[['rat','session']]\n",
    "rat_to_session_map.head(10)"
   ]
  },
  {
   "cell_type": "code",
   "execution_count": 305,
   "id": "needed-marshall",
   "metadata": {},
   "outputs": [],
   "source": [
    "#Collect the first 5 session_labels\n",
    "session_labels=rat_to_session_map.groupby(['rat'])['session'].head(10)\n",
    "\n",
    "# Get the first 5 performances\n",
    "nphrs_performances = nphrs[nphrs['session'].isin(session_labels)]\n",
    "illum_performances = nphrs[nphrs['stim_condition']==3]\n",
    "\n",
    "#Get the first 5 median latencies\n",
    "nphr_latencies = median_latencies[median_latencies['session'].isin(session_labels)]\n",
    "illum_latencies = nphr_latencies[nphr_latencies['stim_condition']==3]"
   ]
  },
  {
   "cell_type": "markdown",
   "id": "important-spelling",
   "metadata": {},
   "source": [
    "### <font color='royalblue'> Scatter plot session illumination performances (first 5) with viral expression time during the start of the protocol"
   ]
  },
  {
   "cell_type": "code",
   "execution_count": 306,
   "id": "waiting-idaho",
   "metadata": {
    "scrolled": true
   },
   "outputs": [
    {
     "data": {
      "text/plain": [
       "<Figure size 1800x1200 with 0 Axes>"
      ]
     },
     "metadata": {},
     "output_type": "display_data"
    },
    {
     "data": {
      "image/png": "[encoded data removed]",
      "text/plain": [
       "<Figure size 432x288 with 1 Axes>"
      ]
     },
     "metadata": {},
     "output_type": "display_data"
    }
   ],
   "source": [
    "sns.set(style='white', context='talk')\n",
    "plt.figure(dpi=300)\n",
    "sns.catplot(kind='strip', data=illum_performances, x='expression_stim_time', y='performance',\n",
    "            alpha=.5, s=8, height=4, aspect=1.5, jitter=.3, color='black')\n",
    "sns.despine()"
   ]
  },
  {
   "cell_type": "markdown",
   "id": "durable-worst",
   "metadata": {},
   "source": [
    "### <font color='royalblue'> Plot Median Latencies with viral expression time"
   ]
  },
  {
   "cell_type": "code",
   "execution_count": 308,
   "id": "stone-shark",
   "metadata": {},
   "outputs": [
    {
     "data": {
      "text/plain": [
       "<Figure size 1800x1200 with 0 Axes>"
      ]
     },
     "metadata": {},
     "output_type": "display_data"
    },
    {
     "data": {
      "image/png": "[encoded data removed]",
      "text/plain": [
       "<Figure size 560.95x288 with 1 Axes>"
      ]
     },
     "metadata": {},
     "output_type": "display_data"
    }
   ],
   "source": [
    "sns.set(style='white', context='talk')\n",
    "plt.figure(dpi=300)\n",
    "sns.catplot(kind='strip', data=nphr_latencies, x='expression_stim_time', y='latency_to_cp_entry', hue='stim_condition',\n",
    "            alpha=.5, s=8, height=4, aspect=1.5, jitter=.3)\n",
    "sns.despine()"
   ]
  },
  {
   "cell_type": "code",
   "execution_count": null,
   "id": "widespread-lloyd",
   "metadata": {},
   "outputs": [],
   "source": []
  }
 ],
 "metadata": {
  "kernelspec": {
   "display_name": "Python 3",
   "language": "python",
   "name": "python3"
  },
  "language_info": {
   "codemirror_mode": {
    "name": "ipython",
    "version": 3
   },
   "file_extension": ".py",
   "mimetype": "text/x-python",
   "name": "python",
   "nbconvert_exporter": "python",
   "pygments_lexer": "ipython3",
   "version": "3.8.8"
  }
 },
 "nbformat": 4,
 "nbformat_minor": 5
}
