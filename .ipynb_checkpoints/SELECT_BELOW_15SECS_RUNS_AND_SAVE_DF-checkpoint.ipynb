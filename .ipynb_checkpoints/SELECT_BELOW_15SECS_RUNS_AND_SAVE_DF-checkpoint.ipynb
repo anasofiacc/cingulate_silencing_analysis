{
 "cells": [
  {
   "cell_type": "markdown",
   "id": "heated-import",
   "metadata": {},
   "source": [
    "# <font color='royalblue'> Selection of below 15 seconds to choice point runs\n",
    "\n",
    "### It will collect the pruned position for all rats and get the ROI crossing timestamps. Using the timestamps, it will compute: (1) latency to choice point entry, (2) latency to choice exit, (3) time inside choice point. Using the latency to choice point exit, it will remove all runs in which the rats did not reach the choice point exit in 15 seconds. Saves the data into the given path. "
   ]
  },
  {
   "cell_type": "code",
   "execution_count": 1,
   "id": "sharp-illness",
   "metadata": {},
   "outputs": [],
   "source": [
    "import pandas as pd\n",
    "import numpy as np\n",
    "import seaborn as sns\n",
    "import os\n",
    "import re\n",
    "import matplotlib.pyplot as plt\n",
    "from file_lists import get_file_list\n",
    "\n",
    "%matplotlib inline\n",
    "%run data_prep_functions.ipynb"
   ]
  },
  {
   "cell_type": "code",
   "execution_count": 14,
   "id": "moved-printer",
   "metadata": {
    "slideshow": {
     "slide_type": "skip"
    }
   },
   "outputs": [],
   "source": [
    "path = \"E:/POSITION DATA/PRE PROCESSED\""
   ]
  },
  {
   "cell_type": "markdown",
   "id": "controversial-explosion",
   "metadata": {},
   "source": [
    "### <font color= 'royalblue'> Collect the pruned timestamped position and CP rois from all rats in the given path"
   ]
  },
  {
   "cell_type": "code",
   "execution_count": 3,
   "id": "bored-adjustment",
   "metadata": {},
   "outputs": [
    {
     "data": {
      "image/png": "[encoded data removed]",
      "text/plain": [
       "<Figure size 432x288 with 1 Axes>"
      ]
     },
     "metadata": {
      "needs_background": "light"
     },
     "output_type": "display_data"
    }
   ],
   "source": [
    "data, rois = collect_pruned_position_and_cp_rois_all_rats_in_path(path)\n",
    "# Check if data from all rats are present in the dataframe\n",
    "data['rat'].value_counts().plot.bar()\n",
    "plt.xlabel('rat')\n",
    "plt.ylabel('N data points')\n",
    "plt.show()"
   ]
  },
  {
   "cell_type": "markdown",
   "id": "boring-producer",
   "metadata": {},
   "source": [
    "### <font color='royalblue'> Collect only the data from test runs"
   ]
  },
  {
   "cell_type": "code",
   "execution_count": 4,
   "id": "fifteen-sixth",
   "metadata": {},
   "outputs": [],
   "source": [
    "test_runs_raw=data[data['run_type'] == 'T']"
   ]
  },
  {
   "cell_type": "markdown",
   "id": "certified-minneapolis",
   "metadata": {},
   "source": [
    "### <font color='royalblue'> Get ROI crossing timestamps: start of run, entry in cp, exit of cp"
   ]
  },
  {
   "cell_type": "code",
   "execution_count": 5,
   "id": "conceptual-remedy",
   "metadata": {},
   "outputs": [],
   "source": [
    "test_runs = get_roi_crossing_timestamps_for_runs_in_df(test_runs_raw, rois)"
   ]
  },
  {
   "cell_type": "code",
   "execution_count": 6,
   "id": "destroyed-nylon",
   "metadata": {},
   "outputs": [],
   "source": [
    "# PLOT the ROI crossing x,y"
   ]
  },
  {
   "cell_type": "markdown",
   "id": "challenging-testament",
   "metadata": {},
   "source": [
    "### <font color= 'royalblue'> Calculate latency to CP entry and exit"
   ]
  },
  {
   "cell_type": "code",
   "execution_count": 7,
   "id": "mediterranean-completion",
   "metadata": {
    "scrolled": false
   },
   "outputs": [],
   "source": [
    "test_runs['latency_to_cp_entry'] = test_runs['cp_entry_timestamp'] - test_runs['start_timestamp']\n",
    "test_runs['latency_to_cp_exit'] = test_runs['cp_exit_timestamp'] - test_runs['start_timestamp']\n",
    "test_runs['time_in_cp'] = test_runs['cp_exit_timestamp'] - test_runs['cp_entry_timestamp']"
   ]
  },
  {
   "cell_type": "code",
   "execution_count": 8,
   "id": "egyptian-details",
   "metadata": {},
   "outputs": [
    {
     "data": {
      "text/plain": [
       "Index(['session', 'rat', 'run_nr', 'start_timestamp', 'run_type',\n",
       "       'stim_condition', 'outcome', 'group', 'cp_entry_timestamp',\n",
       "       'cp_exit_timestamp', 'latency_to_cp_entry', 'latency_to_cp_exit',\n",
       "       'time_in_cp'],\n",
       "      dtype='object')"
      ]
     },
     "execution_count": 8,
     "metadata": {},
     "output_type": "execute_result"
    }
   ],
   "source": [
    "test_runs.columns"
   ]
  },
  {
   "cell_type": "code",
   "execution_count": 9,
   "id": "adopted-strength",
   "metadata": {
    "scrolled": true
   },
   "outputs": [],
   "source": [
    "test_runs['stim_condition'] =  test_runs['stim_condition'].astype(int).astype(str)"
   ]
  },
  {
   "cell_type": "code",
   "execution_count": 10,
   "id": "delayed-conducting",
   "metadata": {},
   "outputs": [
    {
     "data": {
      "text/plain": [
       "group  stim_condition\n",
       "CTRL   -1                 588\n",
       "       0                 1012\n",
       "       1                  867\n",
       "       3                 1009\n",
       "NPHR   -1                 736\n",
       "       0                 1265\n",
       "       1                 1269\n",
       "       3                 1252\n",
       "Name: outcome, dtype: int64"
      ]
     },
     "execution_count": 10,
     "metadata": {},
     "output_type": "execute_result"
    }
   ],
   "source": [
    "test_runs.groupby(['group','stim_condition']).count()['outcome']"
   ]
  },
  {
   "cell_type": "markdown",
   "id": "facial-forwarding",
   "metadata": {},
   "source": [
    "### <font color='royalblue'> Save test_runs dataframe (all trials)"
   ]
  },
  {
   "cell_type": "markdown",
   "id": "curious-magnitude",
   "metadata": {},
   "source": [
    "### <font color='royalblue'> Remove timeout runs ( < 15 seconds)"
   ]
  },
  {
   "cell_type": "code",
   "execution_count": 11,
   "id": "satisfied-encounter",
   "metadata": {},
   "outputs": [],
   "source": [
    "below15 = test_runs[test_runs['latency_to_cp_exit']<15]"
   ]
  },
  {
   "cell_type": "code",
   "execution_count": 12,
   "id": "paperback-silly",
   "metadata": {},
   "outputs": [
    {
     "data": {
      "text/plain": [
       "group  stim_condition\n",
       "CTRL   -1                 544\n",
       "       0                  954\n",
       "       1                  808\n",
       "       3                  937\n",
       "NPHR   -1                 641\n",
       "       0                 1196\n",
       "       1                 1192\n",
       "       3                 1164\n",
       "Name: session, dtype: int64"
      ]
     },
     "execution_count": 12,
     "metadata": {},
     "output_type": "execute_result"
    }
   ],
   "source": [
    "below15.groupby(['group', 'stim_condition'])['session'].count()"
   ]
  },
  {
   "cell_type": "markdown",
   "id": "indoor-glenn",
   "metadata": {},
   "source": [
    "### <font color='royalblue'> Save the below15 dataframe"
   ]
  },
  {
   "cell_type": "code",
   "execution_count": 17,
   "id": "scenic-blogger",
   "metadata": {},
   "outputs": [
    {
     "ename": "PermissionError",
     "evalue": "[Errno 13] Permission denied: 'E:/POSITION DATA/PRE PROCESSED'",
     "output_type": "error",
     "traceback": [
      "\u001b[1;31m---------------------------------------------------------------------------\u001b[0m",
      "\u001b[1;31mPermissionError\u001b[0m                           Traceback (most recent call last)",
      "\u001b[1;32m<ipython-input-17-93c0ae5fb639>\u001b[0m in \u001b[0;36m<module>\u001b[1;34m\u001b[0m\n\u001b[1;32m----> 1\u001b[1;33m \u001b[0mbelow15\u001b[0m\u001b[1;33m.\u001b[0m\u001b[0mto_csv\u001b[0m\u001b[1;33m(\u001b[0m\u001b[0mpath\u001b[0m\u001b[1;33m,\u001b[0m \u001b[0mheader\u001b[0m\u001b[1;33m=\u001b[0m\u001b[0mbelow15\u001b[0m\u001b[1;33m.\u001b[0m\u001b[0mcolumns\u001b[0m\u001b[1;33m)\u001b[0m\u001b[1;33m\u001b[0m\u001b[1;33m\u001b[0m\u001b[0m\n\u001b[0m",
      "\u001b[1;32m~\\Anaconda3\\envs\\ds\\lib\\site-packages\\pandas\\core\\generic.py\u001b[0m in \u001b[0;36mto_csv\u001b[1;34m(self, path_or_buf, sep, na_rep, float_format, columns, header, index, index_label, mode, encoding, compression, quoting, quotechar, line_terminator, chunksize, date_format, doublequote, escapechar, decimal, errors, storage_options)\u001b[0m\n\u001b[0;32m   3385\u001b[0m         )\n\u001b[0;32m   3386\u001b[0m \u001b[1;33m\u001b[0m\u001b[0m\n\u001b[1;32m-> 3387\u001b[1;33m         return DataFrameRenderer(formatter).to_csv(\n\u001b[0m\u001b[0;32m   3388\u001b[0m             \u001b[0mpath_or_buf\u001b[0m\u001b[1;33m,\u001b[0m\u001b[1;33m\u001b[0m\u001b[1;33m\u001b[0m\u001b[0m\n\u001b[0;32m   3389\u001b[0m             \u001b[0mline_terminator\u001b[0m\u001b[1;33m=\u001b[0m\u001b[0mline_terminator\u001b[0m\u001b[1;33m,\u001b[0m\u001b[1;33m\u001b[0m\u001b[1;33m\u001b[0m\u001b[0m\n",
      "\u001b[1;32m~\\Anaconda3\\envs\\ds\\lib\\site-packages\\pandas\\io\\formats\\format.py\u001b[0m in \u001b[0;36mto_csv\u001b[1;34m(self, path_or_buf, encoding, sep, columns, index_label, mode, compression, quoting, quotechar, line_terminator, chunksize, date_format, doublequote, escapechar, errors, storage_options)\u001b[0m\n\u001b[0;32m   1081\u001b[0m             \u001b[0mformatter\u001b[0m\u001b[1;33m=\u001b[0m\u001b[0mself\u001b[0m\u001b[1;33m.\u001b[0m\u001b[0mfmt\u001b[0m\u001b[1;33m,\u001b[0m\u001b[1;33m\u001b[0m\u001b[1;33m\u001b[0m\u001b[0m\n\u001b[0;32m   1082\u001b[0m         )\n\u001b[1;32m-> 1083\u001b[1;33m         \u001b[0mcsv_formatter\u001b[0m\u001b[1;33m.\u001b[0m\u001b[0msave\u001b[0m\u001b[1;33m(\u001b[0m\u001b[1;33m)\u001b[0m\u001b[1;33m\u001b[0m\u001b[1;33m\u001b[0m\u001b[0m\n\u001b[0m\u001b[0;32m   1084\u001b[0m \u001b[1;33m\u001b[0m\u001b[0m\n\u001b[0;32m   1085\u001b[0m         \u001b[1;32mif\u001b[0m \u001b[0mcreated_buffer\u001b[0m\u001b[1;33m:\u001b[0m\u001b[1;33m\u001b[0m\u001b[1;33m\u001b[0m\u001b[0m\n",
      "\u001b[1;32m~\\Anaconda3\\envs\\ds\\lib\\site-packages\\pandas\\io\\formats\\csvs.py\u001b[0m in \u001b[0;36msave\u001b[1;34m(self)\u001b[0m\n\u001b[0;32m    226\u001b[0m         \"\"\"\n\u001b[0;32m    227\u001b[0m         \u001b[1;31m# apply compression and byte/text conversion\u001b[0m\u001b[1;33m\u001b[0m\u001b[1;33m\u001b[0m\u001b[1;33m\u001b[0m\u001b[0m\n\u001b[1;32m--> 228\u001b[1;33m         with get_handle(\n\u001b[0m\u001b[0;32m    229\u001b[0m             \u001b[0mself\u001b[0m\u001b[1;33m.\u001b[0m\u001b[0mfilepath_or_buffer\u001b[0m\u001b[1;33m,\u001b[0m\u001b[1;33m\u001b[0m\u001b[1;33m\u001b[0m\u001b[0m\n\u001b[0;32m    230\u001b[0m             \u001b[0mself\u001b[0m\u001b[1;33m.\u001b[0m\u001b[0mmode\u001b[0m\u001b[1;33m,\u001b[0m\u001b[1;33m\u001b[0m\u001b[1;33m\u001b[0m\u001b[0m\n",
      "\u001b[1;32m~\\Anaconda3\\envs\\ds\\lib\\site-packages\\pandas\\io\\common.py\u001b[0m in \u001b[0;36mget_handle\u001b[1;34m(path_or_buf, mode, encoding, compression, memory_map, is_text, errors, storage_options)\u001b[0m\n\u001b[0;32m    640\u001b[0m                 \u001b[0merrors\u001b[0m \u001b[1;33m=\u001b[0m \u001b[1;34m\"replace\"\u001b[0m\u001b[1;33m\u001b[0m\u001b[1;33m\u001b[0m\u001b[0m\n\u001b[0;32m    641\u001b[0m             \u001b[1;31m# Encoding\u001b[0m\u001b[1;33m\u001b[0m\u001b[1;33m\u001b[0m\u001b[1;33m\u001b[0m\u001b[0m\n\u001b[1;32m--> 642\u001b[1;33m             handle = open(\n\u001b[0m\u001b[0;32m    643\u001b[0m                 \u001b[0mhandle\u001b[0m\u001b[1;33m,\u001b[0m\u001b[1;33m\u001b[0m\u001b[1;33m\u001b[0m\u001b[0m\n\u001b[0;32m    644\u001b[0m                 \u001b[0mioargs\u001b[0m\u001b[1;33m.\u001b[0m\u001b[0mmode\u001b[0m\u001b[1;33m,\u001b[0m\u001b[1;33m\u001b[0m\u001b[1;33m\u001b[0m\u001b[0m\n",
      "\u001b[1;31mPermissionError\u001b[0m: [Errno 13] Permission denied: 'E:/POSITION DATA/PRE PROCESSED'"
     ]
    }
   ],
   "source": [
    "below15.to_csv(path, header=below15.columns)"
   ]
  },
  {
   "cell_type": "markdown",
   "id": "toxic-composer",
   "metadata": {},
   "source": [
    "### <font color='royalblue'> Check proportion of timeouts in each condition and group"
   ]
  },
  {
   "cell_type": "code",
   "execution_count": null,
   "id": "earlier-opposition",
   "metadata": {},
   "outputs": [],
   "source": [
    "# Calculate the proportion of timeouts per group x rat x condition combination\n",
    "n_total_runs = test_runs.groupby(['group', 'rat', 'stim_condition']).count()\n",
    "n_timeout_runs = below15.groupby(['group', 'rat','stim_condition']).count()\n",
    "prop_timeouts = ((n_total_runs - n_timeout_runs)/n_total_runs).reset_index()"
   ]
  },
  {
   "cell_type": "code",
   "execution_count": null,
   "id": "documented-department",
   "metadata": {},
   "outputs": [],
   "source": [
    "prop_timeouts_nphr=prop_timeouts[prop_timeouts['group']=='NPHR']\n",
    "prop_timeouts_ctrl=prop_timeouts[prop_timeouts['group']=='CTRL']\n",
    "\n",
    "#Plot the proportions\n",
    "fig, axes = plt.subplots(1,2, figsize=(17,4), sharey=True, dpi=300)\n",
    "sns.set(style='white', context='talk')\n",
    "\n",
    "sns.stripplot(\n",
    "    ax=axes[0], data=prop_timeouts_ctrl*100, x='stim_condition', y='run_nr',\n",
    "    marker='o', size=5, palette=['white'], edgecolor='black', linewidth=1)\n",
    "\n",
    "sns.stripplot(\n",
    "    ax=axes[1], data=prop_timeouts_nphr*100, x='stim_condition', y='run_nr', \n",
    "    marker='o', size=5, palette=['white'], edgecolor='black', linewidth=1)\n",
    "\n",
    "sns.pointplot(\n",
    "    ax=axes[0], data=prop_timeouts_ctrl*100, x='stim_condition', y='run_nr',\n",
    "    marker='o', markersize=11, alpha=1, linewidth=1, join=False, \n",
    "    ci='sd', err_style='bars', err_kws={'capsize':6, 'elinewidth':1, 'capthick':1},\n",
    "    color='black', legend=False\n",
    ")\n",
    "sns.pointplot(\n",
    "    ax=axes[1], data=prop_timeouts_nphr*100, x='stim_condition', y='run_nr',\n",
    "    marker='o', markersize=11, alpha=1, linewidth=1, join=False,\n",
    "    ci='sd', err_style='bars', err_kws={'capsize':6, 'elinewidth':1, 'capthick':1}, \n",
    "    color='black', legend=False, \n",
    ")   \n",
    "\n",
    "axes[0].set(ylim=[-3,40], xlim=[-.5,3.5], xlabel='Condition', ylabel='timeout trials(%)',\n",
    "            xticklabels=['Pre','No Illumination','Sample Illumination', 'Test Illumination'], title='NpHR-')\n",
    "axes[1].set(ylim=[-3,40], xlim=[-.5,3.5], xlabel='Condition', ylabel='',\n",
    "            xticklabels=['Pre','No Illumination','Sample Illumination', 'Test Illumination'], title='NpHR+')\n",
    "plt.tight_layout()\n",
    "sns.despine()"
   ]
  },
  {
   "cell_type": "code",
   "execution_count": null,
   "id": "fleet-device",
   "metadata": {},
   "outputs": [],
   "source": [
    "no_and_test_timeouts = prop_timeouts[(prop_timeouts['stim_condition']=='0')|(prop_timeouts['stim_condition']=='3')]\n",
    "no_and_test_nphr=no_and_test_timeouts[no_and_test_timeouts['group']=='NPHR']\n",
    "no_and_test_ctrl=no_and_test_timeouts[no_and_test_timeouts['group']=='CTRL']\n",
    "\n",
    "#Plot the proportions\n",
    "fig, axes = plt.subplots(1,2, figsize=(10,5), sharey=True, dpi=300)\n",
    "sns.set(style='white', context='talk')\n",
    "\n",
    "sns.stripplot(\n",
    "    ax=axes[0], data=no_and_test_ctrl*100, x='stim_condition', y='run_nr',\n",
    "    marker='o', size=5, palette=['white'], edgecolor='black', linewidth=1)\n",
    "\n",
    "sns.stripplot(\n",
    "    ax=axes[1], data=no_and_test_nphr*100, x='stim_condition', y='run_nr', \n",
    "    marker='o', size=5, palette=['white'], edgecolor='black', linewidth=1)\n",
    "\n",
    "sns.lineplot(\n",
    "    ax=axes[0], data=no_and_test_ctrl*100, x='stim_condition', y='run_nr',\n",
    "    marker='o', markersize=11, alpha=1, linewidth=1,  \n",
    "    ci='sd', err_style='bars', err_kws={'capsize':6, 'elinewidth':1, 'capthick':1},\n",
    "    color='black', legend=False\n",
    ")\n",
    "sns.lineplot(\n",
    "    ax=axes[1], data=no_and_test_nphr*100, x='stim_condition', y='run_nr',\n",
    "    marker='o', markersize=11, alpha=1, linewidth=1,\n",
    "    ci='sd', err_style='bars', err_kws={'capsize':6, 'elinewidth':1, 'capthick':1}, \n",
    "    color='black', legend=False, \n",
    ")   \n",
    "\n",
    "axes[0].set(ylim=[-3,22], xlim=[-.5,1.5], \n",
    "            xlabel='Condition', ylabel='timeout trials(%)',\n",
    "            xticklabels=['No Illumination', 'Illumination'],\n",
    "           title='NpHR-')\n",
    "axes[1].set(ylim=[-3,22], xlim=[-.5,1.5],\n",
    "            xlabel='Condition', ylabel='',\n",
    "            xticklabels=['No Illumination', 'Illumination'],\n",
    "           title='NpHR+')\n",
    "plt.tight_layout()\n",
    "sns.despine()"
   ]
  },
  {
   "cell_type": "code",
   "execution_count": null,
   "id": "excessive-albert",
   "metadata": {},
   "outputs": [],
   "source": [
    "sns.displot(\n",
    "    prop_timeouts, x=\"run_nr\", col=\"stim_condition\", row=\"group\",\n",
    "    facet_kws=dict(margin_titles=True), height=3)\n",
    "\n",
    "from scipy.stats import shapiro\n",
    "normality_testing = {}\n",
    "for group, data in prop_timeouts.groupby(['group', 'stim_condition'])['run_nr']:\n",
    "    stat, p = shapiro(data)\n",
    "    normality_testing[group] = (stat, p)\n",
    "normality_testing = pd.Series(normality_testing)\n",
    "normality_testing"
   ]
  },
  {
   "cell_type": "code",
   "execution_count": null,
   "id": "common-declaration",
   "metadata": {},
   "outputs": [],
   "source": [
    "# Wilcoxon test on the NpHR - group\n",
    "from scipy.stats import wilcoxon\n",
    "ctrl_no_illum = prop_timeouts_ctrl[prop_timeouts_ctrl['stim_condition']=='0']\n",
    "ctrl_illum = prop_timeouts_ctrl[prop_timeouts_ctrl['stim_condition']=='3']\n",
    "\n",
    "w, p = wilcoxon(x=ctrl_no_illum['run_nr'], y=ctrl_illum['run_nr'])\n",
    "print(w, p)\n",
    "\n",
    "# Wilcoxon test on the NpHR+ group\n",
    "nphr_no_illum = prop_timeouts_nphr[prop_timeouts_nphr['stim_condition']=='0']\n",
    "nphr_illum = prop_timeouts_nphr[prop_timeouts_nphr['stim_condition']=='3']\n",
    "w, p = wilcoxon(x=nphr_no_illum['run_nr'], y=nphr_illum['run_nr'])\n",
    "print(w, p)"
   ]
  },
  {
   "cell_type": "code",
   "execution_count": null,
   "id": "superb-ambassador",
   "metadata": {},
   "outputs": [],
   "source": []
  }
 ],
 "metadata": {
  "kernelspec": {
   "display_name": "Python 3",
   "language": "python",
   "name": "python3"
  },
  "language_info": {
   "codemirror_mode": {
    "name": "ipython",
    "version": 3
   },
   "file_extension": ".py",
   "mimetype": "text/x-python",
   "name": "python",
   "nbconvert_exporter": "python",
   "pygments_lexer": "ipython3",
   "version": "3.8.8"
  }
 },
 "nbformat": 4,
 "nbformat_minor": 5
}
