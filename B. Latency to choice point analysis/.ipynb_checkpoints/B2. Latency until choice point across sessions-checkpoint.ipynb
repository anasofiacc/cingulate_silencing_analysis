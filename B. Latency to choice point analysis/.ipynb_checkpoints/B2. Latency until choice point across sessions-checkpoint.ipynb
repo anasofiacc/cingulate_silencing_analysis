{
 "cells": [
  {
   "cell_type": "code",
   "execution_count": 66,
   "id": "prospective-agriculture",
   "metadata": {},
   "outputs": [
    {
     "ename": "NameError",
     "evalue": "name 'var' is not defined",
     "output_type": "error",
     "traceback": [
      "\u001b[1;31m---------------------------------------------------------------------------\u001b[0m",
      "\u001b[1;31mNameError\u001b[0m                                 Traceback (most recent call last)",
      "\u001b[1;32m~\\Desktop\\cingulate_silencing_repo\\data_analysis_functions.ipynb\u001b[0m in \u001b[0;36m<module>\u001b[1;34m\u001b[0m\n\u001b[0;32m      8\u001b[0m \u001b[0msns\u001b[0m\u001b[1;33m.\u001b[0m\u001b[0mset\u001b[0m\u001b[1;33m(\u001b[0m\u001b[0mstyle\u001b[0m\u001b[1;33m=\u001b[0m\u001b[1;34m'white'\u001b[0m\u001b[1;33m,\u001b[0m \u001b[0mcontext\u001b[0m\u001b[1;33m=\u001b[0m\u001b[1;34m'talk'\u001b[0m\u001b[1;33m)\u001b[0m\u001b[1;33m\u001b[0m\u001b[1;33m\u001b[0m\u001b[0m\n\u001b[0;32m      9\u001b[0m g = sns.relplot(kind='line', data=df, row='group', col='stim_condition',\n\u001b[1;32m---> 10\u001b[1;33m                 \u001b[0mx\u001b[0m\u001b[1;33m=\u001b[0m\u001b[1;34m'session_nr'\u001b[0m\u001b[1;33m,\u001b[0m \u001b[0my\u001b[0m\u001b[1;33m=\u001b[0m\u001b[0mvar\u001b[0m\u001b[1;33m,\u001b[0m \u001b[0mhue\u001b[0m\u001b[1;33m=\u001b[0m\u001b[1;34m'rat'\u001b[0m\u001b[1;33m,\u001b[0m\u001b[1;33m\u001b[0m\u001b[1;33m\u001b[0m\u001b[0m\n\u001b[0m\u001b[0;32m     11\u001b[0m                 height=4, aspect=1.3, linewidth=1)\n\u001b[0;32m     12\u001b[0m \u001b[1;33m\u001b[0m\u001b[0m\n",
      "\u001b[1;31mNameError\u001b[0m: name 'var' is not defined"
     ]
    },
    {
     "data": {
      "text/plain": [
       "<Figure size 1800x1200 with 0 Axes>"
      ]
     },
     "metadata": {},
     "output_type": "display_data"
    },
    {
     "ename": "NameError",
     "evalue": "name 'var' is not defined",
     "output_type": "error",
     "traceback": [
      "\u001b[1;31m---------------------------------------------------------------------------\u001b[0m",
      "\u001b[1;31mNameError\u001b[0m                                 Traceback (most recent call last)",
      "\u001b[1;32m<ipython-input-66-2cadaa8023fc>\u001b[0m in \u001b[0;36m<module>\u001b[1;34m\u001b[0m\n\u001b[0;32m      9\u001b[0m \u001b[0mget_ipython\u001b[0m\u001b[1;33m(\u001b[0m\u001b[1;33m)\u001b[0m\u001b[1;33m.\u001b[0m\u001b[0mrun_line_magic\u001b[0m\u001b[1;33m(\u001b[0m\u001b[1;34m'matplotlib'\u001b[0m\u001b[1;33m,\u001b[0m \u001b[1;34m'inline'\u001b[0m\u001b[1;33m)\u001b[0m\u001b[1;33m\u001b[0m\u001b[1;33m\u001b[0m\u001b[0m\n\u001b[0;32m     10\u001b[0m \u001b[0mget_ipython\u001b[0m\u001b[1;33m(\u001b[0m\u001b[1;33m)\u001b[0m\u001b[1;33m.\u001b[0m\u001b[0mrun_line_magic\u001b[0m\u001b[1;33m(\u001b[0m\u001b[1;34m'run'\u001b[0m\u001b[1;33m,\u001b[0m \u001b[1;34m'\"C:\\\\Users\\\\anasofiaccruz\\\\Desktop\\\\cingulate_silencing_repo\\\\data_prep_functions.ipynb\"'\u001b[0m\u001b[1;33m)\u001b[0m\u001b[1;33m\u001b[0m\u001b[1;33m\u001b[0m\u001b[0m\n\u001b[1;32m---> 11\u001b[1;33m \u001b[0mget_ipython\u001b[0m\u001b[1;33m(\u001b[0m\u001b[1;33m)\u001b[0m\u001b[1;33m.\u001b[0m\u001b[0mrun_line_magic\u001b[0m\u001b[1;33m(\u001b[0m\u001b[1;34m'run'\u001b[0m\u001b[1;33m,\u001b[0m \u001b[1;34m'\"C:\\\\Users\\\\anasofiaccruz\\\\Desktop\\\\cingulate_silencing_repo\\\\data_analysis_functions.ipynb\"'\u001b[0m\u001b[1;33m)\u001b[0m\u001b[1;33m\u001b[0m\u001b[1;33m\u001b[0m\u001b[0m\n\u001b[0m",
      "\u001b[1;32m~\\Anaconda3\\envs\\ds\\lib\\site-packages\\IPython\\core\\interactiveshell.py\u001b[0m in \u001b[0;36mrun_line_magic\u001b[1;34m(self, magic_name, line, _stack_depth)\u001b[0m\n\u001b[0;32m   2342\u001b[0m                 \u001b[0mkwargs\u001b[0m\u001b[1;33m[\u001b[0m\u001b[1;34m'local_ns'\u001b[0m\u001b[1;33m]\u001b[0m \u001b[1;33m=\u001b[0m \u001b[0mself\u001b[0m\u001b[1;33m.\u001b[0m\u001b[0mget_local_scope\u001b[0m\u001b[1;33m(\u001b[0m\u001b[0mstack_depth\u001b[0m\u001b[1;33m)\u001b[0m\u001b[1;33m\u001b[0m\u001b[1;33m\u001b[0m\u001b[0m\n\u001b[0;32m   2343\u001b[0m             \u001b[1;32mwith\u001b[0m \u001b[0mself\u001b[0m\u001b[1;33m.\u001b[0m\u001b[0mbuiltin_trap\u001b[0m\u001b[1;33m:\u001b[0m\u001b[1;33m\u001b[0m\u001b[1;33m\u001b[0m\u001b[0m\n\u001b[1;32m-> 2344\u001b[1;33m                 \u001b[0mresult\u001b[0m \u001b[1;33m=\u001b[0m \u001b[0mfn\u001b[0m\u001b[1;33m(\u001b[0m\u001b[1;33m*\u001b[0m\u001b[0margs\u001b[0m\u001b[1;33m,\u001b[0m \u001b[1;33m**\u001b[0m\u001b[0mkwargs\u001b[0m\u001b[1;33m)\u001b[0m\u001b[1;33m\u001b[0m\u001b[1;33m\u001b[0m\u001b[0m\n\u001b[0m\u001b[0;32m   2345\u001b[0m             \u001b[1;32mreturn\u001b[0m \u001b[0mresult\u001b[0m\u001b[1;33m\u001b[0m\u001b[1;33m\u001b[0m\u001b[0m\n\u001b[0;32m   2346\u001b[0m \u001b[1;33m\u001b[0m\u001b[0m\n",
      "\u001b[1;32m<decorator-gen-53>\u001b[0m in \u001b[0;36mrun\u001b[1;34m(self, parameter_s, runner, file_finder)\u001b[0m\n",
      "\u001b[1;32m~\\Anaconda3\\envs\\ds\\lib\\site-packages\\IPython\\core\\magic.py\u001b[0m in \u001b[0;36m<lambda>\u001b[1;34m(f, *a, **k)\u001b[0m\n\u001b[0;32m    185\u001b[0m     \u001b[1;31m# but it's overkill for just that one bit of state.\u001b[0m\u001b[1;33m\u001b[0m\u001b[1;33m\u001b[0m\u001b[1;33m\u001b[0m\u001b[0m\n\u001b[0;32m    186\u001b[0m     \u001b[1;32mdef\u001b[0m \u001b[0mmagic_deco\u001b[0m\u001b[1;33m(\u001b[0m\u001b[0marg\u001b[0m\u001b[1;33m)\u001b[0m\u001b[1;33m:\u001b[0m\u001b[1;33m\u001b[0m\u001b[1;33m\u001b[0m\u001b[0m\n\u001b[1;32m--> 187\u001b[1;33m         \u001b[0mcall\u001b[0m \u001b[1;33m=\u001b[0m \u001b[1;32mlambda\u001b[0m \u001b[0mf\u001b[0m\u001b[1;33m,\u001b[0m \u001b[1;33m*\u001b[0m\u001b[0ma\u001b[0m\u001b[1;33m,\u001b[0m \u001b[1;33m**\u001b[0m\u001b[0mk\u001b[0m\u001b[1;33m:\u001b[0m \u001b[0mf\u001b[0m\u001b[1;33m(\u001b[0m\u001b[1;33m*\u001b[0m\u001b[0ma\u001b[0m\u001b[1;33m,\u001b[0m \u001b[1;33m**\u001b[0m\u001b[0mk\u001b[0m\u001b[1;33m)\u001b[0m\u001b[1;33m\u001b[0m\u001b[1;33m\u001b[0m\u001b[0m\n\u001b[0m\u001b[0;32m    188\u001b[0m \u001b[1;33m\u001b[0m\u001b[0m\n\u001b[0;32m    189\u001b[0m         \u001b[1;32mif\u001b[0m \u001b[0mcallable\u001b[0m\u001b[1;33m(\u001b[0m\u001b[0marg\u001b[0m\u001b[1;33m)\u001b[0m\u001b[1;33m:\u001b[0m\u001b[1;33m\u001b[0m\u001b[1;33m\u001b[0m\u001b[0m\n",
      "\u001b[1;32m~\\Anaconda3\\envs\\ds\\lib\\site-packages\\IPython\\core\\magics\\execution.py\u001b[0m in \u001b[0;36mrun\u001b[1;34m(self, parameter_s, runner, file_finder)\u001b[0m\n\u001b[0;32m    722\u001b[0m             \u001b[1;32mwith\u001b[0m \u001b[0mpreserve_keys\u001b[0m\u001b[1;33m(\u001b[0m\u001b[0mself\u001b[0m\u001b[1;33m.\u001b[0m\u001b[0mshell\u001b[0m\u001b[1;33m.\u001b[0m\u001b[0muser_ns\u001b[0m\u001b[1;33m,\u001b[0m \u001b[1;34m'__file__'\u001b[0m\u001b[1;33m)\u001b[0m\u001b[1;33m:\u001b[0m\u001b[1;33m\u001b[0m\u001b[1;33m\u001b[0m\u001b[0m\n\u001b[0;32m    723\u001b[0m                 \u001b[0mself\u001b[0m\u001b[1;33m.\u001b[0m\u001b[0mshell\u001b[0m\u001b[1;33m.\u001b[0m\u001b[0muser_ns\u001b[0m\u001b[1;33m[\u001b[0m\u001b[1;34m'__file__'\u001b[0m\u001b[1;33m]\u001b[0m \u001b[1;33m=\u001b[0m \u001b[0mfilename\u001b[0m\u001b[1;33m\u001b[0m\u001b[1;33m\u001b[0m\u001b[0m\n\u001b[1;32m--> 724\u001b[1;33m                 \u001b[0mself\u001b[0m\u001b[1;33m.\u001b[0m\u001b[0mshell\u001b[0m\u001b[1;33m.\u001b[0m\u001b[0msafe_execfile_ipy\u001b[0m\u001b[1;33m(\u001b[0m\u001b[0mfilename\u001b[0m\u001b[1;33m,\u001b[0m \u001b[0mraise_exceptions\u001b[0m\u001b[1;33m=\u001b[0m\u001b[1;32mTrue\u001b[0m\u001b[1;33m)\u001b[0m\u001b[1;33m\u001b[0m\u001b[1;33m\u001b[0m\u001b[0m\n\u001b[0m\u001b[0;32m    725\u001b[0m             \u001b[1;32mreturn\u001b[0m\u001b[1;33m\u001b[0m\u001b[1;33m\u001b[0m\u001b[0m\n\u001b[0;32m    726\u001b[0m \u001b[1;33m\u001b[0m\u001b[0m\n",
      "\u001b[1;32m~\\Anaconda3\\envs\\ds\\lib\\site-packages\\IPython\\core\\interactiveshell.py\u001b[0m in \u001b[0;36msafe_execfile_ipy\u001b[1;34m(self, fname, shell_futures, raise_exceptions)\u001b[0m\n\u001b[0;32m   2829\u001b[0m                     \u001b[0mresult\u001b[0m \u001b[1;33m=\u001b[0m \u001b[0mself\u001b[0m\u001b[1;33m.\u001b[0m\u001b[0mrun_cell\u001b[0m\u001b[1;33m(\u001b[0m\u001b[0mcell\u001b[0m\u001b[1;33m,\u001b[0m \u001b[0msilent\u001b[0m\u001b[1;33m=\u001b[0m\u001b[1;32mTrue\u001b[0m\u001b[1;33m,\u001b[0m \u001b[0mshell_futures\u001b[0m\u001b[1;33m=\u001b[0m\u001b[0mshell_futures\u001b[0m\u001b[1;33m)\u001b[0m\u001b[1;33m\u001b[0m\u001b[1;33m\u001b[0m\u001b[0m\n\u001b[0;32m   2830\u001b[0m                     \u001b[1;32mif\u001b[0m \u001b[0mraise_exceptions\u001b[0m\u001b[1;33m:\u001b[0m\u001b[1;33m\u001b[0m\u001b[1;33m\u001b[0m\u001b[0m\n\u001b[1;32m-> 2831\u001b[1;33m                         \u001b[0mresult\u001b[0m\u001b[1;33m.\u001b[0m\u001b[0mraise_error\u001b[0m\u001b[1;33m(\u001b[0m\u001b[1;33m)\u001b[0m\u001b[1;33m\u001b[0m\u001b[1;33m\u001b[0m\u001b[0m\n\u001b[0m\u001b[0;32m   2832\u001b[0m                     \u001b[1;32melif\u001b[0m \u001b[1;32mnot\u001b[0m \u001b[0mresult\u001b[0m\u001b[1;33m.\u001b[0m\u001b[0msuccess\u001b[0m\u001b[1;33m:\u001b[0m\u001b[1;33m\u001b[0m\u001b[1;33m\u001b[0m\u001b[0m\n\u001b[0;32m   2833\u001b[0m                         \u001b[1;32mbreak\u001b[0m\u001b[1;33m\u001b[0m\u001b[1;33m\u001b[0m\u001b[0m\n",
      "\u001b[1;32m~\\Anaconda3\\envs\\ds\\lib\\site-packages\\IPython\\core\\interactiveshell.py\u001b[0m in \u001b[0;36mraise_error\u001b[1;34m(self)\u001b[0m\n\u001b[0;32m    329\u001b[0m             \u001b[1;32mraise\u001b[0m \u001b[0mself\u001b[0m\u001b[1;33m.\u001b[0m\u001b[0merror_before_exec\u001b[0m\u001b[1;33m\u001b[0m\u001b[1;33m\u001b[0m\u001b[0m\n\u001b[0;32m    330\u001b[0m         \u001b[1;32mif\u001b[0m \u001b[0mself\u001b[0m\u001b[1;33m.\u001b[0m\u001b[0merror_in_exec\u001b[0m \u001b[1;32mis\u001b[0m \u001b[1;32mnot\u001b[0m \u001b[1;32mNone\u001b[0m\u001b[1;33m:\u001b[0m\u001b[1;33m\u001b[0m\u001b[1;33m\u001b[0m\u001b[0m\n\u001b[1;32m--> 331\u001b[1;33m             \u001b[1;32mraise\u001b[0m \u001b[0mself\u001b[0m\u001b[1;33m.\u001b[0m\u001b[0merror_in_exec\u001b[0m\u001b[1;33m\u001b[0m\u001b[1;33m\u001b[0m\u001b[0m\n\u001b[0m\u001b[0;32m    332\u001b[0m \u001b[1;33m\u001b[0m\u001b[0m\n\u001b[0;32m    333\u001b[0m     \u001b[1;32mdef\u001b[0m \u001b[0m__repr__\u001b[0m\u001b[1;33m(\u001b[0m\u001b[0mself\u001b[0m\u001b[1;33m)\u001b[0m\u001b[1;33m:\u001b[0m\u001b[1;33m\u001b[0m\u001b[1;33m\u001b[0m\u001b[0m\n",
      "    \u001b[1;31m[... skipping hidden 1 frame]\u001b[0m\n",
      "\u001b[1;32m<ipython-input-66-300fc669e9eb>\u001b[0m in \u001b[0;36m<module>\u001b[1;34m\u001b[0m\n\u001b[0;32m      8\u001b[0m \u001b[0msns\u001b[0m\u001b[1;33m.\u001b[0m\u001b[0mset\u001b[0m\u001b[1;33m(\u001b[0m\u001b[0mstyle\u001b[0m\u001b[1;33m=\u001b[0m\u001b[1;34m'white'\u001b[0m\u001b[1;33m,\u001b[0m \u001b[0mcontext\u001b[0m\u001b[1;33m=\u001b[0m\u001b[1;34m'talk'\u001b[0m\u001b[1;33m)\u001b[0m\u001b[1;33m\u001b[0m\u001b[1;33m\u001b[0m\u001b[0m\n\u001b[0;32m      9\u001b[0m g = sns.relplot(kind='line', data=df, row='group', col='stim_condition',\n\u001b[1;32m---> 10\u001b[1;33m                 \u001b[0mx\u001b[0m\u001b[1;33m=\u001b[0m\u001b[1;34m'session_nr'\u001b[0m\u001b[1;33m,\u001b[0m \u001b[0my\u001b[0m\u001b[1;33m=\u001b[0m\u001b[0mvar\u001b[0m\u001b[1;33m,\u001b[0m \u001b[0mhue\u001b[0m\u001b[1;33m=\u001b[0m\u001b[1;34m'rat'\u001b[0m\u001b[1;33m,\u001b[0m\u001b[1;33m\u001b[0m\u001b[1;33m\u001b[0m\u001b[0m\n\u001b[0m\u001b[0;32m     11\u001b[0m                 height=4, aspect=1.3, linewidth=1)\n\u001b[0;32m     12\u001b[0m \u001b[1;33m\u001b[0m\u001b[0m\n",
      "\u001b[1;31mNameError\u001b[0m: name 'var' is not defined"
     ]
    }
   ],
   "source": [
    "import pandas as pd\n",
    "import numpy as np\n",
    "import seaborn as sns\n",
    "import matplotlib.pyplot as plt\n",
    "import matplotlib.lines as mlines\n",
    "\n",
    "from scipy.stats import wilcoxon\n",
    "from scipy.stats import mannwhitneyu\n",
    "%matplotlib inline\n",
    "%run \"C:\\Users\\anasofiaccruz\\Desktop\\cingulate_silencing_repo\\data_prep_functions.ipynb\"\n",
    "%run \"C:\\Users\\anasofiaccruz\\Desktop\\cingulate_silencing_repo\\data_analysis_functions.ipynb\""
   ]
  },
  {
   "cell_type": "markdown",
   "id": "trying-powell",
   "metadata": {},
   "source": [
    "#### <font color='darkorange'> Read the data (test runs below 15 seconds)"
   ]
  },
  {
   "cell_type": "code",
   "execution_count": null,
   "id": "bulgarian-terrace",
   "metadata": {
    "slideshow": {
     "slide_type": "skip"
    }
   },
   "outputs": [],
   "source": [
    "file_path = \"C:/Users/anasofiaccruz/Desktop/Optogenetics processed data/below15_runs.csv\"\n",
    "below15 = pd.read_csv(file_path)"
   ]
  },
  {
   "cell_type": "code",
   "execution_count": null,
   "id": "architectural-metropolitan",
   "metadata": {
    "scrolled": true
   },
   "outputs": [],
   "source": [
    "below15.head(3)"
   ]
  },
  {
   "cell_type": "markdown",
   "id": "backed-string",
   "metadata": {},
   "source": [
    "#### <font color='darkorange'> Remove baseline trials"
   ]
  },
  {
   "cell_type": "code",
   "execution_count": null,
   "id": "imperial-airfare",
   "metadata": {},
   "outputs": [],
   "source": [
    "below15 = below15[(below15['stim_condition']!=-1)]\n",
    "below15['stim_condition'].unique()"
   ]
  },
  {
   "cell_type": "code",
   "execution_count": null,
   "id": "adjacent-tomato",
   "metadata": {},
   "outputs": [],
   "source": [
    "counts=below15.groupby(['group','stim_condition']).count()['session']\n",
    "counts"
   ]
  },
  {
   "cell_type": "markdown",
   "id": "progressive-concern",
   "metadata": {},
   "source": [
    "#### <font color='darkorange'> Add session number"
   ]
  },
  {
   "cell_type": "code",
   "execution_count": null,
   "id": "infrared-individual",
   "metadata": {},
   "outputs": [],
   "source": [
    "# Add session numbers to each session timestamp\n",
    "below15= below15.groupby(['group', 'rat']).apply(add_session_nr).reset_index(drop=True)"
   ]
  },
  {
   "cell_type": "markdown",
   "id": "based-reaction",
   "metadata": {},
   "source": [
    "#### <font color='darkorange'> BoxPlot the latency to choice point across sessions"
   ]
  },
  {
   "cell_type": "code",
   "execution_count": null,
   "id": "noticed-painting",
   "metadata": {
    "scrolled": false
   },
   "outputs": [],
   "source": [
    "below15 = below15[below15['session_nr']<16]\n",
    "g = sns.catplot(kind='box', data=below15, col='group', row='stim_condition', x='session_nr',\n",
    "                y='latency_to_cp_entry', hue='stim_condition', palette=['black', 'royalblue', 'orangered'],\n",
    "                height=8, aspect=1.3, saturation=.7)"
   ]
  },
  {
   "cell_type": "markdown",
   "id": "moral-crash",
   "metadata": {},
   "source": [
    "#### <font color='darkorange'> Calculate the IQR values"
   ]
  },
  {
   "cell_type": "code",
   "execution_count": null,
   "id": "pointed-shell",
   "metadata": {},
   "outputs": [],
   "source": [
    "iqr = below15.groupby(['group', 'stim_condition', 'session_nr', 'outcome']).apply(calculate_iqr,\n",
    "                                                                                 'latency_to_cp_entry')\n",
    "iqr = iqr[iqr['session_nr']<16]\n",
    "iqr.head(3)"
   ]
  },
  {
   "cell_type": "markdown",
   "id": "center-advocate",
   "metadata": {},
   "source": [
    "#### <font color='darkorange'> Plot IQR and median across sessions"
   ]
  },
  {
   "cell_type": "code",
   "execution_count": null,
   "id": "driving-criminal",
   "metadata": {
    "scrolled": false
   },
   "outputs": [],
   "source": [
    "g = plot_iqr_and_median_across_sessions(iqr)\n",
    "sns.despine()"
   ]
  },
  {
   "cell_type": "markdown",
   "id": "secure-gamma",
   "metadata": {},
   "source": [
    "#### <font color='darkorange'> Median latency across sessions within each group"
   ]
  },
  {
   "cell_type": "code",
   "execution_count": null,
   "id": "cognitive-father",
   "metadata": {
    "scrolled": false
   },
   "outputs": [],
   "source": [
    "plot_individual_metrics_across_sessions(iqr, 'median')"
   ]
  },
  {
   "cell_type": "code",
   "execution_count": null,
   "id": "separated-childhood",
   "metadata": {},
   "outputs": [],
   "source": [
    "plt.figure(dpi=300)\n",
    "sns.set(style='white', context='talk')\n",
    "g = sns.relplot(kind='line', data=medians, hue='group', col='stim_condition',\n",
    "                x='session_nr', y='latency_to_cp_entry', \n",
    "                ci='sd', height=3, aspect=1.3, linewidth=1,palette=['lightseagreen', 'orange'])\n"
   ]
  },
  {
   "cell_type": "markdown",
   "id": "supposed-paradise",
   "metadata": {},
   "source": [
    "#### <font color='darkorange'> Inference testing using a mixed linear model"
   ]
  },
  {
   "cell_type": "code",
   "execution_count": null,
   "id": "dimensional-double",
   "metadata": {},
   "outputs": [],
   "source": [
    "import statsmodels.api as sm\n",
    "import statsmodels.formula.api as smf\n",
    "\n",
    "#NPHR Test\n",
    "df = below15[(below15['stim_condition']==3) & (below15['group']=='NPHR')]\n",
    "md = smf.mixedlm(\"latency_to_cp_entry ~ session_nr\", df, groups=df['rat'])\n",
    "mdf = md.fit()\n",
    "print(mdf.summary())"
   ]
  },
  {
   "cell_type": "code",
   "execution_count": null,
   "id": "undefined-marketplace",
   "metadata": {},
   "outputs": [],
   "source": [
    "#NPHR None\n",
    "df = below15[(below15['stim_condition']==0) & (below15['group']=='NPHR')]\n",
    "md = smf.mixedlm(\"latency_to_cp_entry ~ session_nr\", df, groups=df['rat'])\n",
    "mdf = md.fit()\n",
    "print(mdf.summary())"
   ]
  },
  {
   "cell_type": "code",
   "execution_count": null,
   "id": "protective-settlement",
   "metadata": {
    "scrolled": true
   },
   "outputs": [],
   "source": [
    "#NPHR, Sample\n",
    "df = below15[(below15['stim_condition']==1) & (below15['group']=='NPHR')]\n",
    "md = smf.mixedlm(\"latency_to_cp_entry ~ session_nr\", df, groups=df['rat'])\n",
    "mdf = md.fit()\n",
    "print(mdf.summary())"
   ]
  },
  {
   "cell_type": "code",
   "execution_count": null,
   "id": "mexican-presence",
   "metadata": {},
   "outputs": [],
   "source": [
    "#CTRL None\n",
    "df = below15[(below15['stim_condition']==0) & (below15['group']=='CTRL')]\n",
    "md = smf.mixedlm(\"latency_to_cp_entry ~ session_nr\", df, groups=df['rat'])\n",
    "mdf = md.fit()\n",
    "print(mdf.summary())"
   ]
  },
  {
   "cell_type": "code",
   "execution_count": null,
   "id": "refined-discussion",
   "metadata": {},
   "outputs": [],
   "source": [
    "#CTRL Sample\n",
    "df = below15[(below15['stim_condition']==1) & (below15['group']=='CTRL')]\n",
    "md = smf.mixedlm(\"latency_to_cp_entry ~ session_nr\", df, groups=df['rat'])\n",
    "mdf = md.fit()\n",
    "print(mdf.summary())"
   ]
  },
  {
   "cell_type": "code",
   "execution_count": null,
   "id": "intense-account",
   "metadata": {},
   "outputs": [],
   "source": [
    "#CTRL Test\n",
    "df = below15[(below15['stim_condition']==3) & (below15['group']=='CTRL')]\n",
    "md = smf.mixedlm(\"latency_to_cp_entry ~ session_nr\", df, groups=df['rat'])\n",
    "mdf = md.fit()\n",
    "print(mdf.summary())"
   ]
  },
  {
   "cell_type": "markdown",
   "id": "false-drain",
   "metadata": {},
   "source": [
    "#### <font color='darkorange'> Calculate the IQR values"
   ]
  },
  {
   "cell_type": "code",
   "execution_count": null,
   "id": "pointed-shell",
   "metadata": {},
   "outputs": [],
   "source": [
    "iqr = below15.groupby(['group', 'stim_condition', 'session_nr', 'outcome']).apply(calculate_iqr,\n",
    "                                                                                 'latency_to_cp_entry')\n",
    "iqr = iqr[iqr['session_nr']<16]\n",
    "iqr.head(3)"
   ]
  },
  {
   "cell_type": "code",
   "execution_count": null,
   "id": "driving-criminal",
   "metadata": {
    "scrolled": false
   },
   "outputs": [],
   "source": [
    "g=sns.relplot(kind='line', data=iqr, x='session_nr', y='iqr_25', hue='stim_condition',\n",
    "              palette=['black', 'royalblue', 'orangered'], ci='sd',\n",
    "              row='group', col='stim_condition', legend=False)\n",
    "\n",
    "for group, ax in g.axes_dict.items():\n",
    "        colors={0:'black', 1:'royalblue', 3:'orangered'}\n",
    "        color=colors[group[1]]\n",
    "        \n",
    "        group_data = iqr[(iqr['group']==group[0]) & (iqr['stim_condition']==group[1])]                 \n",
    "        sns.lineplot(ax=ax, data=group_data, x='session_nr', y='median', linestyle=':',\n",
    "                    color=color, legend=False, ci='sd')\n",
    "        \n",
    "        sns.lineplot(ax=ax, data=group_data, x='session_nr', y='iqr_75', color=color, \n",
    "                     legend=False, ci='sd')\n",
    "plt.ylim([1,5.5])\n",
    "sns.despine()"
   ]
  },
  {
   "cell_type": "code",
   "execution_count": null,
   "id": "persistent-warren",
   "metadata": {},
   "outputs": [],
   "source": [
    "g=sns.relplot(kind='line', data=iqr, x='session_nr', y='iqr_25', hue='group',\n",
    "              palette=['orange','lightseagreen'],\n",
    "              col='stim_condition', legend=False, alpha=.3, ci=None)\n",
    "\n",
    "for group, ax in g.axes_dict.items():\n",
    "      \n",
    "        group_data = iqr[(iqr['stim_condition']==group)]                 \n",
    "        sns.lineplot(ax=ax, data=group_data, x='session_nr', y='median', hue='group',linestyle=':',\n",
    "                    palette=['orange', 'lightseagreen'], legend=False, ci=None)       \n",
    "        sns.lineplot(ax=ax, data=group_data, x='session_nr', y='iqr_75', hue='group',\n",
    "                     palette=['orange', 'lightseagreen'], legend=False, alpha=.3, ci=None)\n",
    "plt.ylim([1,5.5])"
   ]
  },
  {
   "cell_type": "markdown",
   "id": "statewide-clause",
   "metadata": {},
   "source": [
    "### Median latency difference across sessions in each group"
   ]
  },
  {
   "cell_type": "code",
   "execution_count": null,
   "id": "thrown-price",
   "metadata": {},
   "outputs": [],
   "source": [
    "medians_illumination = medians[medians['stim_condition']==3].reset_index(drop=True).sort_index()\n",
    "medians_no_illumination = medians[medians['stim_condition']==0].reset_index(drop=True).sort_index()\n",
    "medians_illumination['median_diff'] = medians_no_illumination['latency_to_cp_entry'] - medians_illumination['latency_to_cp_entry']\n",
    "medians_diff = medians_illumination.drop(['latency_to_cp_entry'], axis=1)\n",
    "medians_diff.head()"
   ]
  },
  {
   "cell_type": "code",
   "execution_count": null,
   "id": "successful-envelope",
   "metadata": {
    "scrolled": true
   },
   "outputs": [],
   "source": [
    "plt.figure(dpi=300)\n",
    "sns.set(style=\"white\", context='talk')\n",
    "\n",
    "g = sns.relplot(kind='line', data=medians_diff, col='group', row='stim_condition',\n",
    "                x='session_nr', y='median_diff', hue='rat', legend=False,\n",
    "                height=4, aspect=1.3, linewidth=1, palette=['lightgray']*17)\n",
    "\n",
    "for group, ax in g.axes_dict.items():\n",
    " \n",
    "    data = medians_diff[medians_diff['group']==group[1]]\n",
    "    sns.lineplot(data=data, x='session_nr', y='median_diff',\n",
    "                 ci='sd', color='black', linewidth=3, ax=ax, err_style='bars',\n",
    "                 legend=False)\n",
    "\n",
    "g.set(ylabel= 'Average median latency (s)', xlabel='Session', xlim=[0,16], ylim=[-8.5,5],\n",
    "      xticks=range(1,16,2), xticklabels=range(1,16,2))\n",
    "  \n",
    "ax=g.axes.flatten()\n",
    "ax[0].axhline(linewidth=1, color='black', linestyle='dashed')\n",
    "ax[1].axhline(linewidth=1, color='black', linestyle='dashed')\n",
    "ax[0].set(title='NpHR-')\n",
    "ax[1].set(title='NpHR+')\n",
    "sns.despine()"
   ]
  },
  {
   "cell_type": "markdown",
   "id": "prescribed-rescue",
   "metadata": {},
   "source": [
    "### Comparing first and last n session distributions in each condition - illumination"
   ]
  },
  {
   "cell_type": "code",
   "execution_count": null,
   "id": "directed-mobile",
   "metadata": {},
   "outputs": [],
   "source": [
    "def get_first_and_last_n_sessions(df, n):\n",
    "   \n",
    "    df.loc[:, 'first_last']=np.nan\n",
    "    df.loc[df['session_nr'].between(1,n), 'first_last']=0\n",
    "    df.loc[df['session_nr'].between(16-n, 15), 'first_last']=1\n",
    "   \n",
    "    return df"
   ]
  },
  {
   "cell_type": "code",
   "execution_count": null,
   "id": "parental-charity",
   "metadata": {},
   "outputs": [],
   "source": [
    "below15 = get_first_and_last_n_sessions(below15, 5)"
   ]
  },
  {
   "cell_type": "code",
   "execution_count": null,
   "id": "prospective-nursery",
   "metadata": {
    "scrolled": true
   },
   "outputs": [],
   "source": [
    "illumination = below15[below15['stim_condition']==3]\n",
    "no_illumination = below15[below15['stim_condition']==0]\n",
    "#ctrl_illumination = illumination[illumination['group']=='CTRL']\n",
    "#nphr_illumination = illumination[illumination['group']=='NPHR']\n",
    "#ctrl_no_illumination =no_illumination[no_illumination['group']=='CTRL']\n",
    "#nphr_no_illumination =no_illumination[no_illumination['group']=='NPHR']"
   ]
  },
  {
   "cell_type": "code",
   "execution_count": null,
   "id": "identified-determination",
   "metadata": {
    "scrolled": false
   },
   "outputs": [],
   "source": [
    "sns.set(style='white', context='talk')\n",
    "plt.figure(dpi=300)\n",
    "\n",
    "g = sns.displot(kind='hist', data=below15, \n",
    "                col='stim_condition', row='group',\n",
    "                x='latency_to_cp_entry', stat='probability', \n",
    "                hue=below15['first_last'].map({0:'first 5 sessions ', 1:'last 5 sessions '}), \n",
    "                element='step', palette=['dimgray','lightgrey'], \n",
    "                bins=60, alpha=0, height=4, aspect=1.2, linewidth=2)\n",
    "\n",
    "axes = g.axes.flatten()\n",
    "g._legend.set(bbox_to_anchor=(.9,.75), title='')\n",
    "sns.despine()"
   ]
  },
  {
   "cell_type": "code",
   "execution_count": null,
   "id": "electric-static",
   "metadata": {},
   "outputs": [],
   "source": [
    "sns.set(style='white', context='talk')\n",
    "plt.figure(dpi=300)\n",
    "g = sns.displot(kind='ecdf', data=below15, col='stim_condition' , row='group',\n",
    "                x='latency_to_cp_entry', stat='proportion', hue='first_last', \n",
    "                palette=['dimgray','lightgray'])\n",
    "\n",
    "axes = g.axes.flatten()\n",
    "#axes[0].set(title=\"NpHR-\", xlabel='Latency (s)', xticks=range(0,20,5), xticklabels=range(0,20,5))\n",
    "#axes[1].set(title=\"NpHR+\", xlabel='Latency (s)', xticks=range(0,20,5), xticklabels=range(0,20,5))\n",
    "sns.despine()"
   ]
  },
  {
   "cell_type": "code",
   "execution_count": null,
   "id": "annoying-constraint",
   "metadata": {},
   "outputs": [],
   "source": [
    "def calculate_percentiles_qqplots(group, var):\n",
    "    \n",
    "    group['percentiles']  = np.percentile(group[var], range(0,101,1))\n",
    "       \n",
    "    return group\n",
    "\n",
    "percentiles = below15.groupby(['group','stim_condition','first_last']).apply(\n",
    "    calculate_percentiles_qqplots,'latency_to_cp_entry')"
   ]
  },
  {
   "cell_type": "code",
   "execution_count": null,
   "id": "confirmed-shoulder",
   "metadata": {},
   "outputs": [],
   "source": [
    "sns.set(style='white', context='talk')\n",
    "plt.figure(dpi=300)\n",
    "g = sns.scatterplot(x=ctrl_first_illum_percentiles, y=ctrl_last_illum_percentiles, s=25, alpha=.4, color='lightseagreen')\n",
    "sns.scatterplot(x=nphr_first_illum_percentiles, y=nphr_last_illum_percentiles, s=25, alpha=.4, color='orange')\n",
    "\n",
    "g.set(title='NpHR+ vs. NpHR- qqplot', xlabel='First sessions quantiles', ylabel='Last sessions quantiles', xlim=[0,15],\n",
    "      xticks=range(0,16,3), xticklabels=range(0,16,3), yticks=range(0,16,3), yticklabels=range(0,16,3))\n",
    "plt.plot(range(1,15,1), range(1,15,1), linestyle='dotted', c='black')\n",
    "\n",
    "sns.despine()"
   ]
  },
  {
   "cell_type": "code",
   "execution_count": null,
   "id": "bizarre-chart",
   "metadata": {},
   "outputs": [],
   "source": []
  }
 ],
 "metadata": {
  "kernelspec": {
   "display_name": "Python 3",
   "language": "python",
   "name": "python3"
  },
  "language_info": {
   "codemirror_mode": {
    "name": "ipython",
    "version": 3
   },
   "file_extension": ".py",
   "mimetype": "text/x-python",
   "name": "python",
   "nbconvert_exporter": "python",
   "pygments_lexer": "ipython3",
   "version": "3.8.8"
  }
 },
 "nbformat": 4,
 "nbformat_minor": 5
}
