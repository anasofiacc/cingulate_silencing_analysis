{
 "cells": [
  {
   "cell_type": "code",
   "execution_count": 4,
   "metadata": {},
   "outputs": [],
   "source": [
    "import pandas as pd\n",
    "import numpy as np\n",
    "import seaborn as sns\n",
    "import matplotlib.pyplot as plt\n",
    "\n",
    "%matplotlib inline\n",
    "%run trial_history_calculations_functions.ipynb"
   ]
  },
  {
   "cell_type": "code",
   "execution_count": 13,
   "metadata": {
    "slideshow": {
     "slide_type": "skip"
    }
   },
   "outputs": [],
   "source": [
    "runs=pd.read_csv('C:/Users/anasofiaccruz/Desktop/Optogenetics processed data/no_outliers_1.5iqr_no_baseline.csv')"
   ]
  },
  {
   "cell_type": "code",
   "execution_count": 15,
   "metadata": {},
   "outputs": [
    {
     "data": {
      "text/plain": [
       "1185"
      ]
     },
     "execution_count": 15,
     "metadata": {},
     "output_type": "execute_result"
    }
   ],
   "source": [
    "create_var_shifted_column(pre, 'outcome',1)"
   ]
  },
  {
   "cell_type": "markdown",
   "metadata": {},
   "source": [
    "#### <font color='darkorange'> Calculates the error probabilities for given previous trial variable "
   ]
  },
  {
   "cell_type": "code",
   "execution_count": 6,
   "metadata": {},
   "outputs": [],
   "source": [
    "# Created the columns with the shifted 'outcome'\n",
    "p_shift, count = compute_error_probabilities_and_count_trials(runs,'outcome_shifted')"
   ]
  },
  {
   "cell_type": "code",
   "execution_count": 7,
   "metadata": {},
   "outputs": [
    {
     "data": {
      "text/html": [
       "<div>\n",
       "<style scoped>\n",
       "    .dataframe tbody tr th:only-of-type {\n",
       "        vertical-align: middle;\n",
       "    }\n",
       "\n",
       "    .dataframe tbody tr th {\n",
       "        vertical-align: top;\n",
       "    }\n",
       "\n",
       "    .dataframe thead th {\n",
       "        text-align: right;\n",
       "    }\n",
       "</style>\n",
       "<table border=\"1\" class=\"dataframe\">\n",
       "  <thead>\n",
       "    <tr style=\"text-align: right;\">\n",
       "      <th></th>\n",
       "      <th>group</th>\n",
       "      <th>rat</th>\n",
       "      <th>stim_condition</th>\n",
       "      <th>outcome_shifted</th>\n",
       "      <th>count</th>\n",
       "    </tr>\n",
       "  </thead>\n",
       "  <tbody>\n",
       "    <tr>\n",
       "      <th>0</th>\n",
       "      <td>CTRL</td>\n",
       "      <td>CTRL2</td>\n",
       "      <td>0</td>\n",
       "      <td>0.0</td>\n",
       "      <td>24</td>\n",
       "    </tr>\n",
       "    <tr>\n",
       "      <th>1</th>\n",
       "      <td>CTRL</td>\n",
       "      <td>CTRL2</td>\n",
       "      <td>0</td>\n",
       "      <td>1.0</td>\n",
       "      <td>89</td>\n",
       "    </tr>\n",
       "    <tr>\n",
       "      <th>2</th>\n",
       "      <td>CTRL</td>\n",
       "      <td>CTRL2</td>\n",
       "      <td>3</td>\n",
       "      <td>0.0</td>\n",
       "      <td>23</td>\n",
       "    </tr>\n",
       "    <tr>\n",
       "      <th>3</th>\n",
       "      <td>CTRL</td>\n",
       "      <td>CTRL2</td>\n",
       "      <td>3</td>\n",
       "      <td>1.0</td>\n",
       "      <td>92</td>\n",
       "    </tr>\n",
       "    <tr>\n",
       "      <th>4</th>\n",
       "      <td>CTRL</td>\n",
       "      <td>CTRL3</td>\n",
       "      <td>0</td>\n",
       "      <td>0.0</td>\n",
       "      <td>37</td>\n",
       "    </tr>\n",
       "    <tr>\n",
       "      <th>...</th>\n",
       "      <td>...</td>\n",
       "      <td>...</td>\n",
       "      <td>...</td>\n",
       "      <td>...</td>\n",
       "      <td>...</td>\n",
       "    </tr>\n",
       "    <tr>\n",
       "      <th>95</th>\n",
       "      <td>NPHR</td>\n",
       "      <td>NPHR9</td>\n",
       "      <td>0</td>\n",
       "      <td>1.0</td>\n",
       "      <td>104</td>\n",
       "    </tr>\n",
       "    <tr>\n",
       "      <th>96</th>\n",
       "      <td>NPHR</td>\n",
       "      <td>NPHR9</td>\n",
       "      <td>1</td>\n",
       "      <td>0.0</td>\n",
       "      <td>38</td>\n",
       "    </tr>\n",
       "    <tr>\n",
       "      <th>97</th>\n",
       "      <td>NPHR</td>\n",
       "      <td>NPHR9</td>\n",
       "      <td>1</td>\n",
       "      <td>1.0</td>\n",
       "      <td>94</td>\n",
       "    </tr>\n",
       "    <tr>\n",
       "      <th>98</th>\n",
       "      <td>NPHR</td>\n",
       "      <td>NPHR9</td>\n",
       "      <td>3</td>\n",
       "      <td>0.0</td>\n",
       "      <td>28</td>\n",
       "    </tr>\n",
       "    <tr>\n",
       "      <th>99</th>\n",
       "      <td>NPHR</td>\n",
       "      <td>NPHR9</td>\n",
       "      <td>3</td>\n",
       "      <td>1.0</td>\n",
       "      <td>99</td>\n",
       "    </tr>\n",
       "  </tbody>\n",
       "</table>\n",
       "<p>100 rows × 5 columns</p>\n",
       "</div>"
      ],
      "text/plain": [
       "   group    rat  stim_condition  outcome_shifted  count\n",
       "0   CTRL  CTRL2               0              0.0     24\n",
       "1   CTRL  CTRL2               0              1.0     89\n",
       "2   CTRL  CTRL2               3              0.0     23\n",
       "3   CTRL  CTRL2               3              1.0     92\n",
       "4   CTRL  CTRL3               0              0.0     37\n",
       "..   ...    ...             ...              ...    ...\n",
       "95  NPHR  NPHR9               0              1.0    104\n",
       "96  NPHR  NPHR9               1              0.0     38\n",
       "97  NPHR  NPHR9               1              1.0     94\n",
       "98  NPHR  NPHR9               3              0.0     28\n",
       "99  NPHR  NPHR9               3              1.0     99\n",
       "\n",
       "[100 rows x 5 columns]"
      ]
     },
     "execution_count": 7,
     "metadata": {},
     "output_type": "execute_result"
    }
   ],
   "source": [
    "count"
   ]
  },
  {
   "cell_type": "markdown",
   "metadata": {},
   "source": [
    "###### <font color='lightgray'> I also ran this analysis using a second shift. However, the counts for these situations were too low,ranging between 2 to 30 counts per animal. As such, I decided not to include a second shift."
   ]
  },
  {
   "cell_type": "markdown",
   "metadata": {},
   "source": [
    "#### <font color='darkorange'> Plot probability of error given previous condition"
   ]
  },
  {
   "cell_type": "code",
   "execution_count": 16,
   "metadata": {},
   "outputs": [
    {
     "data": {
      "text/plain": [
       "Text(0.5, 1.0, 'NpHR+')"
      ]
     },
     "execution_count": 16,
     "metadata": {},
     "output_type": "execute_result"
    },
    {
     "data": {
      "text/plain": [
       "<Figure size 1800x1200 with 0 Axes>"
      ]
     },
     "metadata": {},
     "output_type": "display_data"
    },
    {
     "data": {
      "image/png": "[encoded data removed]",
      "text/plain": [
       "<Figure size 720x360 with 2 Axes>"
      ]
     },
     "metadata": {},
     "output_type": "display_data"
    }
   ],
   "source": [
    "sns.set(style='white', context='talk')\n",
    "plt.figure(dpi=300)\n",
    "#p_shift['shifted1']=p_shift['shifted1'].astype(str)\n",
    "g = sns.catplot(\n",
    "    kind='point',\n",
    "    data=p_shift,\n",
    "    col='group', y='prob', \n",
    "    x='stim_condition', \n",
    "    hue='outcome_shifted',\n",
    "    dodge=True, ci='sd',\n",
    "    errwidth=1.6, palette=['black', 'gray'],\n",
    "    linestyles=['dashed', 'solid'],\n",
    "    scale=.6, legend=False\n",
    ")\n",
    "g.set(xlabel='Condition in trial i', xticklabels=['None', 'Sample', 'Test'],\n",
    "      ylabel='Avg. probability of error (+/- s.d.)')\n",
    "\n",
    "plt.legend(title='Outcome in trial i-1', loc='upper left', labels=['Error', 'Correct'],\n",
    "          bbox_to_anchor=[1.2,.8], frameon=False)\n",
    "ax =  g.axes.flatten()\n",
    "ax[0].set_title('NpHR-')\n",
    "ax[1].set_title('NpHR+')"
   ]
  },
  {
   "cell_type": "code",
   "execution_count": 33,
   "metadata": {},
   "outputs": [
    {
     "ename": "NameError",
     "evalue": "name 'normality_testing_shapiro' is not defined",
     "output_type": "error",
     "traceback": [
      "\u001b[1;31m---------------------------------------------------------------------------\u001b[0m",
      "\u001b[1;31mNameError\u001b[0m                                 Traceback (most recent call last)",
      "\u001b[1;32m<ipython-input-33-e4c35a6c8755>\u001b[0m in \u001b[0;36m<module>\u001b[1;34m\u001b[0m\n\u001b[1;32m----> 1\u001b[1;33m \u001b[0mnormality_testing_shapiro\u001b[0m\u001b[1;33m(\u001b[0m\u001b[0mp_shift\u001b[0m\u001b[1;33m,\u001b[0m \u001b[1;33m[\u001b[0m\u001b[1;34m'group'\u001b[0m\u001b[1;33m,\u001b[0m\u001b[1;34m'stim_condition'\u001b[0m\u001b[1;33m,\u001b[0m\u001b[1;34m'shifted1'\u001b[0m\u001b[1;33m]\u001b[0m\u001b[1;33m,\u001b[0m \u001b[1;34m'prob'\u001b[0m\u001b[1;33m)\u001b[0m\u001b[1;33m\u001b[0m\u001b[1;33m\u001b[0m\u001b[0m\n\u001b[0m",
      "\u001b[1;31mNameError\u001b[0m: name 'normality_testing_shapiro' is not defined"
     ]
    }
   ],
   "source": [
    "normality_testing_shapiro(p_shift, ['group','stim_condition','shifted1'], 'prob')"
   ]
  },
  {
   "cell_type": "code",
   "execution_count": 34,
   "metadata": {},
   "outputs": [
    {
     "name": "stdout",
     "output_type": "stream",
     "text": [
      "p-value following Bonferroni correction:0.016666666666666666\n",
      "  group  stim_condition\n",
      "0  CTRL               0\n",
      "0.0 0.0\n",
      "  group  stim_condition\n",
      "6  CTRL               1\n",
      "0.0 0.0\n",
      "  group  stim_condition\n",
      "2  CTRL               3\n",
      "0.0 0.0\n",
      "   group  stim_condition\n",
      "40  NPHR               0\n",
      "0.0 0.0\n",
      "   group  stim_condition\n",
      "42  NPHR               1\n",
      "0.0 0.0\n",
      "   group  stim_condition\n",
      "44  NPHR               3\n",
      "0.0 0.0\n"
     ]
    },
    {
     "name": "stderr",
     "output_type": "stream",
     "text": [
      "C:\\Users\\anasofiaccruz\\Anaconda3\\envs\\ds\\lib\\site-packages\\scipy\\stats\\stats.py:7171: RuntimeWarning: divide by zero encountered in double_scalars\n",
      "  z = (bigu - meanrank) / sd\n",
      "C:\\Users\\anasofiaccruz\\Anaconda3\\envs\\ds\\lib\\site-packages\\scipy\\stats\\stats.py:7171: RuntimeWarning: divide by zero encountered in double_scalars\n",
      "  z = (bigu - meanrank) / sd\n",
      "C:\\Users\\anasofiaccruz\\Anaconda3\\envs\\ds\\lib\\site-packages\\scipy\\stats\\stats.py:7171: RuntimeWarning: divide by zero encountered in double_scalars\n",
      "  z = (bigu - meanrank) / sd\n",
      "C:\\Users\\anasofiaccruz\\Anaconda3\\envs\\ds\\lib\\site-packages\\scipy\\stats\\stats.py:7171: RuntimeWarning: divide by zero encountered in double_scalars\n",
      "  z = (bigu - meanrank) / sd\n",
      "C:\\Users\\anasofiaccruz\\Anaconda3\\envs\\ds\\lib\\site-packages\\scipy\\stats\\stats.py:7171: RuntimeWarning: divide by zero encountered in double_scalars\n",
      "  z = (bigu - meanrank) / sd\n",
      "C:\\Users\\anasofiaccruz\\Anaconda3\\envs\\ds\\lib\\site-packages\\scipy\\stats\\stats.py:7171: RuntimeWarning: divide by zero encountered in double_scalars\n",
      "  z = (bigu - meanrank) / sd\n"
     ]
    },
    {
     "data": {
      "text/html": [
       "<div>\n",
       "<style scoped>\n",
       "    .dataframe tbody tr th:only-of-type {\n",
       "        vertical-align: middle;\n",
       "    }\n",
       "\n",
       "    .dataframe tbody tr th {\n",
       "        vertical-align: top;\n",
       "    }\n",
       "\n",
       "    .dataframe thead th {\n",
       "        text-align: right;\n",
       "    }\n",
       "</style>\n",
       "<table border=\"1\" class=\"dataframe\">\n",
       "  <thead>\n",
       "    <tr style=\"text-align: right;\">\n",
       "      <th></th>\n",
       "    </tr>\n",
       "  </thead>\n",
       "  <tbody>\n",
       "  </tbody>\n",
       "</table>\n",
       "</div>"
      ],
      "text/plain": [
       "Empty DataFrame\n",
       "Columns: []\n",
       "Index: []"
      ]
     },
     "execution_count": 34,
     "metadata": {},
     "output_type": "execute_result"
    }
   ],
   "source": [
    "'''from scipy.stats import mannwhitneyu\n",
    "\n",
    "def inference_shifted_outcome_effect(group):\n",
    "    \n",
    "    e = group[group['shifted1']==0]\n",
    "    c = group[group['shifted1']==1]\n",
    "    print(group[['group', 'stim_condition']].head(1))\n",
    "    u, p = mannwhitneyu(e['prob'], c['prob'])\n",
    "    print(u,p)\n",
    "\n",
    "#p-value following Bonferroni correction (3 per group): \n",
    "p_corrected = 0.05/3\n",
    "print('p-value following Bonferroni correction:{}'.format(p_corrected))\n",
    "p_shift.groupby(['group','stim_condition']).apply(inference_shifted_outcome_effect)'''"
   ]
  },
  {
   "cell_type": "code",
   "execution_count": null,
   "metadata": {},
   "outputs": [],
   "source": []
  }
 ],
 "metadata": {
  "kernelspec": {
   "display_name": "Python 3",
   "language": "python",
   "name": "python3"
  },
  "language_info": {
   "codemirror_mode": {
    "name": "ipython",
    "version": 3
   },
   "file_extension": ".py",
   "mimetype": "text/x-python",
   "name": "python",
   "nbconvert_exporter": "python",
   "pygments_lexer": "ipython3",
   "version": "3.8.8"
  }
 },
 "nbformat": 4,
 "nbformat_minor": 5
}
