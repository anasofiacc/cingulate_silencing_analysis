{
 "cells": [
  {
   "cell_type": "code",
   "execution_count": 1,
   "id": "positive-coordinate",
   "metadata": {},
   "outputs": [],
   "source": [
    "import pandas as pd\n",
    "import numpy as np\n",
    "import seaborn as sns\n",
    "import matplotlib.pyplot as plt\n",
    "\n",
    "%matplotlib inline\n",
    "%run \"C:\\Users\\anasofiaccruz\\Desktop\\cingulate_silencing_repo\\data_prep_functions.ipynb\"\n",
    "%run \"C:\\Users\\anasofiaccruz\\Desktop\\cingulate_silencing_repo\\data_analysis_functions.ipynb\"\n",
    "%run \"C:\\Users\\anasofiaccruz\\Desktop\\cingulate_silencing_repo\\Inference_testing_functions.ipynb\"\n",
    "%run trial_history_calculations_functions.ipynb"
   ]
  },
  {
   "cell_type": "markdown",
   "id": "verified-cameroon",
   "metadata": {},
   "source": [
    "#### <font color='darkorange'> Read the data (test runs below 15 seconds) and remove baseline trials"
   ]
  },
  {
   "cell_type": "code",
   "execution_count": 2,
   "id": "pleased-consolidation",
   "metadata": {},
   "outputs": [],
   "source": [
    "below15 = read_below15_and_remove_baseline_trials()"
   ]
  },
  {
   "cell_type": "markdown",
   "id": "ignored-geology",
   "metadata": {},
   "source": [
    "#### <font color='darkorange'> Calculates the error probabilities for given previous trial variable "
   ]
  },
  {
   "cell_type": "code",
   "execution_count": 5,
   "id": "isolated-cleaners",
   "metadata": {},
   "outputs": [],
   "source": [
    "\n",
    "below15 = create_var_shifted_column(below15, 'latency_to_cp_entry', 1).rename(columns={\n",
    "    'shifted1':'latency_to_cp_shifted1'})\n",
    "below15 = create_var_shifted_column(below15, 'time_in_cp', 1).rename(columns={\n",
    "    'shifted1':'time_in_cp_shifted1'})"
   ]
  },
  {
   "cell_type": "code",
   "execution_count": 6,
   "id": "after-pixel",
   "metadata": {},
   "outputs": [
    {
     "data": {
      "text/plain": [
       "Index(['session', 'rat', 'run_nr', 'start_timestamp', 'run_type',\n",
       "       'stim_condition', 'outcome', 'group', 'cp_entry_timestamp',\n",
       "       'cp_exit_timestamp', 'latency_to_cp_entry', 'latency_to_cp_exit',\n",
       "       'time_in_cp', 'latency_to_cp_shifted1', 'time_in_cp_shifted1'],\n",
       "      dtype='object')"
      ]
     },
     "execution_count": 6,
     "metadata": {},
     "output_type": "execute_result"
    }
   ],
   "source": [
    "below15.columns"
   ]
  },
  {
   "cell_type": "code",
   "execution_count": 20,
   "id": "illegal-exclusive",
   "metadata": {},
   "outputs": [
    {
     "data": {
      "text/html": [
       "<div>\n",
       "<style scoped>\n",
       "    .dataframe tbody tr th:only-of-type {\n",
       "        vertical-align: middle;\n",
       "    }\n",
       "\n",
       "    .dataframe tbody tr th {\n",
       "        vertical-align: top;\n",
       "    }\n",
       "\n",
       "    .dataframe thead th {\n",
       "        text-align: right;\n",
       "    }\n",
       "</style>\n",
       "<table border=\"1\" class=\"dataframe\">\n",
       "  <thead>\n",
       "    <tr style=\"text-align: right;\">\n",
       "      <th></th>\n",
       "      <th>group</th>\n",
       "      <th>rat</th>\n",
       "      <th>stim_condition</th>\n",
       "      <th>outcome</th>\n",
       "      <th>latency_to_cp_shifted1</th>\n",
       "    </tr>\n",
       "  </thead>\n",
       "  <tbody>\n",
       "    <tr>\n",
       "      <th>0</th>\n",
       "      <td>CTRL</td>\n",
       "      <td>CTRL2</td>\n",
       "      <td>0</td>\n",
       "      <td>0.0</td>\n",
       "      <td>2.544432</td>\n",
       "    </tr>\n",
       "    <tr>\n",
       "      <th>1</th>\n",
       "      <td>CTRL</td>\n",
       "      <td>CTRL2</td>\n",
       "      <td>0</td>\n",
       "      <td>1.0</td>\n",
       "      <td>3.479949</td>\n",
       "    </tr>\n",
       "    <tr>\n",
       "      <th>2</th>\n",
       "      <td>CTRL</td>\n",
       "      <td>CTRL2</td>\n",
       "      <td>3</td>\n",
       "      <td>0.0</td>\n",
       "      <td>2.440027</td>\n",
       "    </tr>\n",
       "    <tr>\n",
       "      <th>3</th>\n",
       "      <td>CTRL</td>\n",
       "      <td>CTRL2</td>\n",
       "      <td>3</td>\n",
       "      <td>1.0</td>\n",
       "      <td>3.032230</td>\n",
       "    </tr>\n",
       "    <tr>\n",
       "      <th>4</th>\n",
       "      <td>CTRL</td>\n",
       "      <td>CTRL3</td>\n",
       "      <td>0</td>\n",
       "      <td>0.0</td>\n",
       "      <td>3.358943</td>\n",
       "    </tr>\n",
       "    <tr>\n",
       "      <th>...</th>\n",
       "      <td>...</td>\n",
       "      <td>...</td>\n",
       "      <td>...</td>\n",
       "      <td>...</td>\n",
       "      <td>...</td>\n",
       "    </tr>\n",
       "    <tr>\n",
       "      <th>95</th>\n",
       "      <td>NPHR</td>\n",
       "      <td>NPHR9</td>\n",
       "      <td>0</td>\n",
       "      <td>1.0</td>\n",
       "      <td>4.021033</td>\n",
       "    </tr>\n",
       "    <tr>\n",
       "      <th>96</th>\n",
       "      <td>NPHR</td>\n",
       "      <td>NPHR9</td>\n",
       "      <td>1</td>\n",
       "      <td>0.0</td>\n",
       "      <td>4.445376</td>\n",
       "    </tr>\n",
       "    <tr>\n",
       "      <th>97</th>\n",
       "      <td>NPHR</td>\n",
       "      <td>NPHR9</td>\n",
       "      <td>1</td>\n",
       "      <td>1.0</td>\n",
       "      <td>4.368333</td>\n",
       "    </tr>\n",
       "    <tr>\n",
       "      <th>98</th>\n",
       "      <td>NPHR</td>\n",
       "      <td>NPHR9</td>\n",
       "      <td>3</td>\n",
       "      <td>0.0</td>\n",
       "      <td>4.500187</td>\n",
       "    </tr>\n",
       "    <tr>\n",
       "      <th>99</th>\n",
       "      <td>NPHR</td>\n",
       "      <td>NPHR9</td>\n",
       "      <td>3</td>\n",
       "      <td>1.0</td>\n",
       "      <td>4.185175</td>\n",
       "    </tr>\n",
       "  </tbody>\n",
       "</table>\n",
       "<p>100 rows × 5 columns</p>\n",
       "</div>"
      ],
      "text/plain": [
       "   group    rat  stim_condition  outcome  latency_to_cp_shifted1\n",
       "0   CTRL  CTRL2               0      0.0                2.544432\n",
       "1   CTRL  CTRL2               0      1.0                3.479949\n",
       "2   CTRL  CTRL2               3      0.0                2.440027\n",
       "3   CTRL  CTRL2               3      1.0                3.032230\n",
       "4   CTRL  CTRL3               0      0.0                3.358943\n",
       "..   ...    ...             ...      ...                     ...\n",
       "95  NPHR  NPHR9               0      1.0                4.021033\n",
       "96  NPHR  NPHR9               1      0.0                4.445376\n",
       "97  NPHR  NPHR9               1      1.0                4.368333\n",
       "98  NPHR  NPHR9               3      0.0                4.500187\n",
       "99  NPHR  NPHR9               3      1.0                4.185175\n",
       "\n",
       "[100 rows x 5 columns]"
      ]
     },
     "execution_count": 20,
     "metadata": {},
     "output_type": "execute_result"
    }
   ],
   "source": [
    "\n",
    "below15= below15.dropna()\n",
    "grouped = below15.groupby(['group',\n",
    "                           'rat', \n",
    "                           'stim_condition',\n",
    "                           'outcome'])['latency_to_cp_shifted1'].apply(np.mean)\n",
    "grouped = grouped.reset_index()\n",
    "grouped"
   ]
  },
  {
   "cell_type": "code",
   "execution_count": 21,
   "id": "utility-patrick",
   "metadata": {},
   "outputs": [
    {
     "data": {
      "text/plain": [
       "<seaborn.axisgrid.FacetGrid at 0x1b7edf9f9d0>"
      ]
     },
     "execution_count": 21,
     "metadata": {},
     "output_type": "execute_result"
    },
    {
     "data": {
      "image/png": "[encoded data removed]",
      "text/plain": [
       "<Figure size 772x360 with 2 Axes>"
      ]
     },
     "metadata": {
      "needs_background": "light"
     },
     "output_type": "display_data"
    }
   ],
   "source": [
    "sns.catplot(col='group', kind='bar', data=grouped, x='stim_condition', y='latency_to_cp_shifted1',\n",
    "           hue='outcome', ci='sd', estimator=np.mean)"
   ]
  },
  {
   "cell_type": "code",
   "execution_count": 22,
   "id": "timely-option",
   "metadata": {},
   "outputs": [
    {
     "data": {
      "text/html": [
       "<div>\n",
       "<style scoped>\n",
       "    .dataframe tbody tr th:only-of-type {\n",
       "        vertical-align: middle;\n",
       "    }\n",
       "\n",
       "    .dataframe tbody tr th {\n",
       "        vertical-align: top;\n",
       "    }\n",
       "\n",
       "    .dataframe thead th {\n",
       "        text-align: right;\n",
       "    }\n",
       "</style>\n",
       "<table border=\"1\" class=\"dataframe\">\n",
       "  <thead>\n",
       "    <tr style=\"text-align: right;\">\n",
       "      <th></th>\n",
       "      <th>group</th>\n",
       "      <th>rat</th>\n",
       "      <th>stim_condition</th>\n",
       "      <th>outcome</th>\n",
       "      <th>time_in_cp_shifted1</th>\n",
       "    </tr>\n",
       "  </thead>\n",
       "  <tbody>\n",
       "    <tr>\n",
       "      <th>0</th>\n",
       "      <td>CTRL</td>\n",
       "      <td>CTRL2</td>\n",
       "      <td>0</td>\n",
       "      <td>0.0</td>\n",
       "      <td>0.737554</td>\n",
       "    </tr>\n",
       "    <tr>\n",
       "      <th>1</th>\n",
       "      <td>CTRL</td>\n",
       "      <td>CTRL2</td>\n",
       "      <td>0</td>\n",
       "      <td>1.0</td>\n",
       "      <td>0.727154</td>\n",
       "    </tr>\n",
       "    <tr>\n",
       "      <th>2</th>\n",
       "      <td>CTRL</td>\n",
       "      <td>CTRL2</td>\n",
       "      <td>3</td>\n",
       "      <td>0.0</td>\n",
       "      <td>0.995238</td>\n",
       "    </tr>\n",
       "    <tr>\n",
       "      <th>3</th>\n",
       "      <td>CTRL</td>\n",
       "      <td>CTRL2</td>\n",
       "      <td>3</td>\n",
       "      <td>1.0</td>\n",
       "      <td>0.879427</td>\n",
       "    </tr>\n",
       "    <tr>\n",
       "      <th>4</th>\n",
       "      <td>CTRL</td>\n",
       "      <td>CTRL3</td>\n",
       "      <td>0</td>\n",
       "      <td>0.0</td>\n",
       "      <td>0.922175</td>\n",
       "    </tr>\n",
       "    <tr>\n",
       "      <th>...</th>\n",
       "      <td>...</td>\n",
       "      <td>...</td>\n",
       "      <td>...</td>\n",
       "      <td>...</td>\n",
       "      <td>...</td>\n",
       "    </tr>\n",
       "    <tr>\n",
       "      <th>95</th>\n",
       "      <td>NPHR</td>\n",
       "      <td>NPHR9</td>\n",
       "      <td>0</td>\n",
       "      <td>1.0</td>\n",
       "      <td>1.144270</td>\n",
       "    </tr>\n",
       "    <tr>\n",
       "      <th>96</th>\n",
       "      <td>NPHR</td>\n",
       "      <td>NPHR9</td>\n",
       "      <td>1</td>\n",
       "      <td>0.0</td>\n",
       "      <td>0.932060</td>\n",
       "    </tr>\n",
       "    <tr>\n",
       "      <th>97</th>\n",
       "      <td>NPHR</td>\n",
       "      <td>NPHR9</td>\n",
       "      <td>1</td>\n",
       "      <td>1.0</td>\n",
       "      <td>1.222419</td>\n",
       "    </tr>\n",
       "    <tr>\n",
       "      <th>98</th>\n",
       "      <td>NPHR</td>\n",
       "      <td>NPHR9</td>\n",
       "      <td>3</td>\n",
       "      <td>0.0</td>\n",
       "      <td>0.976372</td>\n",
       "    </tr>\n",
       "    <tr>\n",
       "      <th>99</th>\n",
       "      <td>NPHR</td>\n",
       "      <td>NPHR9</td>\n",
       "      <td>3</td>\n",
       "      <td>1.0</td>\n",
       "      <td>1.047986</td>\n",
       "    </tr>\n",
       "  </tbody>\n",
       "</table>\n",
       "<p>100 rows × 5 columns</p>\n",
       "</div>"
      ],
      "text/plain": [
       "   group    rat  stim_condition  outcome  time_in_cp_shifted1\n",
       "0   CTRL  CTRL2               0      0.0             0.737554\n",
       "1   CTRL  CTRL2               0      1.0             0.727154\n",
       "2   CTRL  CTRL2               3      0.0             0.995238\n",
       "3   CTRL  CTRL2               3      1.0             0.879427\n",
       "4   CTRL  CTRL3               0      0.0             0.922175\n",
       "..   ...    ...             ...      ...                  ...\n",
       "95  NPHR  NPHR9               0      1.0             1.144270\n",
       "96  NPHR  NPHR9               1      0.0             0.932060\n",
       "97  NPHR  NPHR9               1      1.0             1.222419\n",
       "98  NPHR  NPHR9               3      0.0             0.976372\n",
       "99  NPHR  NPHR9               3      1.0             1.047986\n",
       "\n",
       "[100 rows x 5 columns]"
      ]
     },
     "execution_count": 22,
     "metadata": {},
     "output_type": "execute_result"
    }
   ],
   "source": [
    "\n",
    "below15= below15.dropna()\n",
    "grouped = below15.groupby(['group',\n",
    "                           'rat', \n",
    "                           'stim_condition',\n",
    "                           'outcome'])['time_in_cp_shifted1'].apply(np.mean)\n",
    "grouped = grouped.reset_index()\n",
    "grouped"
   ]
  },
  {
   "cell_type": "code",
   "execution_count": 26,
   "id": "rental-amber",
   "metadata": {},
   "outputs": [
    {
     "data": {
      "text/plain": [
       "<AxesSubplot:xlabel='stim_condition', ylabel='time_in_cp_shifted1'>"
      ]
     },
     "execution_count": 26,
     "metadata": {},
     "output_type": "execute_result"
    },
    {
     "data": {
      "image/png": "[encoded data removed]",
      "text/plain": [
       "<Figure size 432x288 with 1 Axes>"
      ]
     },
     "metadata": {
      "needs_background": "light"
     },
     "output_type": "display_data"
    }
   ],
   "source": [
    "sns.pointplot(col='group', kind='bar', data=grouped, x='stim_condition', y='time_in_cp_shifted1',\n",
    "           hue='outcome', ci='sd', estimator=np.mean, dodge=True)"
   ]
  },
  {
   "cell_type": "code",
   "execution_count": null,
   "id": "former-residence",
   "metadata": {},
   "outputs": [],
   "source": []
  }
 ],
 "metadata": {
  "kernelspec": {
   "display_name": "Python 3",
   "language": "python",
   "name": "python3"
  },
  "language_info": {
   "codemirror_mode": {
    "name": "ipython",
    "version": 3
   },
   "file_extension": ".py",
   "mimetype": "text/x-python",
   "name": "python",
   "nbconvert_exporter": "python",
   "pygments_lexer": "ipython3",
   "version": "3.8.8"
  }
 },
 "nbformat": 4,
 "nbformat_minor": 5
}
