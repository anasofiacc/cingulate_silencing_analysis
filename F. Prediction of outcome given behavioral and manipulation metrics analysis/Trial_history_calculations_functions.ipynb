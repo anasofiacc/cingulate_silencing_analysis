{
 "cells": [
  {
   "cell_type": "code",
   "execution_count": 5,
   "metadata": {},
   "outputs": [],
   "source": [
    "def compute_error_probabilities_and_count_trials(df, shifted_col):\n",
    "    \"\"\"\n",
    "    Computes the error probabilities for each subgroup of data\n",
    "    (per group x rat x stim condition x shifted) \n",
    "    \n",
    "    arg1, df, Pandas DataFrame - Contains the data\n",
    "    arg2, shifted_col, str - name of shifted column\n",
    "    \"\"\"\n",
    "    \n",
    "    p = df.groupby(['group','rat','stim_condition',shifted_col]).apply(calculate_error_probability,\n",
    "                                                                      shifted_col).reset_index().rename(\n",
    "        columns={0:'prob'})\n",
    "    c =  df.groupby(['group','rat','stim_condition',shifted_col]).count()['session'].reset_index().rename(\n",
    "        columns={'session': 'count'})\n",
    "    \n",
    "    return p,c\n",
    "        \n",
    "def calculate_error_probability(group, shifted_col):\n",
    "    \"\"\"\n",
    "    Calculates the error probabilities for each group\n",
    "    arg1, group, Groupby object\n",
    "    arg2, shifted_col, str - name of shifted column\n",
    "    \"\"\"\n",
    "    denom = len(group[['rat', 'stim_condition', shifted_col]])\n",
    "    num = len(group[group['outcome']==0])\n",
    "    \n",
    "    return num/denom\n",
    "\n",
    "def create_var_shifted_column(df, var, shift):\n",
    "    \"\"\"\n",
    "    Creates a 'shifted' variable column \n",
    "    arg1, df, Pandas DataFrame - Contains the data\n",
    "    arg2, var, str - Column name of the previous trial variable \n",
    "    arg2, shift, int - Magnitude of shift\n",
    "    \"\"\"\n",
    "    for i in np.arange(1,shift+1):\n",
    "        df['shifted{}'.format(i)]=df.groupby(['group','rat','session'])[var].apply(\n",
    "            lambda x: x.shift(i))\n",
    "    return df\n",
    "    "
   ]
  },
  {
   "cell_type": "code",
   "execution_count": null,
   "metadata": {},
   "outputs": [],
   "source": []
  }
 ],
 "metadata": {
  "kernelspec": {
   "display_name": "Python 3",
   "language": "python",
   "name": "python3"
  },
  "language_info": {
   "codemirror_mode": {
    "name": "ipython",
    "version": 3
   },
   "file_extension": ".py",
   "mimetype": "text/x-python",
   "name": "python",
   "nbconvert_exporter": "python",
   "pygments_lexer": "ipython3",
   "version": "3.8.8"
  }
 },
 "nbformat": 4,
 "nbformat_minor": 5
}
