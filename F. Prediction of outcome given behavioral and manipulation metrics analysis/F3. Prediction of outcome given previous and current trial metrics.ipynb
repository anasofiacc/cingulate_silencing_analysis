{
 "cells": [
  {
   "cell_type": "code",
   "execution_count": 340,
   "id": "entire-moral",
   "metadata": {},
   "outputs": [],
   "source": [
    "import pandas as pd\n",
    "import numpy as np\n",
    "import seaborn as sns\n",
    "import sklearn\n",
    "import matplotlib.pyplot as plt\n",
    "\n",
    "%matplotlib inline\n",
    "%run \"C:\\Users\\anasofiaccruz\\Desktop\\cingulate_silencing_repo\\data_prep_functions.ipynb\"\n",
    "%run \"C:\\Users\\anasofiaccruz\\Desktop\\cingulate_silencing_repo\\data_analysis_functions.ipynb\"\n",
    "%run \"C:\\Users\\anasofiaccruz\\Desktop\\cingulate_silencing_repo\\Inference_testing_functions.ipynb\"\n",
    "%run Trial_history_calculations_functions.ipynb"
   ]
  },
  {
   "cell_type": "markdown",
   "id": "trying-powell",
   "metadata": {},
   "source": [
    "#### <font color='darkorange'> Read the data (test runs below 15 seconds) and remove baseline trials"
   ]
  },
  {
   "cell_type": "code",
   "execution_count": 341,
   "id": "bulgarian-terrace",
   "metadata": {
    "slideshow": {
     "slide_type": "skip"
    }
   },
   "outputs": [],
   "source": [
    "below15 = read_below15_and_remove_baseline_trials()"
   ]
  },
  {
   "cell_type": "code",
   "execution_count": 372,
   "id": "pressed-colon",
   "metadata": {
    "scrolled": true
   },
   "outputs": [],
   "source": [
    "def split_into_train_and_test(df):\n",
    "    \n",
    "    '''\n",
    "    Shuffles df rows and splits into a train (80%) and test set (20%)\n",
    "        Arg1, df, Pandas DataFrame \n",
    "    Returns:\n",
    "        test - df, Pandas DataFrame\n",
    "        train - df, Pandas DataFrame\n",
    "    \n",
    "    '''\n",
    "    df = df.sample(frac=1)\n",
    "    train = df.sample(frac=.8, random_state=1)\n",
    "    test = df.drop(train.index, axis=0)\n",
    "    \n",
    "    return test, train\n",
    "\n",
    "def create_dummies(df,cols):\n",
    "    '''\n",
    "    Create dummies for cols in df\n",
    "        Arg1, df, Pandas DataFrame\n",
    "        Arg2, cols, list - List of features to dummify\n",
    "    Return:\n",
    "        df, Pandas DataFrame\n",
    "    '''\n",
    "    \n",
    "    for col in cols:\n",
    "        dummies = pd.get_dummies(df[col], drop_first=True, prefix=col)\n",
    "        df = pd.concat([df, dummies], axis=1)\n",
    "    print('bla')\n",
    "    df = df.drop(cols, axis=1)\n",
    "    \n",
    "    return df"
   ]
  },
  {
   "cell_type": "markdown",
   "id": "dense-spotlight",
   "metadata": {},
   "source": [
    "### Create shifted (previous trial) features"
   ]
  },
  {
   "cell_type": "code",
   "execution_count": 343,
   "id": "split-writing",
   "metadata": {},
   "outputs": [],
   "source": [
    "'''cols_to_shift = ['stim_condition', 'latency_to_cp_entry', 'time_in_cp', 'outcome']\n",
    "\n",
    "for col in cols_to_shift:\n",
    "    below15 = create_var_shifted_column(below15, col, 1).rename(columns={'shifted1':'prev_'+col})'''"
   ]
  },
  {
   "cell_type": "code",
   "execution_count": 344,
   "id": "organic-coating",
   "metadata": {},
   "outputs": [
    {
     "data": {
      "text/plain": [
       "prev_stim_condition         244\n",
       "prev_latency_to_cp_entry    244\n",
       "prev_time_in_cp             244\n",
       "prev_outcome                244\n",
       "dtype: int64"
      ]
     },
     "execution_count": 344,
     "metadata": {},
     "output_type": "execute_result"
    }
   ],
   "source": [
    "# First trials of each session do not have info regarding the previous trial. These will be removed\n",
    "#below15[['prev_stim_condition','prev_latency_to_cp_entry', 'prev_time_in_cp', 'prev_outcome']].isna().sum()"
   ]
  },
  {
   "cell_type": "code",
   "execution_count": 345,
   "id": "neutral-northeast",
   "metadata": {},
   "outputs": [],
   "source": [
    "#below15 = below15.dropna()"
   ]
  },
  {
   "cell_type": "code",
   "execution_count": 373,
   "id": "extended-joseph",
   "metadata": {},
   "outputs": [
    {
     "name": "stdout",
     "output_type": "stream",
     "text": [
      "['CTRL'] ['NPHR']\n"
     ]
    }
   ],
   "source": [
    "subset = below15[['group', 'stim_condition', 'latency_to_cp_entry', 'time_in_cp', 'outcome',\n",
    "                 'prev_stim_condition', 'prev_latency_to_cp_entry', \n",
    "                 'prev_time_in_cp', 'prev_outcome']]\n",
    "subset.head()\n",
    "\n",
    "ctrl = subset[subset['group']=='CTRL']\n",
    "nphr = subset[subset['group']=='NPHR']\n",
    "#print(ctrl['group'].unique(), nphr['group'].unique())"
   ]
  },
  {
   "cell_type": "markdown",
   "id": "super-incidence",
   "metadata": {},
   "source": [
    "### Split data into a test and training set"
   ]
  },
  {
   "cell_type": "code",
   "execution_count": 374,
   "id": "unique-access",
   "metadata": {},
   "outputs": [],
   "source": [
    "ctrl_test, ctrl_train = split_into_train_and_test(ctrl)\n",
    "nphr_test, nphr_train = split_into_train_and_test(nphr)"
   ]
  },
  {
   "cell_type": "markdown",
   "id": "happy-rebate",
   "metadata": {},
   "source": [
    "#### Categorize latencies and times according to quantiles"
   ]
  },
  {
   "cell_type": "code",
   "execution_count": 376,
   "id": "moral-powell",
   "metadata": {},
   "outputs": [],
   "source": [
    "def categorize_quantiles(df, cols):\n",
    "    \n",
    "    for col in cols:\n",
    "        df[col+'_quantiles']=pd.qcut(df[col], q=4, labels=[1,2,3,4])\n",
    "        df[col+'_quantiles'] = df[col+'_quantiles'].astype('category')\n",
    "    return df"
   ]
  },
  {
   "cell_type": "code",
   "execution_count": 377,
   "id": "japanese-badge",
   "metadata": {},
   "outputs": [
    {
     "name": "stdout",
     "output_type": "stream",
     "text": [
      "bla\n",
      "bla\n"
     ]
    }
   ],
   "source": [
    "cols_to_dummify=['outcome',\n",
    "                 'latency_to_cp_entry_quantiles',\n",
    "                 'time_in_cp_quantiles']\n",
    "\n",
    "for df in [ctrl_train, nphr_train]:\n",
    "    df = categorize_quantiles(df, ['latency_to_cp_entry', 'time_in_cp'])\n",
    "\n",
    "ctrl_train = create_dummies(ctrl_train, cols_to_dummify)\n",
    "nphr_train = create_dummies(nphr_train, cols_to_dummify)"
   ]
  },
  {
   "cell_type": "code",
   "execution_count": 378,
   "id": "protected-candle",
   "metadata": {},
   "outputs": [],
   "source": [
    "features=['latency_to_cp_entry_quantiles_2', 'latency_to_cp_entry_quantiles_3',\n",
    "          'latency_to_cp_entry_quantiles_4', 'time_in_cp_quantiles_2',\n",
    "          'time_in_cp_quantiles_3', 'time_in_cp_quantiles_4', 'outcome_1.0']"
   ]
  },
  {
   "cell_type": "code",
   "execution_count": 389,
   "id": "bored-edward",
   "metadata": {},
   "outputs": [
    {
     "name": "stderr",
     "output_type": "stream",
     "text": [
      "C:\\Users\\anasofiaccruz\\Anaconda3\\envs\\ds\\lib\\site-packages\\sklearn\\model_selection\\_validation.py:610: FitFailedWarning: Estimator fit failed. The score on this train-test partition for these parameters will be set to nan. Details: \n",
      "Traceback (most recent call last):\n",
      "  File \"C:\\Users\\anasofiaccruz\\Anaconda3\\envs\\ds\\lib\\site-packages\\sklearn\\model_selection\\_validation.py\", line 593, in _fit_and_score\n",
      "    estimator.fit(X_train, y_train, **fit_params)\n",
      "  File \"C:\\Users\\anasofiaccruz\\Anaconda3\\envs\\ds\\lib\\site-packages\\sklearn\\linear_model\\_logistic.py\", line 1306, in fit\n",
      "    solver = _check_solver(self.solver, self.penalty, self.dual)\n",
      "  File \"C:\\Users\\anasofiaccruz\\Anaconda3\\envs\\ds\\lib\\site-packages\\sklearn\\linear_model\\_logistic.py\", line 443, in _check_solver\n",
      "    raise ValueError(\"Solver %s supports only 'l2' or 'none' penalties, \"\n",
      "ValueError: Solver lbfgs supports only 'l2' or 'none' penalties, got l1 penalty.\n",
      "\n",
      "  warnings.warn(\"Estimator fit failed. The score on this train-test\"\n",
      "C:\\Users\\anasofiaccruz\\Anaconda3\\envs\\ds\\lib\\site-packages\\sklearn\\model_selection\\_validation.py:610: FitFailedWarning: Estimator fit failed. The score on this train-test partition for these parameters will be set to nan. Details: \n",
      "Traceback (most recent call last):\n",
      "  File \"C:\\Users\\anasofiaccruz\\Anaconda3\\envs\\ds\\lib\\site-packages\\sklearn\\model_selection\\_validation.py\", line 593, in _fit_and_score\n",
      "    estimator.fit(X_train, y_train, **fit_params)\n",
      "  File \"C:\\Users\\anasofiaccruz\\Anaconda3\\envs\\ds\\lib\\site-packages\\sklearn\\linear_model\\_logistic.py\", line 1306, in fit\n",
      "    solver = _check_solver(self.solver, self.penalty, self.dual)\n",
      "  File \"C:\\Users\\anasofiaccruz\\Anaconda3\\envs\\ds\\lib\\site-packages\\sklearn\\linear_model\\_logistic.py\", line 443, in _check_solver\n",
      "    raise ValueError(\"Solver %s supports only 'l2' or 'none' penalties, \"\n",
      "ValueError: Solver lbfgs supports only 'l2' or 'none' penalties, got l1 penalty.\n",
      "\n",
      "  warnings.warn(\"Estimator fit failed. The score on this train-test\"\n",
      "C:\\Users\\anasofiaccruz\\Anaconda3\\envs\\ds\\lib\\site-packages\\sklearn\\model_selection\\_validation.py:610: FitFailedWarning: Estimator fit failed. The score on this train-test partition for these parameters will be set to nan. Details: \n",
      "Traceback (most recent call last):\n",
      "  File \"C:\\Users\\anasofiaccruz\\Anaconda3\\envs\\ds\\lib\\site-packages\\sklearn\\model_selection\\_validation.py\", line 593, in _fit_and_score\n",
      "    estimator.fit(X_train, y_train, **fit_params)\n",
      "  File \"C:\\Users\\anasofiaccruz\\Anaconda3\\envs\\ds\\lib\\site-packages\\sklearn\\linear_model\\_logistic.py\", line 1306, in fit\n",
      "    solver = _check_solver(self.solver, self.penalty, self.dual)\n",
      "  File \"C:\\Users\\anasofiaccruz\\Anaconda3\\envs\\ds\\lib\\site-packages\\sklearn\\linear_model\\_logistic.py\", line 443, in _check_solver\n",
      "    raise ValueError(\"Solver %s supports only 'l2' or 'none' penalties, \"\n",
      "ValueError: Solver lbfgs supports only 'l2' or 'none' penalties, got l1 penalty.\n",
      "\n",
      "  warnings.warn(\"Estimator fit failed. The score on this train-test\"\n",
      "C:\\Users\\anasofiaccruz\\Anaconda3\\envs\\ds\\lib\\site-packages\\sklearn\\model_selection\\_validation.py:610: FitFailedWarning: Estimator fit failed. The score on this train-test partition for these parameters will be set to nan. Details: \n",
      "Traceback (most recent call last):\n",
      "  File \"C:\\Users\\anasofiaccruz\\Anaconda3\\envs\\ds\\lib\\site-packages\\sklearn\\model_selection\\_validation.py\", line 593, in _fit_and_score\n",
      "    estimator.fit(X_train, y_train, **fit_params)\n",
      "  File \"C:\\Users\\anasofiaccruz\\Anaconda3\\envs\\ds\\lib\\site-packages\\sklearn\\linear_model\\_logistic.py\", line 1306, in fit\n",
      "    solver = _check_solver(self.solver, self.penalty, self.dual)\n",
      "  File \"C:\\Users\\anasofiaccruz\\Anaconda3\\envs\\ds\\lib\\site-packages\\sklearn\\linear_model\\_logistic.py\", line 443, in _check_solver\n",
      "    raise ValueError(\"Solver %s supports only 'l2' or 'none' penalties, \"\n",
      "ValueError: Solver lbfgs supports only 'l2' or 'none' penalties, got l1 penalty.\n",
      "\n",
      "  warnings.warn(\"Estimator fit failed. The score on this train-test\"\n",
      "C:\\Users\\anasofiaccruz\\Anaconda3\\envs\\ds\\lib\\site-packages\\sklearn\\model_selection\\_validation.py:610: FitFailedWarning: Estimator fit failed. The score on this train-test partition for these parameters will be set to nan. Details: \n",
      "Traceback (most recent call last):\n",
      "  File \"C:\\Users\\anasofiaccruz\\Anaconda3\\envs\\ds\\lib\\site-packages\\sklearn\\model_selection\\_validation.py\", line 593, in _fit_and_score\n",
      "    estimator.fit(X_train, y_train, **fit_params)\n",
      "  File \"C:\\Users\\anasofiaccruz\\Anaconda3\\envs\\ds\\lib\\site-packages\\sklearn\\linear_model\\_logistic.py\", line 1306, in fit\n",
      "    solver = _check_solver(self.solver, self.penalty, self.dual)\n",
      "  File \"C:\\Users\\anasofiaccruz\\Anaconda3\\envs\\ds\\lib\\site-packages\\sklearn\\linear_model\\_logistic.py\", line 443, in _check_solver\n",
      "    raise ValueError(\"Solver %s supports only 'l2' or 'none' penalties, \"\n",
      "ValueError: Solver lbfgs supports only 'l2' or 'none' penalties, got l1 penalty.\n",
      "\n",
      "  warnings.warn(\"Estimator fit failed. The score on this train-test\"\n",
      "C:\\Users\\anasofiaccruz\\Anaconda3\\envs\\ds\\lib\\site-packages\\sklearn\\model_selection\\_validation.py:610: FitFailedWarning: Estimator fit failed. The score on this train-test partition for these parameters will be set to nan. Details: \n",
      "Traceback (most recent call last):\n",
      "  File \"C:\\Users\\anasofiaccruz\\Anaconda3\\envs\\ds\\lib\\site-packages\\sklearn\\model_selection\\_validation.py\", line 593, in _fit_and_score\n",
      "    estimator.fit(X_train, y_train, **fit_params)\n",
      "  File \"C:\\Users\\anasofiaccruz\\Anaconda3\\envs\\ds\\lib\\site-packages\\sklearn\\linear_model\\_logistic.py\", line 1306, in fit\n",
      "    solver = _check_solver(self.solver, self.penalty, self.dual)\n",
      "  File \"C:\\Users\\anasofiaccruz\\Anaconda3\\envs\\ds\\lib\\site-packages\\sklearn\\linear_model\\_logistic.py\", line 443, in _check_solver\n",
      "    raise ValueError(\"Solver %s supports only 'l2' or 'none' penalties, \"\n",
      "ValueError: Solver lbfgs supports only 'l2' or 'none' penalties, got l1 penalty.\n",
      "\n",
      "  warnings.warn(\"Estimator fit failed. The score on this train-test\"\n",
      "C:\\Users\\anasofiaccruz\\Anaconda3\\envs\\ds\\lib\\site-packages\\sklearn\\model_selection\\_validation.py:610: FitFailedWarning: Estimator fit failed. The score on this train-test partition for these parameters will be set to nan. Details: \n",
      "Traceback (most recent call last):\n",
      "  File \"C:\\Users\\anasofiaccruz\\Anaconda3\\envs\\ds\\lib\\site-packages\\sklearn\\model_selection\\_validation.py\", line 593, in _fit_and_score\n",
      "    estimator.fit(X_train, y_train, **fit_params)\n",
      "  File \"C:\\Users\\anasofiaccruz\\Anaconda3\\envs\\ds\\lib\\site-packages\\sklearn\\linear_model\\_logistic.py\", line 1306, in fit\n",
      "    solver = _check_solver(self.solver, self.penalty, self.dual)\n",
      "  File \"C:\\Users\\anasofiaccruz\\Anaconda3\\envs\\ds\\lib\\site-packages\\sklearn\\linear_model\\_logistic.py\", line 443, in _check_solver\n",
      "    raise ValueError(\"Solver %s supports only 'l2' or 'none' penalties, \"\n",
      "ValueError: Solver lbfgs supports only 'l2' or 'none' penalties, got l1 penalty.\n",
      "\n",
      "  warnings.warn(\"Estimator fit failed. The score on this train-test\"\n",
      "C:\\Users\\anasofiaccruz\\Anaconda3\\envs\\ds\\lib\\site-packages\\sklearn\\model_selection\\_validation.py:610: FitFailedWarning: Estimator fit failed. The score on this train-test partition for these parameters will be set to nan. Details: \n",
      "Traceback (most recent call last):\n",
      "  File \"C:\\Users\\anasofiaccruz\\Anaconda3\\envs\\ds\\lib\\site-packages\\sklearn\\model_selection\\_validation.py\", line 593, in _fit_and_score\n",
      "    estimator.fit(X_train, y_train, **fit_params)\n",
      "  File \"C:\\Users\\anasofiaccruz\\Anaconda3\\envs\\ds\\lib\\site-packages\\sklearn\\linear_model\\_logistic.py\", line 1306, in fit\n",
      "    solver = _check_solver(self.solver, self.penalty, self.dual)\n",
      "  File \"C:\\Users\\anasofiaccruz\\Anaconda3\\envs\\ds\\lib\\site-packages\\sklearn\\linear_model\\_logistic.py\", line 443, in _check_solver\n",
      "    raise ValueError(\"Solver %s supports only 'l2' or 'none' penalties, \"\n",
      "ValueError: Solver lbfgs supports only 'l2' or 'none' penalties, got l1 penalty.\n",
      "\n",
      "  warnings.warn(\"Estimator fit failed. The score on this train-test\"\n",
      "C:\\Users\\anasofiaccruz\\Anaconda3\\envs\\ds\\lib\\site-packages\\sklearn\\model_selection\\_validation.py:610: FitFailedWarning: Estimator fit failed. The score on this train-test partition for these parameters will be set to nan. Details: \n",
      "Traceback (most recent call last):\n",
      "  File \"C:\\Users\\anasofiaccruz\\Anaconda3\\envs\\ds\\lib\\site-packages\\sklearn\\model_selection\\_validation.py\", line 593, in _fit_and_score\n",
      "    estimator.fit(X_train, y_train, **fit_params)\n",
      "  File \"C:\\Users\\anasofiaccruz\\Anaconda3\\envs\\ds\\lib\\site-packages\\sklearn\\linear_model\\_logistic.py\", line 1306, in fit\n",
      "    solver = _check_solver(self.solver, self.penalty, self.dual)\n",
      "  File \"C:\\Users\\anasofiaccruz\\Anaconda3\\envs\\ds\\lib\\site-packages\\sklearn\\linear_model\\_logistic.py\", line 443, in _check_solver\n",
      "    raise ValueError(\"Solver %s supports only 'l2' or 'none' penalties, \"\n",
      "ValueError: Solver lbfgs supports only 'l2' or 'none' penalties, got l1 penalty.\n",
      "\n",
      "  warnings.warn(\"Estimator fit failed. The score on this train-test\"\n",
      "C:\\Users\\anasofiaccruz\\Anaconda3\\envs\\ds\\lib\\site-packages\\sklearn\\model_selection\\_validation.py:610: FitFailedWarning: Estimator fit failed. The score on this train-test partition for these parameters will be set to nan. Details: \n",
      "Traceback (most recent call last):\n",
      "  File \"C:\\Users\\anasofiaccruz\\Anaconda3\\envs\\ds\\lib\\site-packages\\sklearn\\model_selection\\_validation.py\", line 593, in _fit_and_score\n",
      "    estimator.fit(X_train, y_train, **fit_params)\n",
      "  File \"C:\\Users\\anasofiaccruz\\Anaconda3\\envs\\ds\\lib\\site-packages\\sklearn\\linear_model\\_logistic.py\", line 1306, in fit\n",
      "    solver = _check_solver(self.solver, self.penalty, self.dual)\n",
      "  File \"C:\\Users\\anasofiaccruz\\Anaconda3\\envs\\ds\\lib\\site-packages\\sklearn\\linear_model\\_logistic.py\", line 443, in _check_solver\n",
      "    raise ValueError(\"Solver %s supports only 'l2' or 'none' penalties, \"\n",
      "ValueError: Solver lbfgs supports only 'l2' or 'none' penalties, got l1 penalty.\n",
      "\n",
      "  warnings.warn(\"Estimator fit failed. The score on this train-test\"\n"
     ]
    },
    {
     "name": "stderr",
     "output_type": "stream",
     "text": [
      "C:\\Users\\anasofiaccruz\\Anaconda3\\envs\\ds\\lib\\site-packages\\sklearn\\model_selection\\_validation.py:610: FitFailedWarning: Estimator fit failed. The score on this train-test partition for these parameters will be set to nan. Details: \n",
      "Traceback (most recent call last):\n",
      "  File \"C:\\Users\\anasofiaccruz\\Anaconda3\\envs\\ds\\lib\\site-packages\\sklearn\\model_selection\\_validation.py\", line 593, in _fit_and_score\n",
      "    estimator.fit(X_train, y_train, **fit_params)\n",
      "  File \"C:\\Users\\anasofiaccruz\\Anaconda3\\envs\\ds\\lib\\site-packages\\sklearn\\linear_model\\_logistic.py\", line 1306, in fit\n",
      "    solver = _check_solver(self.solver, self.penalty, self.dual)\n",
      "  File \"C:\\Users\\anasofiaccruz\\Anaconda3\\envs\\ds\\lib\\site-packages\\sklearn\\linear_model\\_logistic.py\", line 443, in _check_solver\n",
      "    raise ValueError(\"Solver %s supports only 'l2' or 'none' penalties, \"\n",
      "ValueError: Solver lbfgs supports only 'l2' or 'none' penalties, got l1 penalty.\n",
      "\n",
      "  warnings.warn(\"Estimator fit failed. The score on this train-test\"\n",
      "C:\\Users\\anasofiaccruz\\Anaconda3\\envs\\ds\\lib\\site-packages\\sklearn\\model_selection\\_validation.py:610: FitFailedWarning: Estimator fit failed. The score on this train-test partition for these parameters will be set to nan. Details: \n",
      "Traceback (most recent call last):\n",
      "  File \"C:\\Users\\anasofiaccruz\\Anaconda3\\envs\\ds\\lib\\site-packages\\sklearn\\model_selection\\_validation.py\", line 593, in _fit_and_score\n",
      "    estimator.fit(X_train, y_train, **fit_params)\n",
      "  File \"C:\\Users\\anasofiaccruz\\Anaconda3\\envs\\ds\\lib\\site-packages\\sklearn\\linear_model\\_logistic.py\", line 1306, in fit\n",
      "    solver = _check_solver(self.solver, self.penalty, self.dual)\n",
      "  File \"C:\\Users\\anasofiaccruz\\Anaconda3\\envs\\ds\\lib\\site-packages\\sklearn\\linear_model\\_logistic.py\", line 443, in _check_solver\n",
      "    raise ValueError(\"Solver %s supports only 'l2' or 'none' penalties, \"\n",
      "ValueError: Solver lbfgs supports only 'l2' or 'none' penalties, got l1 penalty.\n",
      "\n",
      "  warnings.warn(\"Estimator fit failed. The score on this train-test\"\n",
      "C:\\Users\\anasofiaccruz\\Anaconda3\\envs\\ds\\lib\\site-packages\\sklearn\\model_selection\\_validation.py:610: FitFailedWarning: Estimator fit failed. The score on this train-test partition for these parameters will be set to nan. Details: \n",
      "Traceback (most recent call last):\n",
      "  File \"C:\\Users\\anasofiaccruz\\Anaconda3\\envs\\ds\\lib\\site-packages\\sklearn\\model_selection\\_validation.py\", line 593, in _fit_and_score\n",
      "    estimator.fit(X_train, y_train, **fit_params)\n",
      "  File \"C:\\Users\\anasofiaccruz\\Anaconda3\\envs\\ds\\lib\\site-packages\\sklearn\\linear_model\\_logistic.py\", line 1306, in fit\n",
      "    solver = _check_solver(self.solver, self.penalty, self.dual)\n",
      "  File \"C:\\Users\\anasofiaccruz\\Anaconda3\\envs\\ds\\lib\\site-packages\\sklearn\\linear_model\\_logistic.py\", line 443, in _check_solver\n",
      "    raise ValueError(\"Solver %s supports only 'l2' or 'none' penalties, \"\n",
      "ValueError: Solver lbfgs supports only 'l2' or 'none' penalties, got l1 penalty.\n",
      "\n",
      "  warnings.warn(\"Estimator fit failed. The score on this train-test\"\n",
      "C:\\Users\\anasofiaccruz\\Anaconda3\\envs\\ds\\lib\\site-packages\\sklearn\\model_selection\\_validation.py:610: FitFailedWarning: Estimator fit failed. The score on this train-test partition for these parameters will be set to nan. Details: \n",
      "Traceback (most recent call last):\n",
      "  File \"C:\\Users\\anasofiaccruz\\Anaconda3\\envs\\ds\\lib\\site-packages\\sklearn\\model_selection\\_validation.py\", line 593, in _fit_and_score\n",
      "    estimator.fit(X_train, y_train, **fit_params)\n",
      "  File \"C:\\Users\\anasofiaccruz\\Anaconda3\\envs\\ds\\lib\\site-packages\\sklearn\\linear_model\\_logistic.py\", line 1306, in fit\n",
      "    solver = _check_solver(self.solver, self.penalty, self.dual)\n",
      "  File \"C:\\Users\\anasofiaccruz\\Anaconda3\\envs\\ds\\lib\\site-packages\\sklearn\\linear_model\\_logistic.py\", line 443, in _check_solver\n",
      "    raise ValueError(\"Solver %s supports only 'l2' or 'none' penalties, \"\n",
      "ValueError: Solver lbfgs supports only 'l2' or 'none' penalties, got l1 penalty.\n",
      "\n",
      "  warnings.warn(\"Estimator fit failed. The score on this train-test\"\n",
      "C:\\Users\\anasofiaccruz\\Anaconda3\\envs\\ds\\lib\\site-packages\\sklearn\\model_selection\\_validation.py:610: FitFailedWarning: Estimator fit failed. The score on this train-test partition for these parameters will be set to nan. Details: \n",
      "Traceback (most recent call last):\n",
      "  File \"C:\\Users\\anasofiaccruz\\Anaconda3\\envs\\ds\\lib\\site-packages\\sklearn\\model_selection\\_validation.py\", line 593, in _fit_and_score\n",
      "    estimator.fit(X_train, y_train, **fit_params)\n",
      "  File \"C:\\Users\\anasofiaccruz\\Anaconda3\\envs\\ds\\lib\\site-packages\\sklearn\\linear_model\\_logistic.py\", line 1306, in fit\n",
      "    solver = _check_solver(self.solver, self.penalty, self.dual)\n",
      "  File \"C:\\Users\\anasofiaccruz\\Anaconda3\\envs\\ds\\lib\\site-packages\\sklearn\\linear_model\\_logistic.py\", line 443, in _check_solver\n",
      "    raise ValueError(\"Solver %s supports only 'l2' or 'none' penalties, \"\n",
      "ValueError: Solver lbfgs supports only 'l2' or 'none' penalties, got l1 penalty.\n",
      "\n",
      "  warnings.warn(\"Estimator fit failed. The score on this train-test\"\n",
      "C:\\Users\\anasofiaccruz\\Anaconda3\\envs\\ds\\lib\\site-packages\\sklearn\\model_selection\\_validation.py:610: FitFailedWarning: Estimator fit failed. The score on this train-test partition for these parameters will be set to nan. Details: \n",
      "Traceback (most recent call last):\n",
      "  File \"C:\\Users\\anasofiaccruz\\Anaconda3\\envs\\ds\\lib\\site-packages\\sklearn\\model_selection\\_validation.py\", line 593, in _fit_and_score\n",
      "    estimator.fit(X_train, y_train, **fit_params)\n",
      "  File \"C:\\Users\\anasofiaccruz\\Anaconda3\\envs\\ds\\lib\\site-packages\\sklearn\\linear_model\\_logistic.py\", line 1306, in fit\n",
      "    solver = _check_solver(self.solver, self.penalty, self.dual)\n",
      "  File \"C:\\Users\\anasofiaccruz\\Anaconda3\\envs\\ds\\lib\\site-packages\\sklearn\\linear_model\\_logistic.py\", line 443, in _check_solver\n",
      "    raise ValueError(\"Solver %s supports only 'l2' or 'none' penalties, \"\n",
      "ValueError: Solver lbfgs supports only 'l2' or 'none' penalties, got l1 penalty.\n",
      "\n",
      "  warnings.warn(\"Estimator fit failed. The score on this train-test\"\n",
      "C:\\Users\\anasofiaccruz\\Anaconda3\\envs\\ds\\lib\\site-packages\\sklearn\\model_selection\\_validation.py:610: FitFailedWarning: Estimator fit failed. The score on this train-test partition for these parameters will be set to nan. Details: \n",
      "Traceback (most recent call last):\n",
      "  File \"C:\\Users\\anasofiaccruz\\Anaconda3\\envs\\ds\\lib\\site-packages\\sklearn\\model_selection\\_validation.py\", line 593, in _fit_and_score\n",
      "    estimator.fit(X_train, y_train, **fit_params)\n",
      "  File \"C:\\Users\\anasofiaccruz\\Anaconda3\\envs\\ds\\lib\\site-packages\\sklearn\\linear_model\\_logistic.py\", line 1306, in fit\n",
      "    solver = _check_solver(self.solver, self.penalty, self.dual)\n",
      "  File \"C:\\Users\\anasofiaccruz\\Anaconda3\\envs\\ds\\lib\\site-packages\\sklearn\\linear_model\\_logistic.py\", line 443, in _check_solver\n",
      "    raise ValueError(\"Solver %s supports only 'l2' or 'none' penalties, \"\n",
      "ValueError: Solver lbfgs supports only 'l2' or 'none' penalties, got l1 penalty.\n",
      "\n",
      "  warnings.warn(\"Estimator fit failed. The score on this train-test\"\n",
      "C:\\Users\\anasofiaccruz\\Anaconda3\\envs\\ds\\lib\\site-packages\\sklearn\\model_selection\\_validation.py:610: FitFailedWarning: Estimator fit failed. The score on this train-test partition for these parameters will be set to nan. Details: \n",
      "Traceback (most recent call last):\n",
      "  File \"C:\\Users\\anasofiaccruz\\Anaconda3\\envs\\ds\\lib\\site-packages\\sklearn\\model_selection\\_validation.py\", line 593, in _fit_and_score\n",
      "    estimator.fit(X_train, y_train, **fit_params)\n",
      "  File \"C:\\Users\\anasofiaccruz\\Anaconda3\\envs\\ds\\lib\\site-packages\\sklearn\\linear_model\\_logistic.py\", line 1306, in fit\n",
      "    solver = _check_solver(self.solver, self.penalty, self.dual)\n",
      "  File \"C:\\Users\\anasofiaccruz\\Anaconda3\\envs\\ds\\lib\\site-packages\\sklearn\\linear_model\\_logistic.py\", line 443, in _check_solver\n",
      "    raise ValueError(\"Solver %s supports only 'l2' or 'none' penalties, \"\n",
      "ValueError: Solver lbfgs supports only 'l2' or 'none' penalties, got l1 penalty.\n",
      "\n",
      "  warnings.warn(\"Estimator fit failed. The score on this train-test\"\n",
      "C:\\Users\\anasofiaccruz\\Anaconda3\\envs\\ds\\lib\\site-packages\\sklearn\\model_selection\\_validation.py:610: FitFailedWarning: Estimator fit failed. The score on this train-test partition for these parameters will be set to nan. Details: \n",
      "Traceback (most recent call last):\n",
      "  File \"C:\\Users\\anasofiaccruz\\Anaconda3\\envs\\ds\\lib\\site-packages\\sklearn\\model_selection\\_validation.py\", line 593, in _fit_and_score\n",
      "    estimator.fit(X_train, y_train, **fit_params)\n",
      "  File \"C:\\Users\\anasofiaccruz\\Anaconda3\\envs\\ds\\lib\\site-packages\\sklearn\\linear_model\\_logistic.py\", line 1306, in fit\n",
      "    solver = _check_solver(self.solver, self.penalty, self.dual)\n",
      "  File \"C:\\Users\\anasofiaccruz\\Anaconda3\\envs\\ds\\lib\\site-packages\\sklearn\\linear_model\\_logistic.py\", line 443, in _check_solver\n",
      "    raise ValueError(\"Solver %s supports only 'l2' or 'none' penalties, \"\n",
      "ValueError: Solver lbfgs supports only 'l2' or 'none' penalties, got l1 penalty.\n",
      "\n",
      "  warnings.warn(\"Estimator fit failed. The score on this train-test\"\n",
      "C:\\Users\\anasofiaccruz\\Anaconda3\\envs\\ds\\lib\\site-packages\\sklearn\\model_selection\\_validation.py:610: FitFailedWarning: Estimator fit failed. The score on this train-test partition for these parameters will be set to nan. Details: \n",
      "Traceback (most recent call last):\n",
      "  File \"C:\\Users\\anasofiaccruz\\Anaconda3\\envs\\ds\\lib\\site-packages\\sklearn\\model_selection\\_validation.py\", line 593, in _fit_and_score\n",
      "    estimator.fit(X_train, y_train, **fit_params)\n",
      "  File \"C:\\Users\\anasofiaccruz\\Anaconda3\\envs\\ds\\lib\\site-packages\\sklearn\\linear_model\\_logistic.py\", line 1306, in fit\n",
      "    solver = _check_solver(self.solver, self.penalty, self.dual)\n",
      "  File \"C:\\Users\\anasofiaccruz\\Anaconda3\\envs\\ds\\lib\\site-packages\\sklearn\\linear_model\\_logistic.py\", line 443, in _check_solver\n",
      "    raise ValueError(\"Solver %s supports only 'l2' or 'none' penalties, \"\n",
      "ValueError: Solver lbfgs supports only 'l2' or 'none' penalties, got l1 penalty.\n",
      "\n",
      "  warnings.warn(\"Estimator fit failed. The score on this train-test\"\n"
     ]
    },
    {
     "name": "stderr",
     "output_type": "stream",
     "text": [
      "C:\\Users\\anasofiaccruz\\Anaconda3\\envs\\ds\\lib\\site-packages\\sklearn\\model_selection\\_validation.py:610: FitFailedWarning: Estimator fit failed. The score on this train-test partition for these parameters will be set to nan. Details: \n",
      "Traceback (most recent call last):\n",
      "  File \"C:\\Users\\anasofiaccruz\\Anaconda3\\envs\\ds\\lib\\site-packages\\sklearn\\model_selection\\_validation.py\", line 593, in _fit_and_score\n",
      "    estimator.fit(X_train, y_train, **fit_params)\n",
      "  File \"C:\\Users\\anasofiaccruz\\Anaconda3\\envs\\ds\\lib\\site-packages\\sklearn\\linear_model\\_logistic.py\", line 1306, in fit\n",
      "    solver = _check_solver(self.solver, self.penalty, self.dual)\n",
      "  File \"C:\\Users\\anasofiaccruz\\Anaconda3\\envs\\ds\\lib\\site-packages\\sklearn\\linear_model\\_logistic.py\", line 443, in _check_solver\n",
      "    raise ValueError(\"Solver %s supports only 'l2' or 'none' penalties, \"\n",
      "ValueError: Solver lbfgs supports only 'l2' or 'none' penalties, got l1 penalty.\n",
      "\n",
      "  warnings.warn(\"Estimator fit failed. The score on this train-test\"\n",
      "C:\\Users\\anasofiaccruz\\Anaconda3\\envs\\ds\\lib\\site-packages\\sklearn\\model_selection\\_validation.py:610: FitFailedWarning: Estimator fit failed. The score on this train-test partition for these parameters will be set to nan. Details: \n",
      "Traceback (most recent call last):\n",
      "  File \"C:\\Users\\anasofiaccruz\\Anaconda3\\envs\\ds\\lib\\site-packages\\sklearn\\model_selection\\_validation.py\", line 593, in _fit_and_score\n",
      "    estimator.fit(X_train, y_train, **fit_params)\n",
      "  File \"C:\\Users\\anasofiaccruz\\Anaconda3\\envs\\ds\\lib\\site-packages\\sklearn\\linear_model\\_logistic.py\", line 1306, in fit\n",
      "    solver = _check_solver(self.solver, self.penalty, self.dual)\n",
      "  File \"C:\\Users\\anasofiaccruz\\Anaconda3\\envs\\ds\\lib\\site-packages\\sklearn\\linear_model\\_logistic.py\", line 443, in _check_solver\n",
      "    raise ValueError(\"Solver %s supports only 'l2' or 'none' penalties, \"\n",
      "ValueError: Solver lbfgs supports only 'l2' or 'none' penalties, got l1 penalty.\n",
      "\n",
      "  warnings.warn(\"Estimator fit failed. The score on this train-test\"\n",
      "C:\\Users\\anasofiaccruz\\Anaconda3\\envs\\ds\\lib\\site-packages\\sklearn\\model_selection\\_validation.py:610: FitFailedWarning: Estimator fit failed. The score on this train-test partition for these parameters will be set to nan. Details: \n",
      "Traceback (most recent call last):\n",
      "  File \"C:\\Users\\anasofiaccruz\\Anaconda3\\envs\\ds\\lib\\site-packages\\sklearn\\model_selection\\_validation.py\", line 593, in _fit_and_score\n",
      "    estimator.fit(X_train, y_train, **fit_params)\n",
      "  File \"C:\\Users\\anasofiaccruz\\Anaconda3\\envs\\ds\\lib\\site-packages\\sklearn\\linear_model\\_logistic.py\", line 1306, in fit\n",
      "    solver = _check_solver(self.solver, self.penalty, self.dual)\n",
      "  File \"C:\\Users\\anasofiaccruz\\Anaconda3\\envs\\ds\\lib\\site-packages\\sklearn\\linear_model\\_logistic.py\", line 443, in _check_solver\n",
      "    raise ValueError(\"Solver %s supports only 'l2' or 'none' penalties, \"\n",
      "ValueError: Solver lbfgs supports only 'l2' or 'none' penalties, got l1 penalty.\n",
      "\n",
      "  warnings.warn(\"Estimator fit failed. The score on this train-test\"\n",
      "C:\\Users\\anasofiaccruz\\Anaconda3\\envs\\ds\\lib\\site-packages\\sklearn\\model_selection\\_validation.py:610: FitFailedWarning: Estimator fit failed. The score on this train-test partition for these parameters will be set to nan. Details: \n",
      "Traceback (most recent call last):\n",
      "  File \"C:\\Users\\anasofiaccruz\\Anaconda3\\envs\\ds\\lib\\site-packages\\sklearn\\model_selection\\_validation.py\", line 593, in _fit_and_score\n",
      "    estimator.fit(X_train, y_train, **fit_params)\n",
      "  File \"C:\\Users\\anasofiaccruz\\Anaconda3\\envs\\ds\\lib\\site-packages\\sklearn\\linear_model\\_logistic.py\", line 1306, in fit\n",
      "    solver = _check_solver(self.solver, self.penalty, self.dual)\n",
      "  File \"C:\\Users\\anasofiaccruz\\Anaconda3\\envs\\ds\\lib\\site-packages\\sklearn\\linear_model\\_logistic.py\", line 443, in _check_solver\n",
      "    raise ValueError(\"Solver %s supports only 'l2' or 'none' penalties, \"\n",
      "ValueError: Solver lbfgs supports only 'l2' or 'none' penalties, got l1 penalty.\n",
      "\n",
      "  warnings.warn(\"Estimator fit failed. The score on this train-test\"\n",
      "C:\\Users\\anasofiaccruz\\Anaconda3\\envs\\ds\\lib\\site-packages\\sklearn\\model_selection\\_validation.py:610: FitFailedWarning: Estimator fit failed. The score on this train-test partition for these parameters will be set to nan. Details: \n",
      "Traceback (most recent call last):\n",
      "  File \"C:\\Users\\anasofiaccruz\\Anaconda3\\envs\\ds\\lib\\site-packages\\sklearn\\model_selection\\_validation.py\", line 593, in _fit_and_score\n",
      "    estimator.fit(X_train, y_train, **fit_params)\n",
      "  File \"C:\\Users\\anasofiaccruz\\Anaconda3\\envs\\ds\\lib\\site-packages\\sklearn\\linear_model\\_logistic.py\", line 1306, in fit\n",
      "    solver = _check_solver(self.solver, self.penalty, self.dual)\n",
      "  File \"C:\\Users\\anasofiaccruz\\Anaconda3\\envs\\ds\\lib\\site-packages\\sklearn\\linear_model\\_logistic.py\", line 443, in _check_solver\n",
      "    raise ValueError(\"Solver %s supports only 'l2' or 'none' penalties, \"\n",
      "ValueError: Solver lbfgs supports only 'l2' or 'none' penalties, got l1 penalty.\n",
      "\n",
      "  warnings.warn(\"Estimator fit failed. The score on this train-test\"\n",
      "C:\\Users\\anasofiaccruz\\Anaconda3\\envs\\ds\\lib\\site-packages\\sklearn\\model_selection\\_search.py:918: UserWarning: One or more of the test scores are non-finite: [       nan 0.34652015        nan 0.34652015        nan 0.34652015\n",
      "        nan 0.34652015        nan 0.34652015]\n",
      "  warnings.warn(\n"
     ]
    },
    {
     "data": {
      "text/plain": [
       "{'C': 1, 'penalty': 'l2'}"
      ]
     },
     "execution_count": 389,
     "metadata": {},
     "output_type": "execute_result"
    }
   ],
   "source": [
    "from sklearn.linear_model import LogisticRegression\n",
    "grid={'penalty':['l1', 'l2'],\n",
    "      'C':[1,3,5,8,10]}\n",
    "lr = LogisticRegression(random_state=1)\n",
    "best = perform_a_grid_search(lr, grid, 5, nphr_train, features, 'stim_condition')\n",
    "best"
   ]
  },
  {
   "cell_type": "code",
   "execution_count": 390,
   "id": "romance-empty",
   "metadata": {},
   "outputs": [
    {
     "name": "stdout",
     "output_type": "stream",
     "text": [
      "0.3985367892976589\n"
     ]
    }
   ],
   "source": [
    "lr = LogisticRegression(random_state=1, C=1, penalty='l2')\n",
    "scores=cross_val_score(lr, ctrl_train[features], ctrl_train['stim_condition'], cv=10)\n",
    "print(np.mean(scores))"
   ]
  },
  {
   "cell_type": "code",
   "execution_count": 391,
   "id": "effective-anniversary",
   "metadata": {},
   "outputs": [
    {
     "name": "stdout",
     "output_type": "stream",
     "text": [
      "0.34908424908424907\n"
     ]
    }
   ],
   "source": [
    "lr = LogisticRegression(random_state=1, C=1, penalty='l2')\n",
    "scores=cross_val_score(lr, nphr_train[features], nphr_train['stim_condition'], cv=10)\n",
    "print(np.mean(scores))"
   ]
  },
  {
   "cell_type": "markdown",
   "id": "engaged-antigua",
   "metadata": {},
   "source": [
    "### Perform a grid search of hyperparameters for random forest"
   ]
  },
  {
   "cell_type": "code",
   "execution_count": 382,
   "id": "desperate-tragedy",
   "metadata": {},
   "outputs": [],
   "source": [
    "from sklearn.model_selection import GridSearchCV\n",
    "\n",
    "def perform_a_grid_search(estimator, parameters_dict, cv, df, features, target):\n",
    "    '''\n",
    "    Grid Search best parameters for the estimator.\n",
    "    Arg1, estimator - model instance\n",
    "    Arg2, parameters_dict, dict \n",
    "    Arg3, cv, int - number of folds\n",
    "    Arg4, df, Pandas DataFrame\n",
    "    Arg5, features, list\n",
    "    Arg6, target, str\n",
    "    Return:\n",
    "        estimator with best parameters\n",
    "    \n",
    "    '''\n",
    "    \n",
    "    grid=GridSearchCV(estimator, parameters_dict, cv=cv)\n",
    "    grid.fit(df[features], df[target])\n",
    "    \n",
    "    return grid.best_params_\n"
   ]
  },
  {
   "cell_type": "code",
   "execution_count": 383,
   "id": "affecting-uzbekistan",
   "metadata": {},
   "outputs": [
    {
     "data": {
      "text/plain": [
       "{'criterion': 'entropy',\n",
       " 'max_depth': 5,\n",
       " 'min_samples_leaf': 25,\n",
       " 'n_estimators': 10}"
      ]
     },
     "execution_count": 383,
     "metadata": {},
     "output_type": "execute_result"
    }
   ],
   "source": [
    "from sklearn.ensemble import RandomForestClassifier\n",
    "from sklearn.model_selection import cross_val_score\n",
    "\n",
    "grid={'criterion':['gini','entropy'],\n",
    "      'n_estimators':[3,5,10],\n",
    "      'max_depth': [5,10,15,20],\n",
    "      'min_samples_leaf': [5,10,15,20,25]}\n",
    "\n",
    "best = perform_a_grid_search(rf, grid, 5, train, features, 'stim_condition')\n",
    "best"
   ]
  },
  {
   "cell_type": "code",
   "execution_count": 385,
   "id": "brutal-closure",
   "metadata": {},
   "outputs": [
    {
     "name": "stdout",
     "output_type": "stream",
     "text": [
      "0.3845201597918989\n"
     ]
    }
   ],
   "source": [
    "from sklearn.model_selection import cross_val_score, cross_val_predict\n",
    "rfc = RandomForestClassifier(\n",
    "            criterion='entropy',\n",
    "            max_depth= 10,\n",
    "            min_samples_leaf=2,\n",
    "            n_estimators=10\n",
    ")\n",
    "\n",
    "scores=cross_val_score(rfc, ctrl_train[features], ctrl_train['stim_condition'], cv=10)\n",
    "print(np.mean(scores))"
   ]
  },
  {
   "cell_type": "markdown",
   "id": "racial-shelter",
   "metadata": {},
   "source": [
    "### Perform a grid search of hyperparameters for KNN"
   ]
  },
  {
   "cell_type": "code",
   "execution_count": null,
   "id": "meaningful-import",
   "metadata": {},
   "outputs": [],
   "source": [
    "from sklearn.neighbors import KNeighborsClassifier\n",
    "grid={'n_neighbors':[5,10,20,30,50, 100,150]}\n",
    "knn = KNeighborsClassifier()\n",
    "best = perform_a_grid_search(knn, grid, 5, train, features, 'stim_condition')\n",
    "best"
   ]
  },
  {
   "cell_type": "code",
   "execution_count": 388,
   "id": "expired-quick",
   "metadata": {},
   "outputs": [
    {
     "name": "stdout",
     "output_type": "stream",
     "text": [
      "0.38597640282422896\n"
     ]
    }
   ],
   "source": [
    "knn = KNeighborsClassifier(n_neighbors=50)\n",
    "scores=cross_val_score(knn, ctrl_train[features], ctrl_train['stim_condition'], cv=10)\n",
    "print(np.mean(scores))"
   ]
  },
  {
   "cell_type": "code",
   "execution_count": null,
   "id": "built-pipeline",
   "metadata": {},
   "outputs": [],
   "source": []
  }
 ],
 "metadata": {
  "kernelspec": {
   "display_name": "Python 3",
   "language": "python",
   "name": "python3"
  },
  "language_info": {
   "codemirror_mode": {
    "name": "ipython",
    "version": 3
   },
   "file_extension": ".py",
   "mimetype": "text/x-python",
   "name": "python",
   "nbconvert_exporter": "python",
   "pygments_lexer": "ipython3",
   "version": "3.8.8"
  }
 },
 "nbformat": 4,
 "nbformat_minor": 5
}
