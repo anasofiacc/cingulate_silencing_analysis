{
 "cells": [
  {
   "cell_type": "markdown",
   "metadata": {},
   "source": [
    "# <font color=dodgerblue> Collect the choice point and reward port limits from video files\n",
    "    \n",
    "***\n",
    "   #### Selection of two frames per video in the given video_files_path\n",
    "   #### Open in loop each frame\n",
    "   #### Detection of RW1 (Left) and RW2 (Right) ports, CP (choice point square) ROI in frames in pixels\n",
    "   ####  Conversion of ROIs to CROP POLYGON dimensions (rat dependent)\n",
    "   #### Conversion of ROI dimensions from px to cm\n",
    "***\n"
   ]
  },
  {
   "cell_type": "markdown",
   "metadata": {},
   "source": [
    "### <font color=firebrick>Imports\n",
    "***"
   ]
  },
  {
   "cell_type": "code",
   "execution_count": 7,
   "metadata": {},
   "outputs": [],
   "source": [
    "import cv2\n",
    "import os\n",
    "import re\n",
    "import random\n",
    "import numpy as np\n",
    "import pandas as pd\n",
    "import seaborn as sns\n",
    "import matplotlib.pyplot as plt\n",
    "from matplotlib.widgets  import RectangleSelector\n",
    "from open_files import get_file_list\n",
    "\n",
    "%matplotlib inline"
   ]
  },
  {
   "cell_type": "markdown",
   "metadata": {},
   "source": [
    "### <font color=firebrick>Inputs\n",
    "***"
   ]
  },
  {
   "cell_type": "code",
   "execution_count": 8,
   "metadata": {},
   "outputs": [],
   "source": [
    "# The path where the video files are stored. Create ROIS and ROI_Frames folders\n",
    "video_files_path = \"E:\\POSITION DATA/PANTUFA_CTRL7\""
   ]
  },
  {
   "cell_type": "markdown",
   "metadata": {},
   "source": [
    "### <font color=firebrick> Functions\n",
    "***"
   ]
  },
  {
   "cell_type": "code",
   "execution_count": 9,
   "metadata": {},
   "outputs": [],
   "source": [
    "def select_and_save_frame_from_videos_in_path(path):\n",
    "    \n",
    "    '''\n",
    "    Find first frame of each video a save it as a .jpg image\n",
    "    '''\n",
    "    # Get the video list\n",
    "    video_list = get_file_list(video_files_path, \"*.avi\")\n",
    "    \n",
    "    # Create each video path\n",
    "    for video in video_list:\n",
    "        \n",
    "        video_path = os.path.join(video_files_path, video)\n",
    "      \n",
    "        # Open the video\n",
    "        cap = cv2.VideoCapture(video_path)\n",
    "            \n",
    "        # Read the first frame of the video (usually the brighter)\n",
    "        cap.set(1, 0)\n",
    "        success, image = cap.read()\n",
    "            \n",
    "        # Saves the frame with video tag and frame number\n",
    "        match = re.search(r\"(.+)(?=.avi)\", video)\n",
    "            \n",
    "        path = os.path.join(\n",
    "                video_files_path, \n",
    "                \"ROI_Frames\", \n",
    "                \"%s_1stframe.jpg\"%match.group(0)\n",
    "        )\n",
    "                \n",
    "        cv2.imwrite(path, image)\n",
    "        cap.release() \n",
    "        \n",
    "def collect_rois_df(video_files_path, filename, ratcode):\n",
    "\n",
    "    '''\n",
    "    Opens all .jpg frames from the given path and allows the selection of ROIs upon mouse click.\n",
    "    Click enter to lock the ROI selection and 's' to stop the loop.\n",
    "    '''\n",
    "    frame_path = os.path.join(video_files_path, \"ROI_Frames\")\n",
    "    frame_list = get_file_list(frame_path, \"*.jpg\")\n",
    "    all_rois = []\n",
    "\n",
    "    for frame in frame_list:\n",
    "        \n",
    "        # Open image object (an numpy array)\n",
    "        single_frame_path = os.path.join(frame_path, frame)\n",
    "        img = cv2.imread(single_frame_path)\n",
    "        # Select a ROI using the mouse and save coordinates in tuple and add it to a list\n",
    "        roi = cv2.selectROI(str(frame), img)\n",
    "        \n",
    "        session=re.search(r\"((\\d+-){2}\\d+T(\\d+_){2}\\d+)\",frame)\n",
    "        roi=roi+(session.group(0),) \n",
    "        \n",
    "        try:\n",
    "            all_rois.append(roi)\n",
    "        except:\n",
    "            all_rois = roi\n",
    "            \n",
    "        # Keep the image window open until a key (any key is pressed). If 's' key is pressed, \n",
    "        # break the loop and empty all_rois \n",
    "        k = cv2.waitKey(0)  \n",
    "        if k:\n",
    "            cv2.destroyWindow(str(frame))     \n",
    "            if k==115:\n",
    "                break\n",
    "                all_rois=[]      \n",
    "        \n",
    "    cv2.destroyAllWindows()\n",
    "    \n",
    "    #Convert into a DataFrame and save it into a .csv file\n",
    "    all_rois_df = pd.DataFrame(all_rois, columns=['x', 'y', 'width', 'height', 'session'])                    \n",
    "    \n",
    "    path=os.path.join(video_files_path, \"ROIS\", \"%s_%s.csv\"%(ratcode, filename))\n",
    "    all_rois_df.to_csv(path,header=True)"
   ]
  },
  {
   "cell_type": "markdown",
   "metadata": {},
   "source": [
    "## <font color=mediumseagreen> Random selection of frames per video\n",
    "\n",
    "***\n",
    "   #### Add the video files path. Create two folders: ROIS and ROI_Frames\n"
   ]
  },
  {
   "cell_type": "code",
   "execution_count": 10,
   "metadata": {},
   "outputs": [],
   "source": [
    "try:\n",
    "    os.mkdir(os.path.join(video_files_path, \"ROIS\"))\n",
    "    os.mkdir(os.path.join(video_files_path, \"ROI_Frames\"))\n",
    "except:\n",
    "    pass\n",
    "\n",
    "match = re.search(r\"_(\\w+\\d+)\", video_files_path)\n",
    "ratcode=match.group(1)"
   ]
  },
  {
   "cell_type": "code",
   "execution_count": 11,
   "metadata": {},
   "outputs": [
    {
     "name": "stdout",
     "output_type": "stream",
     "text": [
      "Directory is empty. Selecting the 1st frame from the videos\n"
     ]
    }
   ],
   "source": [
    "# Only select and save frames from videos if the directory frame path is empty\n",
    "frame_path = os.path.join(video_files_path, \"ROI_Frames\")\n",
    "   \n",
    "if not os.listdir(frame_path):    \n",
    "    print(\"Directory is empty. Selecting the 1st frame from the videos\")\n",
    "    select_and_save_frame_from_videos_in_path(video_files_path)   \n",
    "else:    \n",
    "    print(\"Directory is not empty. No selection of frames from videos\")  \n"
   ]
  },
  {
   "cell_type": "markdown",
   "metadata": {},
   "source": [
    "## <font color=mediumseagreen> Collect and save the ROIS coordinates for RW1, RW2 and CP (in px). Visually inspect them\n",
    "\n",
    "***\n",
    "   #### Click enter to lock the ROI selection and 's' to stop the loop."
   ]
  },
  {
   "cell_type": "markdown",
   "metadata": {},
   "source": [
    "### <font color=orange> RW1 ROI "
   ]
  },
  {
   "cell_type": "code",
   "execution_count": 12,
   "metadata": {},
   "outputs": [],
   "source": [
    "# Collect RW1 roi from video frames and save it to a csv in video_files_path\n",
    "collect_rois_df(video_files_path, 'rw1_rois_px', ratcode)"
   ]
  },
  {
   "cell_type": "code",
   "execution_count": 13,
   "metadata": {},
   "outputs": [
    {
     "data": {
      "image/png": "[encoded data removed]",
      "text/plain": [
       "<Figure size 432x288 with 1 Axes>"
      ]
     },
     "metadata": {
      "needs_background": "light"
     },
     "output_type": "display_data"
    }
   ],
   "source": [
    "# Check the variability for the RW1 ROI x coordinate\n",
    "rw1_rois_px = pd.read_csv(os.path.join(video_files_path, \"ROIS\", \"%s_rw1_rois_px.csv\"%ratcode), header=0, index_col=0)\n",
    "\n",
    "fig = plt.Figure(figsize=(5,5))\n",
    "sns.stripplot(data=rw1_rois_px, x='x', color='black')\n",
    "sns.boxplot(data=rw1_rois_px, x='x', color='lightyellow')\n",
    "plt.savefig(os.path.join(video_files_path,\"ROIS\", \"%s_rw1_rois_px_variabilities.png\"%ratcode))\n",
    "sns.despine()"
   ]
  },
  {
   "cell_type": "markdown",
   "metadata": {},
   "source": [
    "### <font color=orange> Choice point ROI"
   ]
  },
  {
   "cell_type": "code",
   "execution_count": 14,
   "metadata": {},
   "outputs": [],
   "source": [
    "# Collect CP from video frames\n",
    "collect_rois_df(video_files_path, 'cp_rois_px', ratcode)"
   ]
  },
  {
   "cell_type": "code",
   "execution_count": 15,
   "metadata": {},
   "outputs": [
    {
     "data": {
      "image/png": "[encoded data removed]",
      "text/plain": [
       "<Figure size 576x576 with 4 Axes>"
      ]
     },
     "metadata": {
      "needs_background": "light"
     },
     "output_type": "display_data"
    }
   ],
   "source": [
    "#Check the variability for the CP ROI coordinates and size\n",
    "cp_rois_px = pd.read_csv(os.path.join(video_files_path, \"ROIS\", \"%s_cp_rois_px.csv\"%ratcode), header=0, index_col=0)\n",
    "\n",
    "fig, ((ax1, ax2), (ax3, ax4)) = plt.subplots(2, 2, figsize=(8,8))\n",
    "cp_rois_px = cp_rois_px.mask(cp_rois_px['x']==0, cp_rois_px['x'].median())\n",
    "\n",
    "sns.stripplot(data=cp_rois_px, x='x', color='black', ax=ax1)\n",
    "ax1 = sns.boxplot(data=cp_rois_px, x='x', color='lightyellow', ax=ax1)\n",
    "\n",
    "ax2 = sns.stripplot(data=cp_rois_px, x='y', color='black', ax=ax2)\n",
    "ax2 = sns.boxplot(data=cp_rois_px, x='y', color='lightgreen', ax=ax2)\n",
    "\n",
    "ax3 = sns.stripplot(data=cp_rois_px, x='width', color='black', ax=ax3)\n",
    "ax3 = sns.boxplot(data=cp_rois_px, x='width', color='lightblue', ax=ax3)\n",
    "\n",
    "ax4 = sns.stripplot(data=cp_rois_px, x='height', color='black',ax=ax4)\n",
    "ax4 = sns.boxplot(data=cp_rois_px, x='height', color='mistyrose', ax=ax4)\n",
    "\n",
    "sns.despine()\n",
    "plt.savefig(os.path.join(video_files_path,\"ROIS\", \"%s_cp_rois_px_variabilities.png\"%ratcode))"
   ]
  },
  {
   "cell_type": "markdown",
   "metadata": {},
   "source": [
    "### <font color=orange> RW2 port ROI x coordinate"
   ]
  },
  {
   "cell_type": "code",
   "execution_count": 17,
   "metadata": {},
   "outputs": [],
   "source": [
    "# Collect RW2 roi from video frames\n",
    "collect_rois_df(video_files_path, 'rw2_rois_px', ratcode)"
   ]
  },
  {
   "cell_type": "code",
   "execution_count": 18,
   "metadata": {},
   "outputs": [
    {
     "data": {
      "image/png": "[encoded data removed]",
      "text/plain": [
       "<Figure size 432x288 with 1 Axes>"
      ]
     },
     "metadata": {
      "needs_background": "light"
     },
     "output_type": "display_data"
    }
   ],
   "source": [
    "#Check the variability for the RW1 ROI x coordinate\n",
    "rw2_rois_px = pd.read_csv(os.path.join(video_files_path, \"ROIS\", \"%s_rw2_rois_px.csv\"%ratcode), header=0, index_col=0)\n",
    "\n",
    "fig = plt.Figure(figsize=(5,5))\n",
    "sns.stripplot(data=rw2_rois_px, x='x', color='black')\n",
    "sns.boxplot(data=rw2_rois_px, x='x', color='lightyellow')\n",
    "plt.savefig(os.path.join(video_files_path,\"ROIS\", \"%s_rw2_rois_px_variabilities.png\"%ratcode))\n",
    "sns.despine()"
   ]
  },
  {
   "cell_type": "markdown",
   "metadata": {},
   "source": [
    "## <font color=mediumseagreen> Convert ROIs to CROP POLYGON measurments (adjustment of window pxs)\n",
    "\n",
    "***\n",
    "   #### Confirm the crop_polygon file path (where the window measurments are stored and mapped to rat if needed)"
   ]
  },
  {
   "cell_type": "code",
   "execution_count": 19,
   "metadata": {},
   "outputs": [],
   "source": [
    "# Open crop_polygon measurments file\n",
    "crop_polygon_file_path = \"E:\\MAZE_MEASURMENTS\\CROP_POLYGON_TO_RAT_MAPPING.csv\"\n",
    "crop_polygon_measures = pd.read_csv(crop_polygon_file_path, header=0)\n",
    "\n",
    "# Find the measurments mapped to the rat data being analyzed  \n",
    "crop_poly_rat = crop_polygon_measures[crop_polygon_measures['rat'] == ratcode]"
   ]
  },
  {
   "cell_type": "code",
   "execution_count": 20,
   "metadata": {},
   "outputs": [],
   "source": [
    "cp_rois_px = pd.read_csv(os.path.join(video_files_path, \"ROIS\", \"%s_cp_rois_px.csv\"%ratcode), header=0, index_col=0)\n",
    "rw1_rois_px = pd.read_csv(os.path.join(video_files_path, \"ROIS\", \"%s_rw1_rois_px.csv\"%ratcode), header=0, index_col=0)\n",
    "rw2_rois_px = pd.read_csv(os.path.join(video_files_path, \"ROIS\", \"%s_rw2_rois_px.csv\"%ratcode), header=0, index_col=0)"
   ]
  },
  {
   "cell_type": "code",
   "execution_count": 21,
   "metadata": {},
   "outputs": [
    {
     "name": "stdout",
     "output_type": "stream",
     "text": [
      "Conversion to crop polygon window measurments done!\n",
      "Conversion to crop polygon window measurments done!\n",
      "Conversion to crop polygon window measurments done!\n",
      "Conversion to crop polygon window measurments done!\n"
     ]
    }
   ],
   "source": [
    "def convert_coord(df1, df2):\n",
    "    df3 = df1.copy()\n",
    "    \n",
    "    df3['x'] = df1['x'] - df2['xmin'].iloc[0]\n",
    "    df3['y'] = df1['y'] - df2['ymin'].iloc[0]\n",
    "        \n",
    "    print('Conversion to crop polygon window measurments done!')\n",
    "    return df3\n",
    "\n",
    "#Convert to crop_polygon window\n",
    "rw1_rois_convert = convert_coord(rw1_rois_px, crop_poly_rat)\n",
    "rw2_rois_convert = convert_coord(rw2_rois_px, crop_poly_rat)\n",
    "cp_rois_convert = convert_coord(cp_rois_px, crop_poly_rat)\n",
    "cp_rois_convert = convert_coord(cp_rois_px, crop_poly_rat)"
   ]
  },
  {
   "cell_type": "markdown",
   "metadata": {},
   "source": [
    "## <font color=mediumseagreen> Convert measurments from pixels (px) to cm\n",
    "***"
   ]
  },
  {
   "cell_type": "code",
   "execution_count": 22,
   "metadata": {},
   "outputs": [],
   "source": [
    "def convert_px_to_cm(df, ratcode,filename):\n",
    "    \n",
    "    df_numeric = df.select_dtypes(include=['int64'])\n",
    "    \n",
    "    # Convert df data from px to cm\n",
    "    df_numeric = (df_numeric*10)/50\n",
    "    df_numeric['session'] = df['session']\n",
    "    \n",
    "    #Save df\n",
    "    path=os.path.join(video_files_path, \"ROIS\", \"%s_%s.csv\"%(ratcode, filename))    \n",
    "    df_numeric.to_csv(path,header=True)\n",
    "    \n",
    "    return df_numeric\n",
    "\n",
    "#Convert pixels to cm (50 px = 10 cm)\n",
    "rw1_rois = convert_px_to_cm(rw1_rois_convert, ratcode, 'rw1_rois_converted')\n",
    "rw2_rois = convert_px_to_cm(rw2_rois_convert, ratcode, 'rw2_rois_converted')\n",
    "cp_rois = convert_px_to_cm(cp_rois_convert, ratcode, 'cp_rois_converted')"
   ]
  },
  {
   "cell_type": "code",
   "execution_count": 23,
   "metadata": {},
   "outputs": [
    {
     "data": {
      "image/png": "[encoded data removed]",
      "text/plain": [
       "<Figure size 432x288 with 1 Axes>"
      ]
     },
     "metadata": {
      "needs_background": "light"
     },
     "output_type": "display_data"
    }
   ],
   "source": [
    "#Check the variability for the RW1 ROI x coordinate\n",
    "fig = plt.Figure(figsize=(5,5))\n",
    "sns.stripplot(data=rw1_rois, x='x', color='black')\n",
    "sns.boxplot(data=rw1_rois, x='x', color='lightyellow')\n",
    "plt.savefig(os.path.join(video_files_path,\"ROIS\", \"%s_rw1_rois_converted_variabilities.png\"%ratcode))\n",
    "sns.despine()"
   ]
  },
  {
   "cell_type": "code",
   "execution_count": 24,
   "metadata": {},
   "outputs": [
    {
     "data": {
      "image/png": "[encoded data removed]",
      "text/plain": [
       "<Figure size 432x288 with 1 Axes>"
      ]
     },
     "metadata": {
      "needs_background": "light"
     },
     "output_type": "display_data"
    }
   ],
   "source": [
    "#Check the variability for the RW2 ROI x coordinate\n",
    "fig = plt.Figure(figsize=(5,5))\n",
    "sns.stripplot(data=rw2_rois, x='x', color='black')\n",
    "sns.boxplot(data=rw2_rois, x='x', color='lightgreen')\n",
    "plt.savefig(os.path.join(video_files_path,\"ROIS\", \"%s_rw2_rois_converted_variabilities.png\"%ratcode))\n",
    "sns.despine()"
   ]
  },
  {
   "cell_type": "code",
   "execution_count": 25,
   "metadata": {},
   "outputs": [
    {
     "data": {
      "image/png": "[encoded data removed]",
      "text/plain": [
       "<Figure size 576x576 with 4 Axes>"
      ]
     },
     "metadata": {
      "needs_background": "light"
     },
     "output_type": "display_data"
    }
   ],
   "source": [
    "#Check the variability for the CP ROI coordinates and size upon conversion\n",
    "fig, ((ax1, ax2), (ax3, ax4)) = plt.subplots(2, 2, figsize=(8,8))\n",
    "\n",
    "sns.stripplot(data=cp_rois, x='x', color='black', ax=ax1)\n",
    "ax1 = sns.boxplot(data=cp_rois, x='x', color='lightyellow', ax=ax1)\n",
    "\n",
    "ax2 = sns.stripplot(data=cp_rois, x='y', color='black', ax=ax2)\n",
    "ax2 = sns.boxplot(data=cp_rois, x='y', color='lightgreen', ax=ax2)\n",
    "\n",
    "ax3 = sns.stripplot(data=cp_rois, x='width', color='black', ax=ax3)\n",
    "ax3 = sns.boxplot(data=cp_rois, x='width', color='lightblue', ax=ax3)\n",
    "\n",
    "ax4 = sns.stripplot(data=cp_rois, x='height', color='black',ax=ax4)\n",
    "ax4 = sns.boxplot(data=cp_rois, x='height', color='mistyrose', ax=ax4)\n",
    "\n",
    "sns.despine()\n",
    "plt.savefig(os.path.join(video_files_path,\"ROIS\", \"%s_cp_rois_converted_variabilities.png\"%ratcode))"
   ]
  },
  {
   "cell_type": "code",
   "execution_count": null,
   "metadata": {},
   "outputs": [],
   "source": []
  }
 ],
 "metadata": {
  "kernelspec": {
   "display_name": "Python 3",
   "language": "python",
   "name": "python3"
  },
  "language_info": {
   "codemirror_mode": {
    "name": "ipython",
    "version": 3
   },
   "file_extension": ".py",
   "mimetype": "text/x-python",
   "name": "python",
   "nbconvert_exporter": "python",
   "pygments_lexer": "ipython3",
   "version": "3.8.8"
  }
 },
 "nbformat": 4,
 "nbformat_minor": 4
}
