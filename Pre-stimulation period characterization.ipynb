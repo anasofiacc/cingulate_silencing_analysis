{
 "cells": [
  {
   "cell_type": "markdown",
   "metadata": {},
   "source": [
    "# <font color='royalblue'> Pre-stimulation period characterization"
   ]
  },
  {
   "cell_type": "code",
   "execution_count": 49,
   "metadata": {},
   "outputs": [],
   "source": [
    "import pandas as pd\n",
    "import seaborn as sns\n",
    "import matplotlib.pyplot as plt\n",
    "%matplotlib inline\n",
    "%run data_prep_functions.ipynb"
   ]
  },
  {
   "cell_type": "code",
   "execution_count": 95,
   "metadata": {},
   "outputs": [],
   "source": [
    "# Learning curves\n",
    "lc = pd.read_csv('E:\\learning_curves_all_rats.csv', header=0)\n",
    "\n",
    "# Test runs - for performance and latency calculations\n",
    "test_runs = pd.read_csv(\"E:\\POSITION DATA\\PRE PROCESSED/test_runs.csv\")\n",
    "below15_runs = pd.read_csv(\"E:\\POSITION DATA\\PRE PROCESSED/below15_runs.csv\")"
   ]
  },
  {
   "cell_type": "markdown",
   "metadata": {},
   "source": [
    "### Learning curves "
   ]
  },
  {
   "cell_type": "code",
   "execution_count": 93,
   "metadata": {
    "scrolled": true
   },
   "outputs": [
    {
     "data": {
      "text/html": [
       "<div>\n",
       "<style scoped>\n",
       "    .dataframe tbody tr th:only-of-type {\n",
       "        vertical-align: middle;\n",
       "    }\n",
       "\n",
       "    .dataframe tbody tr th {\n",
       "        vertical-align: top;\n",
       "    }\n",
       "\n",
       "    .dataframe thead th {\n",
       "        text-align: right;\n",
       "    }\n",
       "</style>\n",
       "<table border=\"1\" class=\"dataframe\">\n",
       "  <thead>\n",
       "    <tr style=\"text-align: right;\">\n",
       "      <th></th>\n",
       "      <th>SESSION</th>\n",
       "      <th>RAT</th>\n",
       "      <th>PERF</th>\n",
       "    </tr>\n",
       "  </thead>\n",
       "  <tbody>\n",
       "    <tr>\n",
       "      <th>0</th>\n",
       "      <td>-10</td>\n",
       "      <td>NPHR4</td>\n",
       "      <td>70.0</td>\n",
       "    </tr>\n",
       "    <tr>\n",
       "      <th>1</th>\n",
       "      <td>-9</td>\n",
       "      <td>NPHR4</td>\n",
       "      <td>77.0</td>\n",
       "    </tr>\n",
       "    <tr>\n",
       "      <th>2</th>\n",
       "      <td>-8</td>\n",
       "      <td>NPHR4</td>\n",
       "      <td>70.0</td>\n",
       "    </tr>\n",
       "    <tr>\n",
       "      <th>3</th>\n",
       "      <td>-7</td>\n",
       "      <td>NPHR4</td>\n",
       "      <td>70.0</td>\n",
       "    </tr>\n",
       "    <tr>\n",
       "      <th>4</th>\n",
       "      <td>-6</td>\n",
       "      <td>NPHR4</td>\n",
       "      <td>77.0</td>\n",
       "    </tr>\n",
       "  </tbody>\n",
       "</table>\n",
       "</div>"
      ],
      "text/plain": [
       "   SESSION    RAT  PERF\n",
       "0      -10  NPHR4  70.0\n",
       "1       -9  NPHR4  77.0\n",
       "2       -8  NPHR4  70.0\n",
       "3       -7  NPHR4  70.0\n",
       "4       -6  NPHR4  77.0"
      ]
     },
     "execution_count": 93,
     "metadata": {},
     "output_type": "execute_result"
    }
   ],
   "source": [
    "lc=pd.melt(lc, id_vars=['SESSION'], var_name=['RAT'], value_name='PERF')\n",
    "lc.head()"
   ]
  },
  {
   "cell_type": "code",
   "execution_count": 94,
   "metadata": {
    "scrolled": false
   },
   "outputs": [
    {
     "name": "stderr",
     "output_type": "stream",
     "text": [
      "<ipython-input-94-dfd7182300f8>:8: UserWarning: FixedFormatter should only be used together with FixedLocator\n",
      "  a.set(ylim=[0,100], xlim=[-10,-1], ylabel='Performance(%)+/- st.d.', xlabel='sessions before the protocol',\n"
     ]
    },
    {
     "data": {
      "image/png": "[encoded data removed]",
      "text/plain": [
       "<Figure size 360x288 with 1 Axes>"
      ]
     },
     "metadata": {},
     "output_type": "display_data"
    }
   ],
   "source": [
    "sns.set(style=\"white\", context='talk')\n",
    "plt.figure(figsize=(5,4))\n",
    "\n",
    "a = sns.lineplot(\n",
    "    data=lc, y='PERF', x='SESSION', color='gray',\n",
    "    ci='sd', linewidth=2, legend=False)\n",
    "plt.axhline(75,linestyle='dashed', c='black', linewidth=.8)\n",
    "a.set(ylim=[0,100], xlim=[-10,-1], ylabel='Performance(%)+/- st.d.', xlabel='sessions before the protocol',\n",
    "     xticklabels=range(-10,0,1), xticks=range(-10,0,1))\n",
    "sns.despine()"
   ]
  },
  {
   "cell_type": "markdown",
   "metadata": {},
   "source": [
    "### Performance of groups "
   ]
  },
  {
   "cell_type": "code",
   "execution_count": 84,
   "metadata": {},
   "outputs": [],
   "source": [
    "prestim_runs = test_runs[test_runs['stim_condition']==-1]"
   ]
  },
  {
   "cell_type": "code",
   "execution_count": 85,
   "metadata": {},
   "outputs": [
    {
     "data": {
      "text/html": [
       "<div>\n",
       "<style scoped>\n",
       "    .dataframe tbody tr th:only-of-type {\n",
       "        vertical-align: middle;\n",
       "    }\n",
       "\n",
       "    .dataframe tbody tr th {\n",
       "        vertical-align: top;\n",
       "    }\n",
       "\n",
       "    .dataframe thead th {\n",
       "        text-align: right;\n",
       "    }\n",
       "</style>\n",
       "<table border=\"1\" class=\"dataframe\">\n",
       "  <thead>\n",
       "    <tr style=\"text-align: right;\">\n",
       "      <th></th>\n",
       "      <th>session</th>\n",
       "      <th>rat</th>\n",
       "      <th>run_nr</th>\n",
       "      <th>start_timestamp</th>\n",
       "      <th>run_type</th>\n",
       "      <th>stim_condition</th>\n",
       "      <th>outcome</th>\n",
       "      <th>group</th>\n",
       "      <th>cp_entry_timestamp</th>\n",
       "      <th>cp_exit_timestamp</th>\n",
       "      <th>latency_to_cp_entry</th>\n",
       "      <th>latency_to_cp_exit</th>\n",
       "      <th>time_in_cp</th>\n",
       "    </tr>\n",
       "  </thead>\n",
       "  <tbody>\n",
       "    <tr>\n",
       "      <th>164</th>\n",
       "      <td>2019-09-23T11_17_17</td>\n",
       "      <td>NPHR2</td>\n",
       "      <td>13.0</td>\n",
       "      <td>341.496461</td>\n",
       "      <td>T</td>\n",
       "      <td>-1</td>\n",
       "      <td>1.0</td>\n",
       "      <td>NPHR</td>\n",
       "      <td>448.159398</td>\n",
       "      <td>454.176358</td>\n",
       "      <td>106.662938</td>\n",
       "      <td>112.679898</td>\n",
       "      <td>6.016960</td>\n",
       "    </tr>\n",
       "    <tr>\n",
       "      <th>165</th>\n",
       "      <td>2019-09-23T11_17_17</td>\n",
       "      <td>NPHR2</td>\n",
       "      <td>15.0</td>\n",
       "      <td>619.674240</td>\n",
       "      <td>T</td>\n",
       "      <td>-1</td>\n",
       "      <td>1.0</td>\n",
       "      <td>NPHR</td>\n",
       "      <td>716.528026</td>\n",
       "      <td>721.910374</td>\n",
       "      <td>96.853786</td>\n",
       "      <td>102.236134</td>\n",
       "      <td>5.382349</td>\n",
       "    </tr>\n",
       "    <tr>\n",
       "      <th>166</th>\n",
       "      <td>2019-09-23T11_17_17</td>\n",
       "      <td>NPHR2</td>\n",
       "      <td>17.0</td>\n",
       "      <td>973.039245</td>\n",
       "      <td>T</td>\n",
       "      <td>-1</td>\n",
       "      <td>1.0</td>\n",
       "      <td>NPHR</td>\n",
       "      <td>1135.724877</td>\n",
       "      <td>1138.542259</td>\n",
       "      <td>162.685632</td>\n",
       "      <td>165.503014</td>\n",
       "      <td>2.817382</td>\n",
       "    </tr>\n",
       "    <tr>\n",
       "      <th>167</th>\n",
       "      <td>2019-09-23T11_17_17</td>\n",
       "      <td>NPHR2</td>\n",
       "      <td>19.0</td>\n",
       "      <td>1267.451738</td>\n",
       "      <td>T</td>\n",
       "      <td>-1</td>\n",
       "      <td>1.0</td>\n",
       "      <td>NPHR</td>\n",
       "      <td>1299.906368</td>\n",
       "      <td>1308.647603</td>\n",
       "      <td>32.454630</td>\n",
       "      <td>41.195866</td>\n",
       "      <td>8.741235</td>\n",
       "    </tr>\n",
       "    <tr>\n",
       "      <th>168</th>\n",
       "      <td>2019-09-23T11_17_17</td>\n",
       "      <td>NPHR2</td>\n",
       "      <td>21.0</td>\n",
       "      <td>1548.809088</td>\n",
       "      <td>T</td>\n",
       "      <td>-1</td>\n",
       "      <td>1.0</td>\n",
       "      <td>NPHR</td>\n",
       "      <td>1665.640986</td>\n",
       "      <td>1666.832717</td>\n",
       "      <td>116.831898</td>\n",
       "      <td>118.023629</td>\n",
       "      <td>1.191731</td>\n",
       "    </tr>\n",
       "  </tbody>\n",
       "</table>\n",
       "</div>"
      ],
      "text/plain": [
       "                 session    rat  run_nr  start_timestamp run_type  \\\n",
       "164  2019-09-23T11_17_17  NPHR2    13.0       341.496461        T   \n",
       "165  2019-09-23T11_17_17  NPHR2    15.0       619.674240        T   \n",
       "166  2019-09-23T11_17_17  NPHR2    17.0       973.039245        T   \n",
       "167  2019-09-23T11_17_17  NPHR2    19.0      1267.451738        T   \n",
       "168  2019-09-23T11_17_17  NPHR2    21.0      1548.809088        T   \n",
       "\n",
       "     stim_condition  outcome group  cp_entry_timestamp  cp_exit_timestamp  \\\n",
       "164              -1      1.0  NPHR          448.159398         454.176358   \n",
       "165              -1      1.0  NPHR          716.528026         721.910374   \n",
       "166              -1      1.0  NPHR         1135.724877        1138.542259   \n",
       "167              -1      1.0  NPHR         1299.906368        1308.647603   \n",
       "168              -1      1.0  NPHR         1665.640986        1666.832717   \n",
       "\n",
       "     latency_to_cp_entry  latency_to_cp_exit  time_in_cp  \n",
       "164           106.662938          112.679898    6.016960  \n",
       "165            96.853786          102.236134    5.382349  \n",
       "166           162.685632          165.503014    2.817382  \n",
       "167            32.454630           41.195866    8.741235  \n",
       "168           116.831898          118.023629    1.191731  "
      ]
     },
     "execution_count": 85,
     "metadata": {},
     "output_type": "execute_result"
    }
   ],
   "source": [
    "prestim_runs.head()"
   ]
  },
  {
   "cell_type": "code",
   "execution_count": 86,
   "metadata": {},
   "outputs": [],
   "source": [
    "prestim_perf = prestim_runs.groupby(['group','rat']).apply(calc_performance_in_group).reset_index()\n",
    "prestim_perf.rename({0:'performance'}, axis=1, inplace=True)"
   ]
  },
  {
   "cell_type": "code",
   "execution_count": 97,
   "metadata": {},
   "outputs": [
    {
     "data": {
      "image/png": "[encoded data removed]",
      "text/plain": [
       "<Figure size 432x288 with 1 Axes>"
      ]
     },
     "metadata": {},
     "output_type": "display_data"
    }
   ],
   "source": [
    "sns.set(style=\"white\", context='talk')    \n",
    "plt.figure(figsize=(6,4))\n",
    "\n",
    "g = sns.stripplot(\n",
    "    x='group', y='performance', \n",
    "    data=prestim_perf, dodge=1, jitter=.05,\n",
    "    alpha=.3, s=8, palette=['gray'],\n",
    ")\n",
    "\n",
    "# Show means\n",
    "sns.pointplot(\n",
    "    x='group', y='performance', data=prestim_perf,\n",
    "    dodge=.4, join=False, markers=\"o\", scale=.8,\n",
    "    ci=\"sd\", errwidth=1.4, palette=['gray'],\n",
    "    \n",
    ")\n",
    "g.set(\n",
    "    ylabel='Performance(%) +/- sd.', xlabel='Group',\n",
    "    ylim=(0, 100), xlim=(-0.6, 1.5), xticklabels=['NpHR-', 'NpHR+'])\n",
    "\n",
    "sns.despine()"
   ]
  },
  {
   "cell_type": "markdown",
   "metadata": {},
   "source": [
    "### Latency distributions"
   ]
  },
  {
   "cell_type": "code",
   "execution_count": 115,
   "metadata": {},
   "outputs": [
    {
     "data": {
      "image/png": "[encoded data removed]",
      "text/plain": [
       "<Figure size 459.375x288 with 1 Axes>"
      ]
     },
     "metadata": {},
     "output_type": "display_data"
    }
   ],
   "source": [
    "below15_runs = below15_runs[below15_runs['stim_condition']==-1]\n",
    "sns.set(style='white', context='talk')\n",
    "\n",
    "g = sns.displot(kind='hist', data=below15_runs, x='latency_to_cp_entry', \n",
    "                hue=below15_runs['group'].map({'CTRL':'NpHR-', 'NPHR':'NpHR+'}),\n",
    "                stat='probability', element='step', palette=['lightseagreen', 'orange'], \n",
    "                bins=60, alpha=.2, height=4, aspect=1.2, linewidth=2)\n",
    "g.set(xlabel='Latency(s)', xticks=range(0,16,2), xticklabels=range(0,16,2))\n",
    "g._legend.set(title='Group')\n",
    "sns.despine()"
   ]
  },
  {
   "cell_type": "code",
   "execution_count": 110,
   "metadata": {},
   "outputs": [
    {
     "name": "stdout",
     "output_type": "stream",
     "text": [
      "172453.0 0.37319886831919724\n"
     ]
    }
   ],
   "source": [
    "from scipy.stats import mannwhitneyu\n",
    "ctrls = below15_runs[below15_runs['group']=='CTRL']\n",
    "nphrs = below15_runs[below15_runs['group']=='NPHR']\n",
    "\n",
    "u,p = mannwhitneyu(ctrls['latency_to_cp_entry'], nphrs['latency_to_cp_entry'])\n",
    "print(u,p)"
   ]
  },
  {
   "cell_type": "code",
   "execution_count": null,
   "metadata": {},
   "outputs": [],
   "source": []
  }
 ],
 "metadata": {
  "kernelspec": {
   "display_name": "Python 3",
   "language": "python",
   "name": "python3"
  },
  "language_info": {
   "codemirror_mode": {
    "name": "ipython",
    "version": 3
   },
   "file_extension": ".py",
   "mimetype": "text/x-python",
   "name": "python",
   "nbconvert_exporter": "python",
   "pygments_lexer": "ipython3",
   "version": "3.8.8"
  }
 },
 "nbformat": 4,
 "nbformat_minor": 4
}
