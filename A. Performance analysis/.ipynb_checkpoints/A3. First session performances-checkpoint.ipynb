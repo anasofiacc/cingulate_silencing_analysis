{
 "cells": [
  {
   "cell_type": "code",
   "execution_count": 2,
   "metadata": {},
   "outputs": [],
   "source": [
    "# Import modules \n",
    "import pandas as pd\n",
    "import numpy as np\n",
    "import seaborn as sns\n",
    "import os\n",
    "import re\n",
    "import matplotlib.pyplot as plt\n",
    "from scipy.stats import shapiro, wilcoxon, mannwhitneyu\n",
    "\n",
    "%matplotlib inline\n",
    "%run \"C:\\Users\\anasofiaccruz\\Desktop\\cingulate_silencing_repo\\data_prep_functions.ipynb\"\n",
    "%run \"C:\\Users\\anasofiaccruz\\Desktop\\cingulate_silencing_repo\\data_analysis_functions.ipynb\""
   ]
  },
  {
   "cell_type": "markdown",
   "metadata": {},
   "source": [
    "#### <font color='darkorange'> Read the data (test runs below 15 seconds)"
   ]
  },
  {
   "cell_type": "code",
   "execution_count": 7,
   "metadata": {},
   "outputs": [
    {
     "data": {
      "text/html": [
       "<div>\n",
       "<style scoped>\n",
       "    .dataframe tbody tr th:only-of-type {\n",
       "        vertical-align: middle;\n",
       "    }\n",
       "\n",
       "    .dataframe tbody tr th {\n",
       "        vertical-align: top;\n",
       "    }\n",
       "\n",
       "    .dataframe thead th {\n",
       "        text-align: right;\n",
       "    }\n",
       "</style>\n",
       "<table border=\"1\" class=\"dataframe\">\n",
       "  <thead>\n",
       "    <tr style=\"text-align: right;\">\n",
       "      <th></th>\n",
       "      <th>session</th>\n",
       "      <th>rat</th>\n",
       "      <th>run_nr</th>\n",
       "      <th>start_timestamp</th>\n",
       "      <th>run_type</th>\n",
       "      <th>stim_condition</th>\n",
       "      <th>outcome</th>\n",
       "      <th>group</th>\n",
       "      <th>cp_entry_timestamp</th>\n",
       "      <th>cp_exit_timestamp</th>\n",
       "      <th>latency_to_cp_entry</th>\n",
       "      <th>latency_to_cp_exit</th>\n",
       "      <th>time_in_cp</th>\n",
       "    </tr>\n",
       "  </thead>\n",
       "  <tbody>\n",
       "    <tr>\n",
       "      <th>0</th>\n",
       "      <td>2019-08-08T12_41_07</td>\n",
       "      <td>NPHR1</td>\n",
       "      <td>6.0</td>\n",
       "      <td>368.579635</td>\n",
       "      <td>T</td>\n",
       "      <td>1</td>\n",
       "      <td>1.0</td>\n",
       "      <td>NPHR</td>\n",
       "      <td>371.569088</td>\n",
       "      <td>372.640947</td>\n",
       "      <td>2.989453</td>\n",
       "      <td>4.061312</td>\n",
       "      <td>1.071859</td>\n",
       "    </tr>\n",
       "    <tr>\n",
       "      <th>1</th>\n",
       "      <td>2019-08-08T12_41_07</td>\n",
       "      <td>NPHR1</td>\n",
       "      <td>10.0</td>\n",
       "      <td>751.518003</td>\n",
       "      <td>T</td>\n",
       "      <td>3</td>\n",
       "      <td>1.0</td>\n",
       "      <td>NPHR</td>\n",
       "      <td>755.435469</td>\n",
       "      <td>756.431386</td>\n",
       "      <td>3.917466</td>\n",
       "      <td>4.913382</td>\n",
       "      <td>0.995917</td>\n",
       "    </tr>\n",
       "    <tr>\n",
       "      <th>2</th>\n",
       "      <td>2019-08-08T12_41_07</td>\n",
       "      <td>NPHR1</td>\n",
       "      <td>14.0</td>\n",
       "      <td>954.084992</td>\n",
       "      <td>T</td>\n",
       "      <td>3</td>\n",
       "      <td>0.0</td>\n",
       "      <td>NPHR</td>\n",
       "      <td>957.866982</td>\n",
       "      <td>958.900954</td>\n",
       "      <td>3.781990</td>\n",
       "      <td>4.815962</td>\n",
       "      <td>1.033971</td>\n",
       "    </tr>\n",
       "  </tbody>\n",
       "</table>\n",
       "</div>"
      ],
      "text/plain": [
       "               session    rat  run_nr  start_timestamp run_type  \\\n",
       "0  2019-08-08T12_41_07  NPHR1     6.0       368.579635        T   \n",
       "1  2019-08-08T12_41_07  NPHR1    10.0       751.518003        T   \n",
       "2  2019-08-08T12_41_07  NPHR1    14.0       954.084992        T   \n",
       "\n",
       "   stim_condition  outcome group  cp_entry_timestamp  cp_exit_timestamp  \\\n",
       "0               1      1.0  NPHR          371.569088         372.640947   \n",
       "1               3      1.0  NPHR          755.435469         756.431386   \n",
       "2               3      0.0  NPHR          957.866982         958.900954   \n",
       "\n",
       "   latency_to_cp_entry  latency_to_cp_exit  time_in_cp  \n",
       "0             2.989453            4.061312    1.071859  \n",
       "1             3.917466            4.913382    0.995917  \n",
       "2             3.781990            4.815962    1.033971  "
      ]
     },
     "execution_count": 7,
     "metadata": {},
     "output_type": "execute_result"
    }
   ],
   "source": [
    "file_path =\"C:/Users/anasofiaccruz/Desktop/Optogenetics processed data/below15_runs.csv\"\n",
    "below15 = pd.read_csv(file_path)\n",
    "below15.head(3)"
   ]
  },
  {
   "cell_type": "markdown",
   "metadata": {},
   "source": [
    "#### <font color='darkorange'>Remove pre-illuminated trials\n"
   ]
  },
  {
   "cell_type": "code",
   "execution_count": 4,
   "metadata": {},
   "outputs": [
    {
     "data": {
      "text/plain": [
       "array([1, 3, 0], dtype=int64)"
      ]
     },
     "execution_count": 4,
     "metadata": {},
     "output_type": "execute_result"
    }
   ],
   "source": [
    "below15 = below15[(below15['stim_condition']!=-1)]\n",
    "below15['stim_condition'].unique()"
   ]
  },
  {
   "cell_type": "markdown",
   "metadata": {},
   "source": [
    "#### <font color='darkorange'> Calculate the performances for each rat, session and condition"
   ]
  },
  {
   "cell_type": "code",
   "execution_count": 5,
   "metadata": {},
   "outputs": [],
   "source": [
    "# Calculate performances for each rat, session and stimulation condition\n",
    "session_perfs = below15.groupby(['group','rat','session', 'stim_condition']).apply(calc_performance_in_group)\n",
    "session_perfs = session_perfs.reset_index().rename(columns={0:'performance'})"
   ]
  },
  {
   "cell_type": "code",
   "execution_count": 6,
   "metadata": {},
   "outputs": [],
   "source": [
    "session_perfs['session_nr']=\"\"\n",
    "session_perfs = session_perfs.groupby(['group', 'rat', 'stim_condition']).apply(add_session_nr)\n",
    "session_perfs = session_perfs[session_perfs['session_nr']<=15] #Removes the two final sessions of NPHR6"
   ]
  },
  {
   "cell_type": "markdown",
   "metadata": {},
   "source": [
    "#### <font color='darkorange'> Comparing the first session performances"
   ]
  },
  {
   "cell_type": "code",
   "execution_count": 104,
   "metadata": {},
   "outputs": [],
   "source": [
    "first_perfs = session_perfs[session_perfs['session_nr']==1]"
   ]
  },
  {
   "cell_type": "code",
   "execution_count": 105,
   "metadata": {},
   "outputs": [
    {
     "data": {
      "image/png": "[encoded data removed]",
      "text/plain": [
       "<Figure size 432x288 with 1 Axes>"
      ]
     },
     "metadata": {},
     "output_type": "display_data"
    }
   ],
   "source": [
    "g = sns.stripplot(data=first_perfs, x='stim_condition', y='performance', hue='group', dodge=True,\n",
    "             palette=['lightseagreen', 'orange'], s=10, alpha=.3)\n",
    "sns.pointplot(\n",
    "    data=first_perfs, x='stim_condition', y='performance', hue='group',dodge=.4,\n",
    "    join=False, palette=['lightseagreen', 'orange'], linewidth=1, ci='sd'\n",
    ")\n",
    "g.legend_.remove()\n",
    "plt.ylim([0,105])\n",
    "sns.despine()"
   ]
  },
  {
   "cell_type": "code",
   "execution_count": 106,
   "metadata": {},
   "outputs": [
    {
     "data": {
      "image/png": "[encoded data removed]",
      "text/plain": [
       "<Figure size 432x288 with 1 Axes>"
      ]
     },
     "metadata": {},
     "output_type": "display_data"
    }
   ],
   "source": [
    "g = sns.stripplot(\n",
    "    data=first_perfs, x='group', y='performance', hue='stim_condition', dodge=True,\n",
    "    palette=['black', 'royalblue', 'orangered'], s=10, alpha=.3\n",
    ")\n",
    "sns.pointplot(\n",
    "    data=first_perfs, x='group', y='performance', hue='stim_condition',dodge=.55,\n",
    "    join=False, palette=['black', 'royalblue', 'orangered'], linewidth=1, ci='sd'\n",
    ")\n",
    "g.legend_.remove()\n",
    "plt.ylim([0,105])\n",
    "sns.despine()"
   ]
  },
  {
   "cell_type": "code",
   "execution_count": 119,
   "metadata": {},
   "outputs": [
    {
     "data": {
      "text/plain": [
       "CTRL  0    (0.8329383730888367, 0.08530601859092712)\n",
       "      1    (0.8632076382637024, 0.20044530928134918)\n",
       "      3      (0.981529176235199, 0.9666286110877991)\n",
       "NPHR  0    (0.8808287382125854, 0.13338281214237213)\n",
       "      1     (0.8974938988685608, 0.2055988311767578)\n",
       "      3     (0.929631233215332, 0.44427528977394104)\n",
       "dtype: object"
      ]
     },
     "execution_count": 119,
     "metadata": {},
     "output_type": "execute_result"
    }
   ],
   "source": [
    "results = shapiro_normality_testing(first_perfs, ['group', 'stim_condition'], 'performance')\n",
    "results"
   ]
  },
  {
   "cell_type": "code",
   "execution_count": 108,
   "metadata": {},
   "outputs": [],
   "source": [
    "nphr = first_perfs[first_perfs['group']=='NPHR']\n",
    "nphr_none = nphr[nphr['stim_condition']==0].sort_values(by='rat')\n",
    "nphr_sample = nphr[nphr['stim_condition']==1].sort_values(by='rat')\n",
    "nphr_test = nphr[nphr['stim_condition']==3].sort_values(by='rat')\n",
    "\n",
    "ctrl = first_perfs[first_perfs['group']=='CTRL']\n",
    "ctrl_none = ctrl[ctrl['stim_condition']==0].sort_values(by='rat')\n",
    "ctrl_sample =ctrl[ctrl['stim_condition']==1].sort_values(by='rat')\n",
    "ctrl_test = ctrl[ctrl['stim_condition']==3].sort_values(by='rat')"
   ]
  },
  {
   "cell_type": "code",
   "execution_count": 109,
   "metadata": {},
   "outputs": [],
   "source": [
    "from scipy.stats import ttest_rel, ttest_ind"
   ]
  },
  {
   "cell_type": "code",
   "execution_count": 110,
   "metadata": {},
   "outputs": [
    {
     "data": {
      "text/plain": [
       "Ttest_relResult(statistic=1.4735089908612693, pvalue=0.1747073415895921)"
      ]
     },
     "execution_count": 110,
     "metadata": {},
     "output_type": "execute_result"
    }
   ],
   "source": [
    "ttest_rel(nphr_none['performance'], nphr_test['performance'])"
   ]
  },
  {
   "cell_type": "code",
   "execution_count": 111,
   "metadata": {},
   "outputs": [
    {
     "data": {
      "text/plain": [
       "Ttest_relResult(statistic=1.064733467558196, pvalue=0.3279568502035927)"
      ]
     },
     "execution_count": 111,
     "metadata": {},
     "output_type": "execute_result"
    }
   ],
   "source": [
    "ttest_rel(ctrl_none['performance'], ctrl_test['performance'])"
   ]
  },
  {
   "cell_type": "code",
   "execution_count": 112,
   "metadata": {},
   "outputs": [
    {
     "data": {
      "text/plain": [
       "Ttest_relResult(statistic=2.688372560992665, pvalue=0.04338307530246007)"
      ]
     },
     "execution_count": 112,
     "metadata": {},
     "output_type": "execute_result"
    }
   ],
   "source": [
    "ctrl_none = ctrl_none[ctrl_none['rat']!='CTRL2']\n",
    "ctrl_sample = ctrl_sample[ctrl_sample['rat']!='CTRL2']\n",
    "ttest_rel(ctrl_none['performance'], ctrl_sample['performance'])"
   ]
  }
 ],
 "metadata": {
  "kernelspec": {
   "display_name": "Python 3",
   "language": "python",
   "name": "python3"
  },
  "language_info": {
   "codemirror_mode": {
    "name": "ipython",
    "version": 3
   },
   "file_extension": ".py",
   "mimetype": "text/x-python",
   "name": "python",
   "nbconvert_exporter": "python",
   "pygments_lexer": "ipython3",
   "version": "3.8.8"
  }
 },
 "nbformat": 4,
 "nbformat_minor": 4
}
