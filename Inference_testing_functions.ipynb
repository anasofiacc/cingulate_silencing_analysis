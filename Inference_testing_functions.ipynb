{
 "cells": [
  {
   "cell_type": "markdown",
   "id": "suitable-gardening",
   "metadata": {},
   "source": [
    "#### <font color='crimson'> Inference testing within group with kruskal Wallis test"
   ]
  },
  {
   "cell_type": "code",
   "execution_count": null,
   "id": "blank-rebel",
   "metadata": {},
   "outputs": [],
   "source": [
    " from scipy.stats import kruskal\n",
    "def inference_testing_kruskal_within_group(df, var):\n",
    "    \n",
    "    \"\"\"\n",
    "    Inference testing within groups. Tests ull hypothesis that the \n",
    "    population median of all of the groups are equal. In this case,\n",
    "    the compares the effect of the illumination condition within experimental group on a given \n",
    "    variable.\n",
    "    arg1, df, Pandas DataFrame - DataFrame containing the data\n",
    "    arg2, var, str - Column name of the dependent variable\n",
    "    \"\"\"\n",
    "    results = pd.DataFrame()\n",
    "    \n",
    "    ctrl = df[df['group']=='CTRL']\n",
    "    nphr = df[df['group']=='NPHR']\n",
    "    i=0\n",
    "    for x in [ctrl,nphr]:    \n",
    "        n = x.loc[x['stim_condition']==0, var]\n",
    "        s = x.loc[x['stim_condition']==1, var]\n",
    "        t = x.loc[x['stim_condition']==3, var]\n",
    "        \n",
    "        results.loc[i, 'group'] = x['group'].iloc[0]\n",
    "        h, p = kruskal(n,s,t)\n",
    "        results.loc[i,'h']=h\n",
    "        results.loc[i,'p']=p\n",
    "        i+=1    \n",
    "    return results"
   ]
  },
  {
   "cell_type": "markdown",
   "id": "acquired-tenant",
   "metadata": {},
   "source": [
    "#### <font color='crimson'> Inference -  Testing with mannwhitneyu"
   ]
  },
  {
   "cell_type": "code",
   "execution_count": 4,
   "id": "introductory-intent",
   "metadata": {},
   "outputs": [],
   "source": [
    "from scipy.stats import mannwhitneyu\n",
    "def inference_testing_mannwhitneyu(a, b, var):\n",
    "    \n",
    "    \"\"\"\n",
    "    \"\"\"\n",
    "    results = pd.DataFrame()\n",
    "    i=0\n",
    "    for dfa,dfb in zip(a,b):    \n",
    "        results.loc[i, 'a_group'] = dfa['group'].iloc[0]\n",
    "        results.loc[i, 'b_group'] = dfb['group'].iloc[0]\n",
    "        results.loc[i, 'a_condition'] = dfa['stim_condition'].iloc[0]  \n",
    "        results.loc[i, 'b_condition'] = dfb['stim_condition'].iloc[0]\n",
    "        results.loc[i, 'a_outcome'] = dfa['outcome'].iloc[0]\n",
    "        results.loc[i, 'b_outcome'] = dfb['outcome'].iloc[0]\n",
    "        u, p = mannwhitneyu(x=dfa[var], y=dfb[var], alternative='two-sided')\n",
    "        results.loc[i,'u']=u\n",
    "        results.loc[i,'p']=p\n",
    "        i+=1    \n",
    "    return results"
   ]
  },
  {
   "cell_type": "markdown",
   "id": "accredited-thumbnail",
   "metadata": {},
   "source": [
    "#### <font color='crimson'>  Inference - Normality testing with shapiro"
   ]
  },
  {
   "cell_type": "code",
   "execution_count": 2,
   "id": "efficient-offset",
   "metadata": {},
   "outputs": [],
   "source": [
    "from scipy.stats import shapiro\n",
    "def normality_testing_shapiro(df, groupby_cols, var):\n",
    "    \"\"\"\n",
    "    Groups df according to groupby_cols and for given var, tests the normality of the \n",
    "    distribution using the Shapiro-Wilkes test.\n",
    "    \n",
    "    arg1, df <Pandas DataFrame>: the dataframe where the data to test is stored\n",
    "    arg2, groupby_cols <list>: list of columns to group df by\n",
    "    arg3, var <str>: name of column in df to test\n",
    "    \"\"\"\n",
    "    normality_testing = {}\n",
    "    \n",
    "    for group, data in df.groupby(groupby_cols)[var]:\n",
    "        stat, p = shapiro(data)\n",
    "        normality_testing[group] = (stat, p)\n",
    "\n",
    "    return pd.Series(normality_testing)\n"
   ]
  },
  {
   "cell_type": "code",
   "execution_count": null,
   "id": "multiple-surgeon",
   "metadata": {},
   "outputs": [],
   "source": []
  }
 ],
 "metadata": {
  "kernelspec": {
   "display_name": "Python 3",
   "language": "python",
   "name": "python3"
  },
  "language_info": {
   "codemirror_mode": {
    "name": "ipython",
    "version": 3
   },
   "file_extension": ".py",
   "mimetype": "text/x-python",
   "name": "python",
   "nbconvert_exporter": "python",
   "pygments_lexer": "ipython3",
   "version": "3.8.8"
  }
 },
 "nbformat": 4,
 "nbformat_minor": 5
}
