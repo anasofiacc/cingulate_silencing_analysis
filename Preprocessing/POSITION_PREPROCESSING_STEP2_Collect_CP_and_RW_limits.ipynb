{
 "cells": [
  {
   "cell_type": "markdown",
   "metadata": {},
   "source": [
    "# <font color=dodgerblue> Collect the choice point and reward port limits from video files\n",
    "    \n",
    "***\n",
    "   #### Selection of two frames per video in the given video_files_path\n",
    "   #### Open in loop each frame\n",
    "   #### Detection of RW1 (Left) and RW2 (Right) ports, CP (choice point square) ROI in frames in pixels\n",
    "   ####  Conversion of ROIs to CROP POLYGON dimensions (rat dependent)\n",
    "   #### Conversion of ROI dimensions from px to cm\n",
    "***\n"
   ]
  },
  {
   "cell_type": "markdown",
   "metadata": {},
   "source": [
    "### <font color=firebrick>Imports\n",
    "***"
   ]
  },
  {
   "cell_type": "code",
   "execution_count": null,
   "metadata": {},
   "outputs": [],
   "source": [
    "import cv2\n",
    "import os\n",
    "import re\n",
    "import random\n",
    "import numpy as np\n",
    "import pandas as pd\n",
    "import seaborn as sns\n",
    "import matplotlib.pyplot as plt\n",
    "from matplotlib.widgets  import RectangleSelector\n",
    "from open_files import get_file_list\n",
    "\n",
    "%matplotlib inline"
   ]
  },
  {
   "cell_type": "markdown",
   "metadata": {},
   "source": [
    "### <font color=firebrick>Inputs\n",
    "***"
   ]
  },
  {
   "cell_type": "code",
   "execution_count": 10,
   "metadata": {},
   "outputs": [],
   "source": [
    "# The path where the video files are stored. Create ROIS and ROI_Frames folders\n",
    "video_files_path = \"E:\\POSITION DATA\\PRE PROCESSED\\RISOTTO_CTRL8\""
   ]
  },
  {
   "cell_type": "markdown",
   "metadata": {},
   "source": [
    "### <font color=firebrick> Functions\n",
    "***"
   ]
  },
  {
   "cell_type": "code",
   "execution_count": 7,
   "metadata": {},
   "outputs": [],
   "source": [
    "def select_and_save_frame_from_videos_in_path(path):\n",
    "    \n",
    "    '''\n",
    "    Find first frame of each video a save it as a .jpg image\n",
    "    '''\n",
    "    # Get the video list\n",
    "    video_list = get_file_list(video_files_path, \"*.avi\")\n",
    "    \n",
    "    # Create each video path\n",
    "    for video in video_list:\n",
    "        \n",
    "        video_path = os.path.join(video_files_path, video)\n",
    "      \n",
    "        # Open the video\n",
    "        cap = cv2.VideoCapture(video_path)\n",
    "            \n",
    "        # Read the first frame of the video (usually the brighter)\n",
    "        cap.set(1, 0)\n",
    "        success, image = cap.read()\n",
    "            \n",
    "        # Saves the frame with video tag and frame number\n",
    "        match = re.search(r\"(.+)(?=.avi)\", video)\n",
    "            \n",
    "        path = os.path.join(\n",
    "                video_files_path, \n",
    "                \"ROI_Frames\", \n",
    "                \"%s_1stframe.jpg\"%match.group(0)\n",
    "        )\n",
    "                \n",
    "        cv2.imwrite(path, image)\n",
    "        cap.release() \n",
    "        \n",
    "def collect_rois_df(video_files_path, filename, ratcode):\n",
    "\n",
    "    '''\n",
    "    Opens all .jpg frames from the given path and allows the selection of ROIs upon mouse click.\n",
    "    Click enter to lock the ROI selection and 's' to stop the loop.\n",
    "    '''\n",
    "    frame_path = os.path.join(video_files_path, \"ROI_Frames\")\n",
    "    frame_list = get_file_list(frame_path, \"*.jpg\")\n",
    "    all_rois = []\n",
    "\n",
    "    for frame in frame_list:\n",
    "        \n",
    "        # Open image object (an numpy array)\n",
    "        single_frame_path = os.path.join(frame_path, frame)\n",
    "        img = cv2.imread(single_frame_path)\n",
    "        # Select a ROI using the mouse and save coordinates in tuple and add it to a list\n",
    "        roi = cv2.selectROI(str(frame), img)\n",
    "        \n",
    "        session=re.search(r\"((\\d+-){2}\\d+T(\\d+_){2}\\d+)\",frame)\n",
    "        roi=roi+(session.group(0),) \n",
    "        \n",
    "        try:\n",
    "            all_rois.append(roi)\n",
    "        except:\n",
    "            all_rois = roi\n",
    "            \n",
    "        # Keep the image window open until a key (any key is pressed). If 's' key is pressed, \n",
    "        # break the loop and empty all_rois \n",
    "        k = cv2.waitKey(0)  \n",
    "        if k:\n",
    "            cv2.destroyWindow(str(frame))     \n",
    "            if k==115:\n",
    "                break\n",
    "                all_rois=[]      \n",
    "        \n",
    "    cv2.destroyAllWindows()\n",
    "    \n",
    "    #Convert into a DataFrame and save it into a .csv file\n",
    "    all_rois_df = pd.DataFrame(all_rois, columns=['x', 'y', 'width', 'height', 'session'])                    \n",
    "    \n",
    "    path=os.path.join(video_files_path, \"ROIS\", \"%s_%s.csv\"%(ratcode, filename))\n",
    "    all_rois_df.to_csv(path,header=True)"
   ]
  },
  {
   "cell_type": "markdown",
   "metadata": {},
   "source": [
    "## <font color=mediumseagreen> Selection of the first frame per video\n",
    "\n",
    "***\n",
    "   #### Add the video files path. Create two folders: ROIS and ROI_Frames\n"
   ]
  },
  {
   "cell_type": "code",
   "execution_count": 11,
   "metadata": {},
   "outputs": [],
   "source": [
    "try:\n",
    "    os.mkdir(os.path.join(video_files_path, \"ROIS\"))\n",
    "    os.mkdir(os.path.join(video_files_path, \"ROI_Frames\"))\n",
    "except:\n",
    "    pass\n",
    "\n",
    "match = re.search(r\"_(\\w+\\d+)\", video_files_path)\n",
    "ratcode=match.group(1)"
   ]
  },
  {
   "cell_type": "code",
   "execution_count": 12,
   "metadata": {},
   "outputs": [
    {
     "name": "stdout",
     "output_type": "stream",
     "text": [
      "Directory is not empty. No selection of frames from videos\n"
     ]
    }
   ],
   "source": [
    "# Only select and save frames from videos if the directory frame path is empty\n",
    "frame_path = os.path.join(video_files_path, \"ROI_Frames\")\n",
    "   \n",
    "if not os.listdir(frame_path):    \n",
    "    print(\"Directory is empty. Selecting the 1st frame from the videos\")\n",
    "    select_and_save_frame_from_videos_in_path(video_files_path)   \n",
    "else:    \n",
    "    print(\"Directory is not empty. No selection of frames from videos\")  \n"
   ]
  },
  {
   "cell_type": "markdown",
   "metadata": {},
   "source": [
    "## <font color=mediumseagreen> Collect and save the ROIS coordinates for RW1, RW2 and CP (in px). Visually inspect them\n",
    "\n",
    "***\n",
    "   #### Click enter to lock the ROI selection and 's' to stop the loop."
   ]
  },
  {
   "cell_type": "markdown",
   "metadata": {},
   "source": [
    "### <font color=orange> RW1 ROI "
   ]
  },
  {
   "cell_type": "code",
   "execution_count": 29,
   "metadata": {},
   "outputs": [],
   "source": [
    "# Collect RW1 roi from video frames and save it to a csv in video_files_path\n",
    "collect_rois_df(video_files_path, 'rw1_rois_px', ratcode)"
   ]
  },
  {
   "cell_type": "code",
   "execution_count": 7,
   "metadata": {},
   "outputs": [
    {
     "data": {
      "image/png": "[encoded data removed]",
      "text/plain": [
       "<Figure size 432x288 with 1 Axes>"
      ]
     },
     "metadata": {
      "needs_background": "light"
     },
     "output_type": "display_data"
    }
   ],
   "source": [
    "# Check the variability for the RW1 ROI x coordinate\n",
    "rw1_rois_px = pd.read_csv(os.path.join(video_files_path, \"ROIS\", \"%s_rw1_rois_px.csv\"%ratcode), header=0, index_col=0)\n",
    "\n",
    "fig = plt.Figure(figsize=(5,5))\n",
    "sns.stripplot(data=rw1_rois_px, x='x', color='black')\n",
    "sns.boxplot(data=rw1_rois_px, x='x', color='lightyellow')\n",
    "plt.savefig(os.path.join(video_files_path,\"ROIS\", \"%s_rw1_rois_px_variabilities.png\"%ratcode))\n",
    "sns.despine()"
   ]
  },
  {
   "cell_type": "markdown",
   "metadata": {},
   "source": [
    "### <font color=orange> Choice point ROI"
   ]
  },
  {
   "cell_type": "code",
   "execution_count": 8,
   "metadata": {},
   "outputs": [],
   "source": [
    "# Collect CP from video frames\n",
    "collect_rois_df(video_files_path, 'cp_rois_px', ratcode)"
   ]
  },
  {
   "cell_type": "code",
   "execution_count": 9,
   "metadata": {},
   "outputs": [
    {
     "data": {
      "image/png": "[encoded data removed]",
      "text/plain": [
       "<Figure size 576x576 with 4 Axes>"
      ]
     },
     "metadata": {
      "needs_background": "light"
     },
     "output_type": "display_data"
    }
   ],
   "source": [
    "#Check the variability for the CP ROI coordinates and size\n",
    "cp_rois_px = pd.read_csv(os.path.join(video_files_path, \"ROIS\", \"%s_cp_rois_px.csv\"%ratcode), header=0, index_col=0)\n",
    "\n",
    "fig, ((ax1, ax2), (ax3, ax4)) = plt.subplots(2, 2, figsize=(8,8))\n",
    "cp_rois_px = cp_rois_px.mask(cp_rois_px['x']==0, cp_rois_px['x'].median())\n",
    "\n",
    "sns.stripplot(data=cp_rois_px, x='x', color='black', ax=ax1)\n",
    "ax1 = sns.boxplot(data=cp_rois_px, x='x', color='lightyellow', ax=ax1)\n",
    "\n",
    "ax2 = sns.stripplot(data=cp_rois_px, x='y', color='black', ax=ax2)\n",
    "ax2 = sns.boxplot(data=cp_rois_px, x='y', color='lightgreen', ax=ax2)\n",
    "\n",
    "ax3 = sns.stripplot(data=cp_rois_px, x='width', color='black', ax=ax3)\n",
    "ax3 = sns.boxplot(data=cp_rois_px, x='width', color='lightblue', ax=ax3)\n",
    "\n",
    "ax4 = sns.stripplot(data=cp_rois_px, x='height', color='black',ax=ax4)\n",
    "ax4 = sns.boxplot(data=cp_rois_px, x='height', color='mistyrose', ax=ax4)\n",
    "\n",
    "sns.despine()\n",
    "plt.savefig(os.path.join(video_files_path,\"ROIS\", \"%s_cp_rois_px_variabilities.png\"%ratcode))"
   ]
  },
  {
   "cell_type": "markdown",
   "metadata": {},
   "source": [
    "### <font color=orange> RW2 port ROI x coordinate"
   ]
  },
  {
   "cell_type": "code",
   "execution_count": null,
   "metadata": {},
   "outputs": [],
   "source": [
    "# Collect RW2 roi from video frames\n",
    "collect_rois_df(video_files_path, 'rw2_rois_px', ratcode)"
   ]
  },
  {
   "cell_type": "code",
   "execution_count": 23,
   "metadata": {},
   "outputs": [
    {
     "data": {
      "image/png": "[encoded data removed]",
      "text/plain": [
       "<Figure size 432x288 with 1 Axes>"
      ]
     },
     "metadata": {
      "needs_background": "light"
     },
     "output_type": "display_data"
    }
   ],
   "source": [
    "#Check the variability for the RW1 ROI x coordinate\n",
    "rw2_rois_px = pd.read_csv(os.path.join(video_files_path, \"ROIS\", \"%s_rw2_rois_px.csv\"%ratcode), header=0, index_col=0)\n",
    "\n",
    "fig = plt.Figure(figsize=(5,5))\n",
    "sns.stripplot(data=rw2_rois_px, x='x', color='black')\n",
    "sns.boxplot(data=rw2_rois_px, x='x', color='lightyellow')\n",
    "plt.savefig(os.path.join(video_files_path,\"ROIS\", \"%s_rw2_rois_px_variabilities.png\"%ratcode))\n",
    "sns.despine()"
   ]
  },
  {
   "cell_type": "markdown",
   "metadata": {},
   "source": [
    "## <font color=mediumseagreen> Convert ROIs to CROP POLYGON measurments (adjustment of window pxs)\n",
    "\n",
    "***\n",
    "   #### Confirm the crop_polygon file path (where the window measurments are stored and mapped to rat if needed)"
   ]
  },
  {
   "cell_type": "code",
   "execution_count": 63,
   "metadata": {},
   "outputs": [],
   "source": [
    "# Open crop_polygon measurments file\n",
    "crop_polygon_file_path = \"E:\\MAZE_MEASURMENTS\\CROP_POLYGON_TO_RAT_MAPPING.csv\"\n",
    "crop_polygon_measures = pd.read_csv(crop_polygon_file_path, header=0)\n",
    "\n",
    "# Find the measurments mapped to the rat data being analyzed  \n",
    "crop_poly_rat = crop_polygon_measures[crop_polygon_measures['rat'] == ratcode]"
   ]
  },
  {
   "cell_type": "code",
   "execution_count": 64,
   "metadata": {},
   "outputs": [],
   "source": [
    "cp_rois_px = pd.read_csv(os.path.join(video_files_path, \"ROIS\", \"%s_cp_rois_px.csv\"%ratcode), header=0, index_col=0)\n",
    "rw1_rois_px = pd.read_csv(os.path.join(video_files_path, \"ROIS\", \"%s_rw1_rois_px.csv\"%ratcode), header=0, index_col=0)\n",
    "rw2_rois_px = pd.read_csv(os.path.join(video_files_path, \"ROIS\", \"%s_rw2_rois_px.csv\"%ratcode), header=0, index_col=0)"
   ]
  },
  {
   "cell_type": "code",
   "execution_count": 65,
   "metadata": {},
   "outputs": [
    {
     "data": {
      "text/html": [
       "<div>\n",
       "<style scoped>\n",
       "    .dataframe tbody tr th:only-of-type {\n",
       "        vertical-align: middle;\n",
       "    }\n",
       "\n",
       "    .dataframe tbody tr th {\n",
       "        vertical-align: top;\n",
       "    }\n",
       "\n",
       "    .dataframe thead th {\n",
       "        text-align: right;\n",
       "    }\n",
       "</style>\n",
       "<table border=\"1\" class=\"dataframe\">\n",
       "  <thead>\n",
       "    <tr style=\"text-align: right;\">\n",
       "      <th></th>\n",
       "      <th>x</th>\n",
       "      <th>y</th>\n",
       "      <th>width</th>\n",
       "      <th>height</th>\n",
       "      <th>session</th>\n",
       "    </tr>\n",
       "  </thead>\n",
       "  <tbody>\n",
       "    <tr>\n",
       "      <th>0</th>\n",
       "      <td>1067</td>\n",
       "      <td>520</td>\n",
       "      <td>47</td>\n",
       "      <td>48</td>\n",
       "      <td>2021-02-25T11_52_06</td>\n",
       "    </tr>\n",
       "    <tr>\n",
       "      <th>1</th>\n",
       "      <td>1067</td>\n",
       "      <td>524</td>\n",
       "      <td>51</td>\n",
       "      <td>47</td>\n",
       "      <td>2021-02-26T12_03_28</td>\n",
       "    </tr>\n",
       "    <tr>\n",
       "      <th>2</th>\n",
       "      <td>1070</td>\n",
       "      <td>522</td>\n",
       "      <td>47</td>\n",
       "      <td>48</td>\n",
       "      <td>2021-03-01T10_51_27</td>\n",
       "    </tr>\n",
       "    <tr>\n",
       "      <th>3</th>\n",
       "      <td>1071</td>\n",
       "      <td>520</td>\n",
       "      <td>51</td>\n",
       "      <td>46</td>\n",
       "      <td>2021-03-02T13_06_53</td>\n",
       "    </tr>\n",
       "    <tr>\n",
       "      <th>4</th>\n",
       "      <td>1070</td>\n",
       "      <td>518</td>\n",
       "      <td>47</td>\n",
       "      <td>50</td>\n",
       "      <td>2021-03-03T12_07_59</td>\n",
       "    </tr>\n",
       "    <tr>\n",
       "      <th>5</th>\n",
       "      <td>1067</td>\n",
       "      <td>520</td>\n",
       "      <td>51</td>\n",
       "      <td>48</td>\n",
       "      <td>2021-03-04T13_14_28</td>\n",
       "    </tr>\n",
       "    <tr>\n",
       "      <th>6</th>\n",
       "      <td>1067</td>\n",
       "      <td>524</td>\n",
       "      <td>48</td>\n",
       "      <td>48</td>\n",
       "      <td>2021-03-05T13_32_27</td>\n",
       "    </tr>\n",
       "    <tr>\n",
       "      <th>7</th>\n",
       "      <td>1066</td>\n",
       "      <td>526</td>\n",
       "      <td>51</td>\n",
       "      <td>46</td>\n",
       "      <td>2021-03-08T12_13_37</td>\n",
       "    </tr>\n",
       "    <tr>\n",
       "      <th>8</th>\n",
       "      <td>1067</td>\n",
       "      <td>526</td>\n",
       "      <td>49</td>\n",
       "      <td>48</td>\n",
       "      <td>2021-03-09T12_10_16</td>\n",
       "    </tr>\n",
       "    <tr>\n",
       "      <th>9</th>\n",
       "      <td>1069</td>\n",
       "      <td>523</td>\n",
       "      <td>49</td>\n",
       "      <td>52</td>\n",
       "      <td>2021-03-10T12_47_28</td>\n",
       "    </tr>\n",
       "    <tr>\n",
       "      <th>10</th>\n",
       "      <td>1067</td>\n",
       "      <td>512</td>\n",
       "      <td>49</td>\n",
       "      <td>47</td>\n",
       "      <td>2021-03-12T11_07_02</td>\n",
       "    </tr>\n",
       "    <tr>\n",
       "      <th>11</th>\n",
       "      <td>1067</td>\n",
       "      <td>508</td>\n",
       "      <td>48</td>\n",
       "      <td>52</td>\n",
       "      <td>2021-03-15T12_17_38</td>\n",
       "    </tr>\n",
       "    <tr>\n",
       "      <th>12</th>\n",
       "      <td>1063</td>\n",
       "      <td>509</td>\n",
       "      <td>53</td>\n",
       "      <td>51</td>\n",
       "      <td>2021-03-16T12_14_52</td>\n",
       "    </tr>\n",
       "    <tr>\n",
       "      <th>13</th>\n",
       "      <td>1069</td>\n",
       "      <td>514</td>\n",
       "      <td>48</td>\n",
       "      <td>54</td>\n",
       "      <td>2021-03-17T12_28_16</td>\n",
       "    </tr>\n",
       "    <tr>\n",
       "      <th>14</th>\n",
       "      <td>1065</td>\n",
       "      <td>513</td>\n",
       "      <td>48</td>\n",
       "      <td>49</td>\n",
       "      <td>2021-03-18T12_41_06</td>\n",
       "    </tr>\n",
       "    <tr>\n",
       "      <th>15</th>\n",
       "      <td>1070</td>\n",
       "      <td>512</td>\n",
       "      <td>49</td>\n",
       "      <td>48</td>\n",
       "      <td>2021-03-19T12_22_22</td>\n",
       "    </tr>\n",
       "    <tr>\n",
       "      <th>16</th>\n",
       "      <td>1068</td>\n",
       "      <td>510</td>\n",
       "      <td>49</td>\n",
       "      <td>49</td>\n",
       "      <td>2021-03-22T12_22_14</td>\n",
       "    </tr>\n",
       "    <tr>\n",
       "      <th>17</th>\n",
       "      <td>1071</td>\n",
       "      <td>524</td>\n",
       "      <td>50</td>\n",
       "      <td>48</td>\n",
       "      <td>2021-03-11T12_36_49</td>\n",
       "    </tr>\n",
       "  </tbody>\n",
       "</table>\n",
       "</div>"
      ],
      "text/plain": [
       "       x    y  width  height              session\n",
       "0   1067  520     47      48  2021-02-25T11_52_06\n",
       "1   1067  524     51      47  2021-02-26T12_03_28\n",
       "2   1070  522     47      48  2021-03-01T10_51_27\n",
       "3   1071  520     51      46  2021-03-02T13_06_53\n",
       "4   1070  518     47      50  2021-03-03T12_07_59\n",
       "5   1067  520     51      48  2021-03-04T13_14_28\n",
       "6   1067  524     48      48  2021-03-05T13_32_27\n",
       "7   1066  526     51      46  2021-03-08T12_13_37\n",
       "8   1067  526     49      48  2021-03-09T12_10_16\n",
       "9   1069  523     49      52  2021-03-10T12_47_28\n",
       "10  1067  512     49      47  2021-03-12T11_07_02\n",
       "11  1067  508     48      52  2021-03-15T12_17_38\n",
       "12  1063  509     53      51  2021-03-16T12_14_52\n",
       "13  1069  514     48      54  2021-03-17T12_28_16\n",
       "14  1065  513     48      49  2021-03-18T12_41_06\n",
       "15  1070  512     49      48  2021-03-19T12_22_22\n",
       "16  1068  510     49      49  2021-03-22T12_22_14\n",
       "17  1071  524     50      48  2021-03-11T12_36_49"
      ]
     },
     "execution_count": 65,
     "metadata": {},
     "output_type": "execute_result"
    }
   ],
   "source": [
    "cp_rois_px"
   ]
  },
  {
   "cell_type": "code",
   "execution_count": 67,
   "metadata": {},
   "outputs": [
    {
     "name": "stdout",
     "output_type": "stream",
     "text": [
      "Conversion to crop polygon window measurments done!\n",
      "Conversion to crop polygon window measurments done!\n",
      "Conversion to crop polygon window measurments done!\n",
      "Conversion to crop polygon window measurments done!\n"
     ]
    }
   ],
   "source": [
    "def convert_coord(df1, df2):\n",
    "    df3 = df1.copy()\n",
    "    \n",
    "    df3['x'] = df1['x'] - df2['xmin'].iloc[0]\n",
    "    df3['y'] = df1['y'] - df2['ymin'].iloc[0]\n",
    "        \n",
    "    print('Conversion to crop polygon window measurments done!')\n",
    "    return df3\n",
    "\n",
    "#Convert to crop_polygon window\n",
    "rw1_rois_convert = convert_coord(rw1_rois_px, crop_poly_rat)\n",
    "rw2_rois_convert = convert_coord(rw2_rois_px, crop_poly_rat)\n",
    "cp_rois_convert = convert_coord(cp_rois_px, crop_poly_rat)\n",
    "cp_rois_convert = convert_coord(cp_rois_px, crop_poly_rat)"
   ]
  },
  {
   "cell_type": "code",
   "execution_count": 68,
   "metadata": {},
   "outputs": [
    {
     "data": {
      "text/html": [
       "<div>\n",
       "<style scoped>\n",
       "    .dataframe tbody tr th:only-of-type {\n",
       "        vertical-align: middle;\n",
       "    }\n",
       "\n",
       "    .dataframe tbody tr th {\n",
       "        vertical-align: top;\n",
       "    }\n",
       "\n",
       "    .dataframe thead th {\n",
       "        text-align: right;\n",
       "    }\n",
       "</style>\n",
       "<table border=\"1\" class=\"dataframe\">\n",
       "  <thead>\n",
       "    <tr style=\"text-align: right;\">\n",
       "      <th></th>\n",
       "      <th>x</th>\n",
       "      <th>y</th>\n",
       "      <th>width</th>\n",
       "      <th>height</th>\n",
       "      <th>session</th>\n",
       "    </tr>\n",
       "  </thead>\n",
       "  <tbody>\n",
       "    <tr>\n",
       "      <th>0</th>\n",
       "      <td>767</td>\n",
       "      <td>22</td>\n",
       "      <td>26</td>\n",
       "      <td>65</td>\n",
       "      <td>2021-02-25T11_52_06</td>\n",
       "    </tr>\n",
       "    <tr>\n",
       "      <th>1</th>\n",
       "      <td>771</td>\n",
       "      <td>22</td>\n",
       "      <td>34</td>\n",
       "      <td>61</td>\n",
       "      <td>2021-02-26T12_03_28</td>\n",
       "    </tr>\n",
       "    <tr>\n",
       "      <th>2</th>\n",
       "      <td>771</td>\n",
       "      <td>22</td>\n",
       "      <td>24</td>\n",
       "      <td>58</td>\n",
       "      <td>2021-03-01T10_51_27</td>\n",
       "    </tr>\n",
       "    <tr>\n",
       "      <th>3</th>\n",
       "      <td>769</td>\n",
       "      <td>21</td>\n",
       "      <td>37</td>\n",
       "      <td>63</td>\n",
       "      <td>2021-03-02T13_06_53</td>\n",
       "    </tr>\n",
       "    <tr>\n",
       "      <th>4</th>\n",
       "      <td>774</td>\n",
       "      <td>22</td>\n",
       "      <td>21</td>\n",
       "      <td>58</td>\n",
       "      <td>2021-03-03T12_07_59</td>\n",
       "    </tr>\n",
       "    <tr>\n",
       "      <th>5</th>\n",
       "      <td>766</td>\n",
       "      <td>23</td>\n",
       "      <td>27</td>\n",
       "      <td>61</td>\n",
       "      <td>2021-03-04T13_14_28</td>\n",
       "    </tr>\n",
       "    <tr>\n",
       "      <th>6</th>\n",
       "      <td>767</td>\n",
       "      <td>25</td>\n",
       "      <td>28</td>\n",
       "      <td>61</td>\n",
       "      <td>2021-03-05T13_32_27</td>\n",
       "    </tr>\n",
       "    <tr>\n",
       "      <th>7</th>\n",
       "      <td>767</td>\n",
       "      <td>21</td>\n",
       "      <td>27</td>\n",
       "      <td>57</td>\n",
       "      <td>2021-03-08T12_13_37</td>\n",
       "    </tr>\n",
       "    <tr>\n",
       "      <th>8</th>\n",
       "      <td>770</td>\n",
       "      <td>27</td>\n",
       "      <td>26</td>\n",
       "      <td>59</td>\n",
       "      <td>2021-03-09T12_10_16</td>\n",
       "    </tr>\n",
       "    <tr>\n",
       "      <th>9</th>\n",
       "      <td>761</td>\n",
       "      <td>27</td>\n",
       "      <td>30</td>\n",
       "      <td>56</td>\n",
       "      <td>2021-03-10T12_47_28</td>\n",
       "    </tr>\n",
       "    <tr>\n",
       "      <th>10</th>\n",
       "      <td>758</td>\n",
       "      <td>12</td>\n",
       "      <td>30</td>\n",
       "      <td>66</td>\n",
       "      <td>2021-03-12T11_07_02</td>\n",
       "    </tr>\n",
       "    <tr>\n",
       "      <th>11</th>\n",
       "      <td>762</td>\n",
       "      <td>12</td>\n",
       "      <td>30</td>\n",
       "      <td>63</td>\n",
       "      <td>2021-03-15T12_17_38</td>\n",
       "    </tr>\n",
       "    <tr>\n",
       "      <th>12</th>\n",
       "      <td>759</td>\n",
       "      <td>13</td>\n",
       "      <td>29</td>\n",
       "      <td>71</td>\n",
       "      <td>2021-03-16T12_14_52</td>\n",
       "    </tr>\n",
       "    <tr>\n",
       "      <th>13</th>\n",
       "      <td>767</td>\n",
       "      <td>19</td>\n",
       "      <td>25</td>\n",
       "      <td>62</td>\n",
       "      <td>2021-03-17T12_28_16</td>\n",
       "    </tr>\n",
       "    <tr>\n",
       "      <th>14</th>\n",
       "      <td>762</td>\n",
       "      <td>20</td>\n",
       "      <td>32</td>\n",
       "      <td>57</td>\n",
       "      <td>2021-03-18T12_41_06</td>\n",
       "    </tr>\n",
       "    <tr>\n",
       "      <th>15</th>\n",
       "      <td>755</td>\n",
       "      <td>17</td>\n",
       "      <td>20</td>\n",
       "      <td>70</td>\n",
       "      <td>2021-03-19T12_22_22</td>\n",
       "    </tr>\n",
       "    <tr>\n",
       "      <th>16</th>\n",
       "      <td>760</td>\n",
       "      <td>14</td>\n",
       "      <td>14</td>\n",
       "      <td>59</td>\n",
       "      <td>2021-03-22T12_22_14</td>\n",
       "    </tr>\n",
       "    <tr>\n",
       "      <th>17</th>\n",
       "      <td>770</td>\n",
       "      <td>27</td>\n",
       "      <td>18</td>\n",
       "      <td>61</td>\n",
       "      <td>2021-03-11T12_36_49</td>\n",
       "    </tr>\n",
       "  </tbody>\n",
       "</table>\n",
       "</div>"
      ],
      "text/plain": [
       "      x   y  width  height              session\n",
       "0   767  22     26      65  2021-02-25T11_52_06\n",
       "1   771  22     34      61  2021-02-26T12_03_28\n",
       "2   771  22     24      58  2021-03-01T10_51_27\n",
       "3   769  21     37      63  2021-03-02T13_06_53\n",
       "4   774  22     21      58  2021-03-03T12_07_59\n",
       "5   766  23     27      61  2021-03-04T13_14_28\n",
       "6   767  25     28      61  2021-03-05T13_32_27\n",
       "7   767  21     27      57  2021-03-08T12_13_37\n",
       "8   770  27     26      59  2021-03-09T12_10_16\n",
       "9   761  27     30      56  2021-03-10T12_47_28\n",
       "10  758  12     30      66  2021-03-12T11_07_02\n",
       "11  762  12     30      63  2021-03-15T12_17_38\n",
       "12  759  13     29      71  2021-03-16T12_14_52\n",
       "13  767  19     25      62  2021-03-17T12_28_16\n",
       "14  762  20     32      57  2021-03-18T12_41_06\n",
       "15  755  17     20      70  2021-03-19T12_22_22\n",
       "16  760  14     14      59  2021-03-22T12_22_14\n",
       "17  770  27     18      61  2021-03-11T12_36_49"
      ]
     },
     "execution_count": 68,
     "metadata": {},
     "output_type": "execute_result"
    }
   ],
   "source": [
    "rw1_rois_convert"
   ]
  },
  {
   "cell_type": "markdown",
   "metadata": {},
   "source": [
    "## <font color=mediumseagreen> Convert measurments from pixels (px) to cm\n",
    "***"
   ]
  },
  {
   "cell_type": "code",
   "execution_count": 59,
   "metadata": {},
   "outputs": [],
   "source": [
    "def convert_px_to_cm(df, ratcode,filename):\n",
    "    \n",
    "    df_numeric = df.select_dtypes(include=['int64'])\n",
    "    \n",
    "    # Convert df data from px to cm\n",
    "    df_numeric = (df_numeric*10)/50\n",
    "    df_numeric['session'] = df['session']\n",
    "    \n",
    "    #Save df\n",
    "    path=os.path.join(video_files_path, \"ROIS\", \"%s_%s.csv\"%(ratcode, filename))    \n",
    "    df_numeric.to_csv(path,header=True)\n",
    "    \n",
    "    return df_numeric\n",
    "\n",
    "#Convert pixels to cm (50 px = 10 cm)\n",
    "rw1_rois = convert_px_to_cm(rw1_rois_convert, ratcode, 'rw1_rois_converted')\n",
    "rw2_rois = convert_px_to_cm(rw2_rois_convert, ratcode, 'rw2_rois_converted')\n",
    "cp_rois = convert_px_to_cm(cp_rois_convert, ratcode, 'cp_rois_converted')"
   ]
  },
  {
   "cell_type": "code",
   "execution_count": 69,
   "metadata": {},
   "outputs": [
    {
     "data": {
      "text/html": [
       "<div>\n",
       "<style scoped>\n",
       "    .dataframe tbody tr th:only-of-type {\n",
       "        vertical-align: middle;\n",
       "    }\n",
       "\n",
       "    .dataframe tbody tr th {\n",
       "        vertical-align: top;\n",
       "    }\n",
       "\n",
       "    .dataframe thead th {\n",
       "        text-align: right;\n",
       "    }\n",
       "</style>\n",
       "<table border=\"1\" class=\"dataframe\">\n",
       "  <thead>\n",
       "    <tr style=\"text-align: right;\">\n",
       "      <th></th>\n",
       "      <th>x</th>\n",
       "      <th>y</th>\n",
       "      <th>width</th>\n",
       "      <th>height</th>\n",
       "      <th>session</th>\n",
       "    </tr>\n",
       "  </thead>\n",
       "  <tbody>\n",
       "    <tr>\n",
       "      <th>0</th>\n",
       "      <td>153.4</td>\n",
       "      <td>4.4</td>\n",
       "      <td>5.2</td>\n",
       "      <td>13.0</td>\n",
       "      <td>2021-02-25T11_52_06</td>\n",
       "    </tr>\n",
       "    <tr>\n",
       "      <th>1</th>\n",
       "      <td>154.2</td>\n",
       "      <td>4.4</td>\n",
       "      <td>6.8</td>\n",
       "      <td>12.2</td>\n",
       "      <td>2021-02-26T12_03_28</td>\n",
       "    </tr>\n",
       "    <tr>\n",
       "      <th>2</th>\n",
       "      <td>154.2</td>\n",
       "      <td>4.4</td>\n",
       "      <td>4.8</td>\n",
       "      <td>11.6</td>\n",
       "      <td>2021-03-01T10_51_27</td>\n",
       "    </tr>\n",
       "    <tr>\n",
       "      <th>3</th>\n",
       "      <td>153.8</td>\n",
       "      <td>4.2</td>\n",
       "      <td>7.4</td>\n",
       "      <td>12.6</td>\n",
       "      <td>2021-03-02T13_06_53</td>\n",
       "    </tr>\n",
       "    <tr>\n",
       "      <th>4</th>\n",
       "      <td>154.8</td>\n",
       "      <td>4.4</td>\n",
       "      <td>4.2</td>\n",
       "      <td>11.6</td>\n",
       "      <td>2021-03-03T12_07_59</td>\n",
       "    </tr>\n",
       "    <tr>\n",
       "      <th>5</th>\n",
       "      <td>153.2</td>\n",
       "      <td>4.6</td>\n",
       "      <td>5.4</td>\n",
       "      <td>12.2</td>\n",
       "      <td>2021-03-04T13_14_28</td>\n",
       "    </tr>\n",
       "    <tr>\n",
       "      <th>6</th>\n",
       "      <td>153.4</td>\n",
       "      <td>5.0</td>\n",
       "      <td>5.6</td>\n",
       "      <td>12.2</td>\n",
       "      <td>2021-03-05T13_32_27</td>\n",
       "    </tr>\n",
       "    <tr>\n",
       "      <th>7</th>\n",
       "      <td>153.4</td>\n",
       "      <td>4.2</td>\n",
       "      <td>5.4</td>\n",
       "      <td>11.4</td>\n",
       "      <td>2021-03-08T12_13_37</td>\n",
       "    </tr>\n",
       "    <tr>\n",
       "      <th>8</th>\n",
       "      <td>154.0</td>\n",
       "      <td>5.4</td>\n",
       "      <td>5.2</td>\n",
       "      <td>11.8</td>\n",
       "      <td>2021-03-09T12_10_16</td>\n",
       "    </tr>\n",
       "    <tr>\n",
       "      <th>9</th>\n",
       "      <td>152.2</td>\n",
       "      <td>5.4</td>\n",
       "      <td>6.0</td>\n",
       "      <td>11.2</td>\n",
       "      <td>2021-03-10T12_47_28</td>\n",
       "    </tr>\n",
       "    <tr>\n",
       "      <th>10</th>\n",
       "      <td>151.6</td>\n",
       "      <td>2.4</td>\n",
       "      <td>6.0</td>\n",
       "      <td>13.2</td>\n",
       "      <td>2021-03-12T11_07_02</td>\n",
       "    </tr>\n",
       "    <tr>\n",
       "      <th>11</th>\n",
       "      <td>152.4</td>\n",
       "      <td>2.4</td>\n",
       "      <td>6.0</td>\n",
       "      <td>12.6</td>\n",
       "      <td>2021-03-15T12_17_38</td>\n",
       "    </tr>\n",
       "    <tr>\n",
       "      <th>12</th>\n",
       "      <td>151.8</td>\n",
       "      <td>2.6</td>\n",
       "      <td>5.8</td>\n",
       "      <td>14.2</td>\n",
       "      <td>2021-03-16T12_14_52</td>\n",
       "    </tr>\n",
       "    <tr>\n",
       "      <th>13</th>\n",
       "      <td>153.4</td>\n",
       "      <td>3.8</td>\n",
       "      <td>5.0</td>\n",
       "      <td>12.4</td>\n",
       "      <td>2021-03-17T12_28_16</td>\n",
       "    </tr>\n",
       "    <tr>\n",
       "      <th>14</th>\n",
       "      <td>152.4</td>\n",
       "      <td>4.0</td>\n",
       "      <td>6.4</td>\n",
       "      <td>11.4</td>\n",
       "      <td>2021-03-18T12_41_06</td>\n",
       "    </tr>\n",
       "    <tr>\n",
       "      <th>15</th>\n",
       "      <td>151.0</td>\n",
       "      <td>3.4</td>\n",
       "      <td>4.0</td>\n",
       "      <td>14.0</td>\n",
       "      <td>2021-03-19T12_22_22</td>\n",
       "    </tr>\n",
       "    <tr>\n",
       "      <th>16</th>\n",
       "      <td>152.0</td>\n",
       "      <td>2.8</td>\n",
       "      <td>2.8</td>\n",
       "      <td>11.8</td>\n",
       "      <td>2021-03-22T12_22_14</td>\n",
       "    </tr>\n",
       "    <tr>\n",
       "      <th>17</th>\n",
       "      <td>154.0</td>\n",
       "      <td>5.4</td>\n",
       "      <td>3.6</td>\n",
       "      <td>12.2</td>\n",
       "      <td>2021-03-11T12_36_49</td>\n",
       "    </tr>\n",
       "  </tbody>\n",
       "</table>\n",
       "</div>"
      ],
      "text/plain": [
       "        x    y  width  height              session\n",
       "0   153.4  4.4    5.2    13.0  2021-02-25T11_52_06\n",
       "1   154.2  4.4    6.8    12.2  2021-02-26T12_03_28\n",
       "2   154.2  4.4    4.8    11.6  2021-03-01T10_51_27\n",
       "3   153.8  4.2    7.4    12.6  2021-03-02T13_06_53\n",
       "4   154.8  4.4    4.2    11.6  2021-03-03T12_07_59\n",
       "5   153.2  4.6    5.4    12.2  2021-03-04T13_14_28\n",
       "6   153.4  5.0    5.6    12.2  2021-03-05T13_32_27\n",
       "7   153.4  4.2    5.4    11.4  2021-03-08T12_13_37\n",
       "8   154.0  5.4    5.2    11.8  2021-03-09T12_10_16\n",
       "9   152.2  5.4    6.0    11.2  2021-03-10T12_47_28\n",
       "10  151.6  2.4    6.0    13.2  2021-03-12T11_07_02\n",
       "11  152.4  2.4    6.0    12.6  2021-03-15T12_17_38\n",
       "12  151.8  2.6    5.8    14.2  2021-03-16T12_14_52\n",
       "13  153.4  3.8    5.0    12.4  2021-03-17T12_28_16\n",
       "14  152.4  4.0    6.4    11.4  2021-03-18T12_41_06\n",
       "15  151.0  3.4    4.0    14.0  2021-03-19T12_22_22\n",
       "16  152.0  2.8    2.8    11.8  2021-03-22T12_22_14\n",
       "17  154.0  5.4    3.6    12.2  2021-03-11T12_36_49"
      ]
     },
     "execution_count": 69,
     "metadata": {},
     "output_type": "execute_result"
    }
   ],
   "source": [
    "rw1_rois"
   ]
  },
  {
   "cell_type": "code",
   "execution_count": 70,
   "metadata": {},
   "outputs": [
    {
     "data": {
      "image/png": "[encoded data removed]",
      "text/plain": [
       "<Figure size 432x288 with 1 Axes>"
      ]
     },
     "metadata": {
      "needs_background": "light"
     },
     "output_type": "display_data"
    }
   ],
   "source": [
    "#Check the variability for the RW1 ROI x coordinate\n",
    "fig = plt.Figure(figsize=(5,5))\n",
    "sns.stripplot(data=rw1_rois, x='x', color='black')\n",
    "sns.boxplot(data=rw1_rois, x='x', color='lightyellow')\n",
    "plt.savefig(os.path.join(video_files_path,\"ROIS\", \"%s_rw1_rois_converted_variabilities.png\"%ratcode))\n",
    "sns.despine()"
   ]
  },
  {
   "cell_type": "code",
   "execution_count": 71,
   "metadata": {},
   "outputs": [
    {
     "data": {
      "image/png": "[encoded data removed]",
      "text/plain": [
       "<Figure size 432x288 with 1 Axes>"
      ]
     },
     "metadata": {
      "needs_background": "light"
     },
     "output_type": "display_data"
    }
   ],
   "source": [
    "#Check the variability for the RW2 ROI x coordinate\n",
    "fig = plt.Figure(figsize=(5,5))\n",
    "sns.stripplot(data=rw2_rois, x='x', color='black')\n",
    "sns.boxplot(data=rw2_rois, x='x', color='lightgreen')\n",
    "plt.savefig(os.path.join(video_files_path,\"ROIS\", \"%s_rw2_rois_converted_variabilities.png\"%ratcode))\n",
    "sns.despine()"
   ]
  },
  {
   "cell_type": "code",
   "execution_count": 62,
   "metadata": {},
   "outputs": [
    {
     "data": {
      "image/png": "[encoded data removed]",
      "text/plain": [
       "<Figure size 576x576 with 4 Axes>"
      ]
     },
     "metadata": {
      "needs_background": "light"
     },
     "output_type": "display_data"
    }
   ],
   "source": [
    "#Check the variability for the CP ROI coordinates and size upon conversion\n",
    "fig, ((ax1, ax2), (ax3, ax4)) = plt.subplots(2, 2, figsize=(8,8))\n",
    "\n",
    "sns.stripplot(data=cp_rois, x='x', color='black', ax=ax1)\n",
    "ax1 = sns.boxplot(data=cp_rois, x='x', color='lightyellow', ax=ax1)\n",
    "\n",
    "ax2 = sns.stripplot(data=cp_rois, x='y', color='black', ax=ax2)\n",
    "ax2 = sns.boxplot(data=cp_rois, x='y', color='lightgreen', ax=ax2)\n",
    "\n",
    "ax3 = sns.stripplot(data=cp_rois, x='width', color='black', ax=ax3)\n",
    "ax3 = sns.boxplot(data=cp_rois, x='width', color='lightblue', ax=ax3)\n",
    "\n",
    "ax4 = sns.stripplot(data=cp_rois, x='height', color='black',ax=ax4)\n",
    "ax4 = sns.boxplot(data=cp_rois, x='height', color='mistyrose', ax=ax4)\n",
    "\n",
    "sns.despine()\n",
    "plt.savefig(os.path.join(video_files_path,\"ROIS\", \"%s_cp_rois_converted_variabilities.png\"%ratcode))"
   ]
  },
  {
   "cell_type": "code",
   "execution_count": null,
   "metadata": {},
   "outputs": [],
   "source": []
  }
 ],
 "metadata": {
  "kernelspec": {
   "display_name": "Python 3",
   "language": "python",
   "name": "python3"
  },
  "language_info": {
   "codemirror_mode": {
    "name": "ipython",
    "version": 3
   },
   "file_extension": ".py",
   "mimetype": "text/x-python",
   "name": "python",
   "nbconvert_exporter": "python",
   "pygments_lexer": "ipython3",
   "version": "3.8.8"
  }
 },
 "nbformat": 4,
 "nbformat_minor": 4
}
